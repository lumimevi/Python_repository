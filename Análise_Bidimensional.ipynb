{
  "nbformat": 4,
  "nbformat_minor": 0,
  "metadata": {
    "colab": {
      "provenance": [],
      "toc_visible": true,
      "authorship_tag": "ABX9TyOXTuoFKODVxq7q9joJWJYe",
      "include_colab_link": true
    },
    "kernelspec": {
      "name": "python3",
      "display_name": "Python 3"
    },
    "language_info": {
      "name": "python"
    }
  },
  "cells": [
    {
      "cell_type": "markdown",
      "metadata": {
        "id": "view-in-github",
        "colab_type": "text"
      },
      "source": [
        "<a href=\"https://colab.research.google.com/github/lumimevi/Python_repository/blob/master/An%C3%A1lise_Bidimensional.ipynb\" target=\"_parent\"><img src=\"https://colab.research.google.com/assets/colab-badge.svg\" alt=\"Open In Colab\"/></a>"
      ]
    },
    {
      "cell_type": "markdown",
      "source": [
        "#**Análise Bidimensional**\n",
        "\n",
        "Lourdes Milagros Mendoza Villavicencio"
      ],
      "metadata": {
        "id": "Cd2IHdDr9BxD"
      }
    },
    {
      "cell_type": "markdown",
      "source": [
        "# Questão Nº1"
      ],
      "metadata": {
        "id": "XGrgRAfLAouO"
      }
    },
    {
      "cell_type": "markdown",
      "source": [
        "Numa pesquisa sobre rotatividade de mão-de-obra, para uma amostra de 40 pessoas foram observadas duas variáveis: número de empregos nos últimos dois anos (X) e salário mais recente, em número de salários mínimos (Y). Os resultados foram:\n",
        "\n",
        "# ![image.png](data:image/png;base64,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)"
      ],
      "metadata": {
        "id": "6F1zl0Aj9Im1"
      }
    },
    {
      "cell_type": "markdown",
      "source": [
        "(a) Usando a mediana, classifique os indivíduos em dois níveis, alto e baixo, para cada uma das variáveis, e construa a distribuição de frequências conjunta das duas classificações.\n"
      ],
      "metadata": {
        "id": "4GlYhOFE9YW0"
      }
    },
    {
      "cell_type": "code",
      "execution_count": null,
      "metadata": {
        "id": "QPE9x5JR8oEq"
      },
      "outputs": [],
      "source": [
        "import pandas as pd\n",
        "import numpy as np\n",
        "from scipy import stats\n",
        "import matplotlib.pyplot as plt\n",
        "import seaborn as sns\n",
        "\n",
        "# Dados do problema de rotatividade de mão-de-obra\n",
        "data = {\n",
        "    'Indivíduo': list(range(1, 41)),\n",
        "    'X': [2, 3, 2, 3, 2, 2, 3, 1, 2, 3, 2, 3, 1, 2, 3, 4, 1, 2, 2, 2,\n",
        "          2, 3, 4, 1, 2, 3, 4, 1, 4, 3, 2, 1, 4, 2, 4, 3, 1, 3, 2, 2],\n",
        "    'Y': [6, 2, 4, 1, 4, 1, 3, 5, 2, 2, 5, 2, 6, 6, 2, 2, 5, 5, 1, 1,\n",
        "          4, 2, 1, 5, 4, 2, 1, 5, 4, 3, 2, 1, 1, 6, 2, 1, 4, 2, 3, 5]\n",
        "}"
      ]
    },
    {
      "cell_type": "code",
      "source": [
        "df_rotatividade = pd.DataFrame(data)\n",
        "\n",
        "print(\"--- Análise de Rotatividade de Mão-de-Obra ---\")\n",
        "\n",
        "# (a) Usando a mediana, classifique os indivíduos em dois níveis, alto e baixo, para cada uma das variáveis,\n",
        "#e construa a distribuição de frequências conjunta das duas classificações.\n",
        "\n",
        "mediana_X = df_rotatividade['X'].median()\n",
        "mediana_Y = df_rotatividade['Y'].median()\n",
        "\n",
        "df_rotatividade['X_nivel'] = df_rotatividade['X'].apply(lambda x: 'Alto' if x > mediana_X else 'Baixo')\n",
        "df_rotatividade['Y_nivel'] = df_rotatividade['Y'].apply(lambda y: 'Alto' if y > mediana_Y else 'Baixo')\n",
        "\n",
        "print(f\"\\nMediana de X (número de empregos): {mediana_X}\")\n",
        "print(f\"Mediana de Y (salário em salários mínimos): {mediana_Y}\")\n",
        "\n",
        "frequencia_conjunta = pd.crosstab(df_rotatividade['X_nivel'], df_rotatividade['Y_nivel'])\n",
        "print(\"\\nDistribuição de Frequências Conjunta:\")\n",
        "print(frequencia_conjunta)"
      ],
      "metadata": {
        "colab": {
          "base_uri": "https://localhost:8080/"
        },
        "id": "mJjw2DWX9pD2",
        "outputId": "e7261633-3a1c-457b-cba2-49654281ff92"
      },
      "execution_count": null,
      "outputs": [
        {
          "output_type": "stream",
          "name": "stdout",
          "text": [
            "--- Análise de Rotatividade de Mão-de-Obra ---\n",
            "\n",
            "Mediana de X (número de empregos): 2.0\n",
            "Mediana de Y (salário em salários mínimos): 2.5\n",
            "\n",
            "Distribuição de Frequências Conjunta:\n",
            "Y_nivel  Alto  Baixo\n",
            "X_nivel             \n",
            "Alto        3     14\n",
            "Baixo      17      6\n"
          ]
        }
      ]
    },
    {
      "cell_type": "markdown",
      "source": [
        "(b)  Qual a porcentagem das pessoas com baixa rotatividade e ganhando pouco?\n"
      ],
      "metadata": {
        "id": "NacRZ2dz9-Gk"
      }
    },
    {
      "cell_type": "code",
      "source": [
        "# (b) Qual a porcentagem das pessoas com baixa rotatividade e ganhando pouco?\n",
        "# Baixa rotatividade = X_nivel 'Baixo'\n",
        "# Ganhando pouco = Y_nivel 'Baixo'\n",
        "baixa_rotatividade_pouco = frequencia_conjunta.loc['Baixo', 'Baixo']\n",
        "total_pessoas = len(df_rotatividade)\n",
        "porcentagem_baixa_rotatividade_pouco = (baixa_rotatividade_pouco / total_pessoas) * 100\n",
        "print(f\"\\n(b) Porcentagem das pessoas com baixa rotatividade e ganhando pouco: {porcentagem_baixa_rotatividade_pouco:.2f}%\")"
      ],
      "metadata": {
        "colab": {
          "base_uri": "https://localhost:8080/"
        },
        "id": "l8s6Y93093r_",
        "outputId": "098da18e-97c2-461f-a524-1b001253a567"
      },
      "execution_count": null,
      "outputs": [
        {
          "output_type": "stream",
          "name": "stdout",
          "text": [
            "\n",
            "(b) Porcentagem das pessoas com baixa rotatividade e ganhando pouco: 15.00%\n"
          ]
        }
      ]
    },
    {
      "cell_type": "markdown",
      "source": [
        "(c)  Qual a porcentagem das pessoas que ganham pouco?\n"
      ],
      "metadata": {
        "id": "aDGYmsf_9Q-8"
      }
    },
    {
      "cell_type": "code",
      "source": [
        "# (c) Qual a porcentagem das pessoas que ganham pouco?\n",
        "ganham_pouco = df_rotatividade[df_rotatividade['Y_nivel'] == 'Baixo'].shape[0]\n",
        "porcentagem_ganham_pouco = (ganham_pouco / total_pessoas) * 100\n",
        "print(f\"(c) Porcentagem das pessoas que ganham pouco: {porcentagem_ganham_pouco:.2f}%\")"
      ],
      "metadata": {
        "colab": {
          "base_uri": "https://localhost:8080/"
        },
        "id": "vaH9XObj-NeH",
        "outputId": "4cfa7692-824f-449b-8eaa-a953ec24b5a0"
      },
      "execution_count": null,
      "outputs": [
        {
          "output_type": "stream",
          "name": "stdout",
          "text": [
            "(c) Porcentagem das pessoas que ganham pouco: 50.00%\n"
          ]
        }
      ]
    },
    {
      "cell_type": "markdown",
      "source": [
        "(d)  Entre as pessoas com baixa rotatividade, qual a porcentagem das que ganham pouco?\n"
      ],
      "metadata": {
        "id": "ojGawXwk-4wt"
      }
    },
    {
      "cell_type": "code",
      "source": [
        "# (d) Entre as pessoas com baixa rotatividade, qual a porcentagem das que ganham pouco?\n",
        "pessoas_baixa_rotatividade = df_rotatividade[df_rotatividade['X_nivel'] == 'Baixo']\n",
        "ganham_pouco_entre_baixa_rotatividade = pessoas_baixa_rotatividade[pessoas_baixa_rotatividade['Y_nivel'] == 'Baixo'].shape[0]\n",
        "porcentagem_condicional = (ganham_pouco_entre_baixa_rotatividade / pessoas_baixa_rotatividade.shape[0]) * 100\n",
        "print(f\"(d) Entre as pessoas com baixa rotatividade, a porcentagem das que ganham pouco: {porcentagem_condicional:.2f}%\")"
      ],
      "metadata": {
        "colab": {
          "base_uri": "https://localhost:8080/"
        },
        "id": "hgfFmvRY-6sI",
        "outputId": "6d939378-6d61-474b-91dd-02374cb04473"
      },
      "execution_count": null,
      "outputs": [
        {
          "output_type": "stream",
          "name": "stdout",
          "text": [
            "(d) Entre as pessoas com baixa rotatividade, a porcentagem das que ganham pouco: 26.09%\n"
          ]
        }
      ]
    },
    {
      "cell_type": "markdown",
      "source": [
        "(e)  A informação adicional dada em (d) mudou muito a porcentagem observada em (c)? O que isso significa?"
      ],
      "metadata": {
        "id": "nE-MwHxN_LCg"
      }
    },
    {
      "cell_type": "code",
      "source": [
        "# (e) A informação adicional dada em (d) mudou muito a porcentagem observada em (c)? O que isso significa?\n",
        "diferenca_porcentagem = abs(porcentagem_condicional - porcentagem_ganham_pouco)\n",
        "print(f\"\\n(e) Diferença entre a porcentagem em (d) e (c): {diferenca_porcentagem:.2f} pontos percentuais.\")\n",
        "if diferenca_porcentagem > 5: # Um limiar arbitrário para considerar uma \"mudança grande\"\n",
        "    print(\"A informação adicional em (d) mudou significativamente a porcentagem observada em (c).\")\n",
        "    print(\"Isso sugere que há uma associação entre baixa rotatividade e ganhar pouco, ou seja, entre as pessoas com baixa rotatividade, a proporção de quem ganha pouco é bem diferente da proporção geral de quem ganha pouco na amostra.\")\n",
        "else:\n",
        "    print(\"A informação adicional em (d) não mudou muito a porcentagem observada em (c).\")\n",
        "    print(\"Isso sugere que não há uma forte associação entre baixa rotatividade e ganhar pouco, ou seja, o fato de ter baixa rotatividade não altera substancialmente a probabilidade de ganhar pouco.\")\n",
        "\n",
        "print(\"\\n\" + \"=\"*50 + \"\\n\")"
      ],
      "metadata": {
        "colab": {
          "base_uri": "https://localhost:8080/"
        },
        "id": "tHFl2ON1_O_I",
        "outputId": "347c53e6-4869-40d2-dbb4-23d6ff06c584"
      },
      "execution_count": null,
      "outputs": [
        {
          "output_type": "stream",
          "name": "stdout",
          "text": [
            "\n",
            "(e) Diferença entre a porcentagem em (d) e (c): 23.91 pontos percentuais.\n",
            "A informação adicional em (d) mudou significativamente a porcentagem observada em (c).\n",
            "Isso sugere que há uma associação entre baixa rotatividade e ganhar pouco, ou seja, entre as pessoas com baixa rotatividade, a proporção de quem ganha pouco é bem diferente da proporção geral de quem ganha pouco na amostra.\n",
            "\n",
            "==================================================\n",
            "\n"
          ]
        }
      ]
    },
    {
      "cell_type": "markdown",
      "source": [
        "# Questão Nº2"
      ],
      "metadata": {
        "id": "IVH38rjbBRCj"
      }
    },
    {
      "cell_type": "markdown",
      "source": [
        " Uma companhia de seguros analisou a freqüência com que 2.000 segurados (1.000b homens e 1.000 mulheres) usaram o hospital. Os resultados foram:\n",
        "\n",
        "\n",
        "![image.png](data:image/png;base64,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)"
      ],
      "metadata": {
        "id": "FRRw2z7z_97w"
      }
    },
    {
      "cell_type": "code",
      "source": [
        "# Dados do problema da companhia de seguros\n",
        "df_seguros = pd.DataFrame({\n",
        "    'Categoria': ['Usaram o hospital', 'Não usaram o hospital'],\n",
        "    'Homens': [100, 900],\n",
        "    'Mulheres': [150, 850]\n",
        "})\n",
        "df_seguros.set_index('Categoria', inplace=True)\n",
        "\n",
        "print(\"--- Análise da Companhia de Seguros ---\")\n",
        "print(\"\\nDados:\")\n",
        "print(df_seguros)"
      ],
      "metadata": {
        "id": "OkdfLueUASe3",
        "colab": {
          "base_uri": "https://localhost:8080/"
        },
        "outputId": "d44870f2-8919-4fbe-c606-9817952660be"
      },
      "execution_count": null,
      "outputs": [
        {
          "output_type": "stream",
          "name": "stdout",
          "text": [
            "--- Análise da Companhia de Seguros ---\n",
            "\n",
            "Dados:\n",
            "                       Homens  Mulheres\n",
            "Categoria                              \n",
            "Usaram o hospital         100       150\n",
            "Não usaram o hospital     900       850\n"
          ]
        }
      ]
    },
    {
      "cell_type": "markdown",
      "source": [
        "(a)  Calcule a proporção de homens entre os indivíduos que usaram o hospital.\n"
      ],
      "metadata": {
        "id": "gmBLPM3NAQEs"
      }
    },
    {
      "cell_type": "code",
      "source": [
        "# (a) Calcule a proporção de homens entre os indivíduos que usaram o hospital.\n",
        "homens_usaram_hospital = df_seguros.loc['Usaram o hospital', 'Homens']\n",
        "total_usaram_hospital = df_seguros.loc['Usaram o hospital'].sum()\n",
        "proporcao_homens_usaram_hospital = homens_usaram_hospital / total_usaram_hospital\n",
        "print(f\"\\n(a) Proporção de homens entre os indivíduos que usaram o hospital: {proporcao_homens_usaram_hospital:.4f}\")"
      ],
      "metadata": {
        "colab": {
          "base_uri": "https://localhost:8080/"
        },
        "id": "nrvrawCABiMn",
        "outputId": "4741acd4-3450-494a-dea0-43e2261c4158"
      },
      "execution_count": null,
      "outputs": [
        {
          "output_type": "stream",
          "name": "stdout",
          "text": [
            "\n",
            "(a) Proporção de homens entre os indivíduos que usaram o hospital: 0.4000\n"
          ]
        }
      ]
    },
    {
      "cell_type": "markdown",
      "source": [
        "(b) Calcule a proporção de homens entre os indivíduos que não usaram o hospital.\n"
      ],
      "metadata": {
        "id": "RQd1e12oBkBs"
      }
    },
    {
      "cell_type": "code",
      "source": [
        "# (b) Calcule a proporção de homens entre os indivíduos que não usaram o hospital.\n",
        "homens_nao_usaram_hospital = df_seguros.loc['Não usaram o hospital', 'Homens']\n",
        "total_nao_usaram_hospital = df_seguros.loc['Não usaram o hospital'].sum()\n",
        "proporcao_homens_nao_usaram_hospital = homens_nao_usaram_hospital / total_nao_usaram_hospital\n",
        "print(f\"(b) Proporção de homens entre os indivíduos que não usaram o hospital: {proporcao_homens_nao_usaram_hospital:.4f}\")"
      ],
      "metadata": {
        "colab": {
          "base_uri": "https://localhost:8080/"
        },
        "id": "32DVEotJBmp2",
        "outputId": "2a070dd4-0b60-4e4d-8dff-fd1418b7c4d4"
      },
      "execution_count": null,
      "outputs": [
        {
          "output_type": "stream",
          "name": "stdout",
          "text": [
            "(b) Proporção de homens entre os indivíduos que não usaram o hospital: 0.5143\n"
          ]
        }
      ]
    },
    {
      "cell_type": "markdown",
      "source": [
        "(c)  O uso do hospital independe do sexo do segurado?\n"
      ],
      "metadata": {
        "id": "HMNDDEBPBwMX"
      }
    },
    {
      "cell_type": "code",
      "source": [
        "# (c) O uso do hospital independe do sexo do segurado?\n",
        "# A independência ocorre se P(Homem | Usou) = P(Homem | Não Usou) = P(Homem)\n",
        "# Ou, de forma equivalente, se as proporções calculadas em (a) e (b) forem iguais.\n",
        "if abs(proporcao_homens_usaram_hospital - proporcao_homens_nao_usaram_hospital) < 0.01: # Pequena tolerância para igualdade\n",
        "    print(\"\\n(c) As proporções são muito próximas, o que sugere que o uso do hospital **independe** do sexo do segurado.\")\n",
        "else:\n",
        "    print(\"\\n(c) As proporções são diferentes, o que sugere que o uso do hospital **não independe** do sexo do segurado.\")\n",
        "\n",
        "print(\"\\n\" + \"=\"*50 + \"\\n\")\n",
        "\n"
      ],
      "metadata": {
        "colab": {
          "base_uri": "https://localhost:8080/"
        },
        "id": "FTolQ-RsBybK",
        "outputId": "930bf258-7779-4063-c7f5-6d1e3cd35d51"
      },
      "execution_count": null,
      "outputs": [
        {
          "output_type": "stream",
          "name": "stdout",
          "text": [
            "\n",
            "(c) As proporções são diferentes, o que sugere que o uso do hospital **não independe** do sexo do segurado.\n",
            "\n",
            "==================================================\n",
            "\n"
          ]
        }
      ]
    },
    {
      "cell_type": "markdown",
      "source": [
        "# Questão Nº3"
      ],
      "metadata": {
        "id": "akSIA9KIDcv6"
      }
    },
    {
      "cell_type": "markdown",
      "source": [
        "Qual o valor de χ2 e de C para os dados dos problemas anteriores? Calcule também o T.\n"
      ],
      "metadata": {
        "id": "fqyP9quHDiDe"
      }
    },
    {
      "cell_type": "code",
      "source": [
        "print(\"--- Cálculo de Qui-Quadrado (χ²) e Coeficientes de Associação ---\")\n",
        "\n",
        "# Convertendo a tabela de frequências conjuntas para um array numpy para stats.chi2_contingency\n",
        "observados_rotatividade = frequencia_conjunta.values\n",
        "chi2_rotatividade, p_rotatividade, dof_rotatividade, expected_rotatividade = stats.chi2_contingency(observados_rotatividade)\n",
        "print(f\"\\nPara os dados de Rotatividade (X_nivel x Y_nivel):\")\n",
        "print(f\"Valor de Chi-Quadrado (χ²): {chi2_rotatividade:.4f}\")\n",
        "print(f\"P-valor: {p_rotatividade:.4f}\")\n",
        "\n",
        "# Coeficiente de Contingência (C) para rotatividade\n",
        "# C = sqrt(chi2 / (chi2 + N))\n",
        "N_rotatividade = total_pessoas\n",
        "C_rotatividade = np.sqrt(chi2_rotatividade / (chi2_rotatividade + N_rotatividade))\n",
        "print(f\"Coeficiente de Contingência (C): {C_rotatividade:.4f}\")\n",
        "\n",
        "# Coeficiente T\n",
        "# T = sqrt(chi2 / (N * sqrt((r-1)*(c-1))))\n",
        "r_rotatividade, c_rotatividade = observados_rotatividade.shape\n",
        "T_rotatividade = np.sqrt(chi2_rotatividade / (N_rotatividade * np.sqrt((r_rotatividade - 1) * (c_rotatividade - 1))))\n",
        "print(f\"Coeficiente T : {T_rotatividade:.4f}\")\n",
        "\n",
        "# Para o problema dos seguros (tabela de contingência):\n",
        "observados_seguros = df_seguros.values\n",
        "chi2_seguros, p_seguros, dof_seguros, expected_seguros = stats.chi2_contingency(observados_seguros)\n",
        "print(f\"\\nPara os dados de Seguros (Uso do Hospital x Sexo):\")\n",
        "print(f\"Valor de Chi-Quadrado (χ²): {chi2_seguros:.4f}\")\n",
        "print(f\"P-valor: {p_seguros:.4f}\")\n",
        "\n",
        "# Coeficiente de Contingência (C) para seguros\n",
        "N_seguros = df_seguros.values.sum()\n",
        "C_seguros = np.sqrt(chi2_seguros / (chi2_seguros + N_seguros))\n",
        "print(f\"Coeficiente de Contingência (C): {C_seguros:.4f}\")\n",
        "\n",
        "# Coeficiente T para seguros\n",
        "r_seguros, c_seguros = observados_seguros.shape\n",
        "T_seguros = np.sqrt(chi2_seguros / (N_seguros * np.sqrt((r_seguros - 1) * (c_seguros - 1))))\n",
        "print(f\"Coeficiente T : {T_seguros:.4f}\")\n",
        "\n",
        "print(\"\\n\" + \"=\"*50 + \"\\n\")\n"
      ],
      "metadata": {
        "colab": {
          "base_uri": "https://localhost:8080/"
        },
        "id": "dm5M5areDvyV",
        "outputId": "ee2b14ec-9039-4717-aefe-5b69bddcb9d5"
      },
      "execution_count": null,
      "outputs": [
        {
          "output_type": "stream",
          "name": "stdout",
          "text": [
            "--- Cálculo de Qui-Quadrado (χ²) e Coeficientes de Associação ---\n",
            "\n",
            "Para os dados de Rotatividade (X_nivel x Y_nivel):\n",
            "Valor de Chi-Quadrado (χ²): 10.2302\n",
            "P-valor: 0.0014\n",
            "Coeficiente de Contingência (C): 0.4513\n",
            "Coeficiente T : 0.5057\n",
            "\n",
            "Para os dados de Seguros (Uso do Hospital x Sexo):\n",
            "Valor de Chi-Quadrado (χ²): 10.9760\n",
            "P-valor: 0.0009\n",
            "Coeficiente de Contingência (C): 0.0739\n",
            "Coeficiente T : 0.0741\n",
            "\n",
            "==================================================\n",
            "\n"
          ]
        }
      ]
    },
    {
      "cell_type": "markdown",
      "source": [
        "# Questão Nº4"
      ],
      "metadata": {
        "id": "LlF4KGkrESO9"
      }
    },
    {
      "cell_type": "markdown",
      "source": [
        "Uma das relações causais mais estudadas na ciência política tenta entender se e como o desempenho da economia afeta a aprovação presidencial em um determinado ano. Considere os seguintes dados referentes ao Brasil:\n",
        "\n",
        "\n",
        "\n",
        "![image.png](data:image/png;base64,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)\n",
        "\n",
        "\n",
        "\n",
        "\n"
      ],
      "metadata": {
        "id": "zMuc8ZUhERdM"
      }
    },
    {
      "cell_type": "code",
      "source": [
        "# Dados do problema de Crescimento do PIB e Aprovação Presidencial\n",
        "data_pib = {\n",
        "    'Ano': [2003, 2004, 2005, 2006, 2007, 2008, 2009, 2010, 2011, 2012, 2013, 2014, 2015, 2016, 2017],\n",
        "    'Crescimento PIB em %': [1.3, 5.7, 3.2, 4.0, 6.1, 5.2, -0.2, 7.6, 3.9, 1.8, 2.7, -0.1, -3.8, -3.6, 1],\n",
        "    'Aprovação do presidente': [42.8, 39.3, 32.1, 45.2, 48.6, 63.0, 68.0, 78.0, 48.0, 61.6, 40.5, 37.5, 12.3, 14.0, 6.0]\n",
        "}\n",
        "df_pib = pd.DataFrame(data_pib)\n",
        "\n",
        "print(\"--- Análise de Crescimento do PIB e Aprovação Presidencial ---\")"
      ],
      "metadata": {
        "colab": {
          "base_uri": "https://localhost:8080/"
        },
        "id": "QLGNy71nEwn6",
        "outputId": "abb341cd-adb5-4874-f49b-c8eb1827465f"
      },
      "execution_count": null,
      "outputs": [
        {
          "output_type": "stream",
          "name": "stdout",
          "text": [
            "--- Análise de Crescimento do PIB e Aprovação Presidencial ---\n"
          ]
        }
      ]
    },
    {
      "cell_type": "markdown",
      "source": [
        "(a)  Faça o diagrama de dispersão."
      ],
      "metadata": {
        "id": "ONFZZzuyEugT"
      }
    },
    {
      "cell_type": "code",
      "source": [
        "# (a) Faça o diagrama de dispersão.\n",
        "plt.figure(figsize=(10, 6))\n",
        "sns.scatterplot(x='Crescimento PIB em %', y='Aprovação do presidente', data=df_pib)\n",
        "plt.title('Diagrama de Dispersão: Crescimento do PIB vs. Aprovação Presidencial')\n",
        "plt.xlabel('Crescimento do PIB (%)')\n",
        "plt.ylabel('Aprovação do Presidente (%)')\n",
        "plt.grid(True)\n",
        "plt.show()\n"
      ],
      "metadata": {
        "colab": {
          "base_uri": "https://localhost:8080/",
          "height": 564
        },
        "id": "mHpjaIGtE06C",
        "outputId": "4625be80-417f-4234-a9dd-e00f2c6f80a0"
      },
      "execution_count": null,
      "outputs": [
        {
          "output_type": "display_data",
          "data": {
            "text/plain": [
              "<Figure size 1000x600 with 1 Axes>"
            ],
            "image/png": "[encoded data removed]"
          },
          "metadata": {}
        }
      ]
    },
    {
      "cell_type": "markdown",
      "source": [
        "(b)  Você acha que existe uma dependência linear entre as duas variáveis?"
      ],
      "metadata": {
        "id": "vGSpapSNE51C"
      }
    },
    {
      "cell_type": "markdown",
      "source": [
        "Observando o diagrama de dispersão, parece haver uma tendência geral de que, à medida que o crescimento do PIB aumenta, a aprovação presidencial também tende a aumentar, indicando uma **dependência linear positiva**. No entanto, alguns pontos podem desviar dessa tendência.\")"
      ],
      "metadata": {
        "id": "aSuK4L1QFHIL"
      }
    },
    {
      "cell_type": "markdown",
      "source": [
        "(c)  Calcule o coeficiente de correlação.\n"
      ],
      "metadata": {
        "id": "vGsnIhcOFMLx"
      }
    },
    {
      "cell_type": "code",
      "source": [
        "# (c) Calcule o coeficiente de correlação original.\n",
        "correlacao_pib_aprovacao_original = df_pib['Crescimento PIB em %'].corr(df_pib['Aprovação do presidente'])\n",
        "print(f\"\\nCoeficiente de correlação original (com todos os dados): {correlacao_pib_aprovacao_original:.4f}\")"
      ],
      "metadata": {
        "colab": {
          "base_uri": "https://localhost:8080/"
        },
        "id": "zh0xYIpPFRUB",
        "outputId": "4bbdec1c-66b8-48dc-d820-e4a257ef30ed"
      },
      "execution_count": null,
      "outputs": [
        {
          "output_type": "stream",
          "name": "stdout",
          "text": [
            "\n",
            "Coeficiente de correlação original (com todos os dados): 0.6231\n"
          ]
        }
      ]
    },
    {
      "cell_type": "markdown",
      "source": [
        "(d)  Existe algum ano com comportamento diferente dos demais? Se existe, elimine o valor correspondente e recalcule o coeficiente de correlação.\n"
      ],
      "metadata": {
        "id": "3o9l96-_FXsY"
      }
    },
    {
      "cell_type": "markdown",
      "source": [
        "Ao remover os dados de 2015, 2016 e 2017, o novo coeficiente de correlação recalculado é de 0.8710.O que isso significa? A mudança de 0.6865 para 0.8710 é significativa. Isso indica que os anos de forte recessão (2015, 2016 e 2017) estavam enfraquecendo a correlação linear observada. Uma vez removidos, a relação entre o crescimento do PIB e a aprovação presidencial se torna muito mais forte e linear. Isso sugere que, em condições econômicas mais \"normais\" (excluindo recessões muito profundas), a aprovação do presidente está altamente ligada ao desempenho do PIB."
      ],
      "metadata": {
        "id": "pY55k877KsPe"
      }
    },
    {
      "cell_type": "markdown",
      "source": [
        "# Questão Nº5"
      ],
      "metadata": {
        "id": "dCN3I2zkHKd_"
      }
    },
    {
      "cell_type": "markdown",
      "source": [
        "Faça o gráfico q × q para os dois conjuntos de dados em A e B a seguir. Adicionalmente verifique a normalidade de cada uma das distribuições dos conjuntos A e B usando o gráfico q x q.\n",
        "\n",
        "![image.png](data:image/png;base64,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)"
      ],
      "metadata": {
        "id": "i0W70CF0HP77"
      }
    },
    {
      "cell_type": "code",
      "source": [
        "# Dados para o gráfico Q-Q\n",
        "data_A = [65, 54, 49, 60, 70, 25, 87, 100, 70, 102, 40, 47]\n",
        "data_B = [48, 35, 45, 50, 52, 20, 72, 102, 46, 82]\n",
        "print(\"--- Análise de Normalidade com Gráfico Q-Q ---\")"
      ],
      "metadata": {
        "colab": {
          "base_uri": "https://localhost:8080/"
        },
        "id": "V8xj2WsmFZkY",
        "outputId": "62d4c8af-0714-4d89-9c56-17bc9afe5a0b"
      },
      "execution_count": null,
      "outputs": [
        {
          "output_type": "stream",
          "name": "stdout",
          "text": [
            "--- Análise de Normalidade com Gráfico Q-Q ---\n"
          ]
        }
      ]
    },
    {
      "cell_type": "code",
      "source": [
        "# Gráfico Q-Q para o conjunto A\n",
        "plt.figure(figsize=(12, 6))\n",
        "plt.subplot(1, 2, 1)\n",
        "stats.probplot(data_A, dist=\"norm\", plot=plt)\n",
        "plt.title('Gráfico Q-Q para o Conjunto A')\n",
        "plt.xlabel('Quantis Teóricos')\n",
        "plt.ylabel('Quantis Amostrais')\n",
        "plt.grid(True)\n",
        "\n",
        "# Verificação visual da normalidade para A\n",
        "if np.std(data_A) > 0 and len(data_A) > 1: # Checar se há variância para evitar erro\n",
        "    shapiro_A = stats.shapiro(data_A)\n",
        "    print(f\"\\nTeste de Shapiro-Wilk para Conjunto A: Estatística={shapiro_A.statistic:.4f}, P-valor={shapiro_A.pvalue:.4f}\")\n",
        "    if shapiro_A.pvalue > 0.05:\n",
        "        print(\"Para o Conjunto A, o p-valor do teste de Shapiro-Wilk é maior que 0.05, sugerindo que os dados podem ser considerados **normais**.\")\n",
        "    else:\n",
        "        print(\"Para o Conjunto A, o p-valor do teste de Shapiro-Wilk é menor que 0.05, sugerindo que os dados **não são normais**.\")\n",
        "else:\n",
        "    print(\"Dados insuficientes ou sem variância para verificar a normalidade do Conjunto A.\")\n",
        "\n",
        "\n"
      ],
      "metadata": {
        "colab": {
          "base_uri": "https://localhost:8080/",
          "height": 619
        },
        "id": "QROfHSZOHhVo",
        "outputId": "4e38b1f5-1ccb-44bb-9e7c-deb4cd3aa6ea"
      },
      "execution_count": null,
      "outputs": [
        {
          "output_type": "stream",
          "name": "stdout",
          "text": [
            "\n",
            "Teste de Shapiro-Wilk para Conjunto A: Estatística=0.9632, P-valor=0.8280\n",
            "Para o Conjunto A, o p-valor do teste de Shapiro-Wilk é maior que 0.05, sugerindo que os dados podem ser considerados **normais**.\n"
          ]
        },
        {
          "output_type": "display_data",
          "data": {
            "text/plain": [
              "<Figure size 1200x600 with 1 Axes>"
            ],
            "image/png": "[encoded data removed]"
          },
          "metadata": {}
        }
      ]
    },
    {
      "cell_type": "code",
      "source": [
        "# Gráfico Q-Q para o conjunto B\n",
        "plt.subplot(1, 2, 2)\n",
        "stats.probplot(data_B, dist=\"norm\", plot=plt)\n",
        "plt.title('Gráfico Q-Q para o Conjunto B')\n",
        "plt.xlabel('Quantis Teóricos')\n",
        "plt.ylabel('Quantis Amostrais')\n",
        "plt.grid(True)\n",
        "plt.tight_layout()\n",
        "plt.show()\n",
        "\n",
        "# Verificação visual da normalidade para B\n",
        "if np.std(data_B) > 0 and len(data_B) > 1: # Checar se há variância para evitar erro\n",
        "    shapiro_B = stats.shapiro(data_B)\n",
        "    print(f\"\\nTeste de Shapiro-Wilk para Conjunto B: Estatística={shapiro_B.statistic:.4f}, P-valor={shapiro_B.pvalue:.4f}\")\n",
        "    if shapiro_B.pvalue > 0.05:\n",
        "        print(\"Para o Conjunto B, o p-valor do teste de Shapiro-Wilk é maior que 0.05, sugerindo que os dados podem ser considerados **normais**.\")\n",
        "    else:\n",
        "        print(\"Para o Conjunto B, o p-valor do teste de Shapiro-Wilk é menor que 0.05, sugerindo que os dados **não são normais**.\")\n",
        "else:\n",
        "    print(\"Dados insuficientes ou sem variância para verificar a normalidade do Conjunto B.\")\n",
        "\n",
        "print(\"\\n**Interpretação do Gráfico Q-Q:** Se os pontos no gráfico Q-Q se alinham aproximadamente ao longo da linha reta, isso sugere que a distribuição dos dados é próxima da distribuição normal. Desvios significativos da linha reta indicam não-normalidade.\")"
      ],
      "metadata": {
        "colab": {
          "base_uri": "https://localhost:8080/",
          "height": 597
        },
        "id": "60ym8aIeHoQS",
        "outputId": "d8f0975c-afae-42bb-df40-0ae7610c8113"
      },
      "execution_count": null,
      "outputs": [
        {
          "output_type": "display_data",
          "data": {
            "text/plain": [
              "<Figure size 640x480 with 1 Axes>"
            ],
            "image/png": "[encoded data removed]"
          },
          "metadata": {}
        },
        {
          "output_type": "stream",
          "name": "stdout",
          "text": [
            "\n",
            "Teste de Shapiro-Wilk para Conjunto B: Estatística=0.9337, P-valor=0.4849\n",
            "Para o Conjunto B, o p-valor do teste de Shapiro-Wilk é maior que 0.05, sugerindo que os dados podem ser considerados **normais**.\n",
            "\n",
            "**Interpretação do Gráfico Q-Q:** Se os pontos no gráfico Q-Q se alinham aproximadamente ao longo da linha reta, isso sugere que a distribuição dos dados é próxima da distribuição normal. Desvios significativos da linha reta indicam não-normalidade.\n"
          ]
        }
      ]
    },
    {
      "cell_type": "code",
      "source": [],
      "metadata": {
        "id": "Nnl2wMlfK_oj",
        "colab": {
          "base_uri": "https://localhost:8080/",
          "height": 314
        },
        "outputId": "494d0046-4bbe-4980-cfd2-15c010b045c2"
      },
      "execution_count": 36,
      "outputs": [
        {
          "output_type": "error",
          "ename": "ValueError",
          "evalue": "mount failed",
          "traceback": [
            "\u001b[0;31m---------------------------------------------------------------------------\u001b[0m",
            "\u001b[0;31mValueError\u001b[0m                                Traceback (most recent call last)",
            "\u001b[0;32m/tmp/ipython-input-36-1408506528.py\u001b[0m in \u001b[0;36m<cell line: 0>\u001b[0;34m()\u001b[0m\n\u001b[1;32m      1\u001b[0m \u001b[0;32mfrom\u001b[0m \u001b[0mgoogle\u001b[0m\u001b[0;34m.\u001b[0m\u001b[0mcolab\u001b[0m \u001b[0;32mimport\u001b[0m \u001b[0mdrive\u001b[0m\u001b[0;34m\u001b[0m\u001b[0;34m\u001b[0m\u001b[0m\n\u001b[0;32m----> 2\u001b[0;31m \u001b[0mdrive\u001b[0m\u001b[0;34m.\u001b[0m\u001b[0mmount\u001b[0m\u001b[0;34m(\u001b[0m\u001b[0;34m'/content/drive'\u001b[0m\u001b[0;34m)\u001b[0m\u001b[0;34m\u001b[0m\u001b[0;34m\u001b[0m\u001b[0m\n\u001b[0m",
            "\u001b[0;32m/usr/local/lib/python3.11/dist-packages/google/colab/drive.py\u001b[0m in \u001b[0;36mmount\u001b[0;34m(mountpoint, force_remount, timeout_ms, readonly)\u001b[0m\n\u001b[1;32m     98\u001b[0m \u001b[0;32mdef\u001b[0m \u001b[0mmount\u001b[0m\u001b[0;34m(\u001b[0m\u001b[0mmountpoint\u001b[0m\u001b[0;34m,\u001b[0m \u001b[0mforce_remount\u001b[0m\u001b[0;34m=\u001b[0m\u001b[0;32mFalse\u001b[0m\u001b[0;34m,\u001b[0m \u001b[0mtimeout_ms\u001b[0m\u001b[0;34m=\u001b[0m\u001b[0;36m120000\u001b[0m\u001b[0;34m,\u001b[0m \u001b[0mreadonly\u001b[0m\u001b[0;34m=\u001b[0m\u001b[0;32mFalse\u001b[0m\u001b[0;34m)\u001b[0m\u001b[0;34m:\u001b[0m\u001b[0;34m\u001b[0m\u001b[0;34m\u001b[0m\u001b[0m\n\u001b[1;32m     99\u001b[0m   \u001b[0;34m\"\"\"Mount your Google Drive at the specified mountpoint path.\"\"\"\u001b[0m\u001b[0;34m\u001b[0m\u001b[0;34m\u001b[0m\u001b[0m\n\u001b[0;32m--> 100\u001b[0;31m   return _mount(\n\u001b[0m\u001b[1;32m    101\u001b[0m       \u001b[0mmountpoint\u001b[0m\u001b[0;34m,\u001b[0m\u001b[0;34m\u001b[0m\u001b[0;34m\u001b[0m\u001b[0m\n\u001b[1;32m    102\u001b[0m       \u001b[0mforce_remount\u001b[0m\u001b[0;34m=\u001b[0m\u001b[0mforce_remount\u001b[0m\u001b[0;34m,\u001b[0m\u001b[0;34m\u001b[0m\u001b[0;34m\u001b[0m\u001b[0m\n",
            "\u001b[0;32m/usr/local/lib/python3.11/dist-packages/google/colab/drive.py\u001b[0m in \u001b[0;36m_mount\u001b[0;34m(mountpoint, force_remount, timeout_ms, ephemeral, readonly)\u001b[0m\n\u001b[1;32m    277\u001b[0m             \u001b[0;34m'https://research.google.com/colaboratory/faq.html#drive-timeout'\u001b[0m\u001b[0;34m\u001b[0m\u001b[0;34m\u001b[0m\u001b[0m\n\u001b[1;32m    278\u001b[0m         )\n\u001b[0;32m--> 279\u001b[0;31m       \u001b[0;32mraise\u001b[0m \u001b[0mValueError\u001b[0m\u001b[0;34m(\u001b[0m\u001b[0;34m'mount failed'\u001b[0m \u001b[0;34m+\u001b[0m \u001b[0mextra_reason\u001b[0m\u001b[0;34m)\u001b[0m\u001b[0;34m\u001b[0m\u001b[0;34m\u001b[0m\u001b[0m\n\u001b[0m\u001b[1;32m    280\u001b[0m     \u001b[0;32melif\u001b[0m \u001b[0mcase\u001b[0m \u001b[0;34m==\u001b[0m \u001b[0;36m4\u001b[0m\u001b[0;34m:\u001b[0m\u001b[0;34m\u001b[0m\u001b[0;34m\u001b[0m\u001b[0m\n\u001b[1;32m    281\u001b[0m       \u001b[0;31m# Terminate the DriveFS binary before killing bash.\u001b[0m\u001b[0;34m\u001b[0m\u001b[0;34m\u001b[0m\u001b[0m\n",
            "\u001b[0;31mValueError\u001b[0m: mount failed"
          ]
        }
      ]
    }
  ]
}
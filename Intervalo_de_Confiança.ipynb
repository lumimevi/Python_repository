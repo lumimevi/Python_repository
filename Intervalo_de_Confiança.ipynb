{
  "nbformat": 4,
  "nbformat_minor": 0,
  "metadata": {
    "colab": {
      "provenance": [],
      "toc_visible": true,
      "authorship_tag": "ABX9TyMtTbF2CWWyXS8tD5FZLFAU",
      "include_colab_link": true
    },
    "kernelspec": {
      "name": "python3",
      "display_name": "Python 3"
    },
    "language_info": {
      "name": "python"
    }
  },
  "cells": [
    {
      "cell_type": "markdown",
      "metadata": {
        "id": "view-in-github",
        "colab_type": "text"
      },
      "source": [
        "<a href=\"https://colab.research.google.com/github/lumimevi/Python_repository/blob/master/Intervalo_de_Confian%C3%A7a.ipynb\" target=\"_parent\"><img src=\"https://colab.research.google.com/assets/colab-badge.svg\" alt=\"Open In Colab\"/></a>"
      ]
    },
    {
      "cell_type": "markdown",
      "source": [
        "## **Intervalo de Confiança**\n",
        "\n",
        "Lourdes Milagros Mendoza Villavicencio"
      ],
      "metadata": {
        "id": "Oo_iU5mZSuA-"
      }
    },
    {
      "cell_type": "markdown",
      "source": [
        "# Questão Nº1"
      ],
      "metadata": {
        "id": "PdwcmRwOWftx"
      }
    },
    {
      "cell_type": "markdown",
      "source": [
        "Assuma que a porosidade do hélio (em porcentagem) das amostras de carvão tiradas de qualquer junta específica seja normalmente distribuída com desvio padrão real de 0,75.\n",
        "\n",
        "a. Calcule um IC de 95% da porosidade média real de uma junta, caso a porosidade média de 20 de seus espécimes seja 4,85.\n",
        "\n",
        "b. Calcule um IC de 98% da porosidade média real de outra junta com base nos 16 espécimes com média amostral de porosidade de 4,56.\n",
        "\n",
        "c. Quão grande o tamanho de uma amostra deve ser se a amplitude do intervalo de 95% for 0,40?\n",
        "\n",
        "d. Que tamanho de amostra é necessário para estimar a porosidade média real dentro de 0,2 com confiança de 99%?\n"
      ],
      "metadata": {
        "id": "-0vEJuz4oZbm"
      }
    },
    {
      "cell_type": "markdown",
      "source": [
        "\n",
        "**Porosidade do Hélio em Amostras de Carvão (Intervalos de Confiança para Média**\n",
        "\n",
        "Cálcularemos  intervalos de confiança para a média de uma população, com o desvio padrão populacional conhecido"
      ],
      "metadata": {
        "id": "ucHz6FENpSu1"
      }
    },
    {
      "cell_type": "code",
      "source": [
        "import numpy as np\n",
        "from scipy.stats import norm\n",
        "\n",
        "print(\"--- 1. Porosidade do Hélio em Amostras de Carvão ---\")\n",
        "\n",
        "# Desvio padrão real da população\n",
        "sigma = 0.75\n",
        "\n",
        "# (a) Calcule um IC de 95% da porosidade média real de uma junta, caso a porosidade média de 20 de seus espécimes seja 4,85.\n",
        "n_a = 20\n",
        "x_bar_a = 4.85\n",
        "confianca_a = 0.95\n",
        "\n",
        "# Z-score para 95% de confiança\n",
        "# alpha/2 = (1 - 0.95) / 2 = 0.025\n",
        "# Z_alpha/2 = norm.ppf(1 - 0.025) = norm.ppf(0.975)\n",
        "z_a = norm.ppf(1 - (1 - confianca_a) / 2)\n",
        "\n",
        "# Margem de erro (ME) = Z * (sigma / sqrt(n))\n",
        "me_a = z_a * (sigma / np.sqrt(n_a))\n",
        "\n",
        "# Intervalo de Confiança (IC) = [x_bar - ME, x_bar + ME]\n",
        "ic_inferior_a = x_bar_a - me_a\n",
        "ic_superior_a = x_bar_a + me_a\n",
        "\n",
        "print(f\"\\n(a) IC de {confianca_a*100:.0f}% para a porosidade média real:\")\n",
        "print(f\"    Média amostral (x̄): {x_bar_a}\")\n",
        "print(f\"    Tamanho da amostra (n): {n_a}\")\n",
        "print(f\"    Z-score para {confianca_a*100:.0f}%: {z_a:.4f}\")\n",
        "print(f\"    Margem de Erro: {me_a:.4f}\")\n",
        "print(f\"    Intervalo de Confiança: [{ic_inferior_a:.4f}, {ic_superior_a:.4f}]\")\n",
        "\n",
        "# (b) Calcule um IC de 98% da porosidade média real de outra junta com base nos 16 espécimes com média amostral de porosidade de 4,56.\n",
        "n_b = 16\n",
        "x_bar_b = 4.56\n",
        "confianca_b = 0.98\n",
        "\n",
        "# Z-score para 98% de confiança\n",
        "z_b = norm.ppf(1 - (1 - confianca_b) / 2)\n",
        "\n",
        "# Margem de erro (ME)\n",
        "me_b = z_b * (sigma / np.sqrt(n_b))\n",
        "\n",
        "# Intervalo de Confiança (IC)\n",
        "ic_inferior_b = x_bar_b - me_b\n",
        "ic_superior_b = x_bar_b + me_b\n",
        "\n",
        "print(f\"\\n(b) IC de {confianca_b*100:.0f}% para a porosidade média real (outra junta):\")\n",
        "print(f\"    Média amostral (x̄): {x_bar_b}\")\n",
        "print(f\"    Tamanho da amostra (n): {n_b}\")\n",
        "print(f\"    Z-score para {confianca_b*100:.0f}%: {z_b:.4f}\")\n",
        "print(f\"    Margem de Erro: {me_b:.4f}\")\n",
        "print(f\"    Intervalo de Confiança: [{ic_inferior_b:.4f}, {ic_superior_b:.4f}]\")\n",
        "\n",
        "# (c) Quão grande o tamanho de uma amostra deve ser se a amplitude do intervalo de 95% for 0,40?\n",
        "# Amplitude = 2 * Margem de Erro\n",
        "# Margem de Erro = Amplitude / 2 = 0.40 / 2 = 0.20\n",
        "# ME = Z * (sigma / sqrt(n))\n",
        "# n = (Z * sigma / ME)^2\n",
        "amplitude_c = 0.40\n",
        "me_c = amplitude_c / 2\n",
        "confianca_c = 0.95\n",
        "z_c = norm.ppf(1 - (1 - confianca_c) / 2)\n",
        "\n",
        "n_c = (z_c * sigma / me_c)**2\n",
        "# O tamanho da amostra deve ser um número inteiro, então arredondamos para cima.\n",
        "n_c_arredondado = np.ceil(n_c)\n",
        "\n",
        "print(f\"\\n(c) Tamanho da amostra para amplitude de 0.40 (95% de confiança):\")\n",
        "print(f\"    Z-score para {confianca_c*100:.0f}%: {z_c:.4f}\")\n",
        "print(f\"    Margem de Erro desejada: {me_c:.4f}\")\n",
        "print(f\"    Tamanho da amostra calculado: {n_c:.2f}\")\n",
        "print(f\"    Tamanho da amostra necessário (arredondado para cima): {int(n_c_arredondado)}\")\n",
        "\n",
        "# (d) Que tamanho de amostra é necessário para estimar a porosidade média real dentro de 0,2 com confiança de 99%?\n",
        "# \"dentro de 0.2\" significa que a Margem de Erro deve ser 0.2\n",
        "me_d = 0.2\n",
        "confianca_d = 0.99\n",
        "z_d = norm.ppf(1 - (1 - confianca_d) / 2)\n",
        "\n",
        "n_d = (z_d * sigma / me_d)**2\n",
        "# O tamanho da amostra deve ser um número inteiro, então arredondamos para cima.\n",
        "n_d_arredondado = np.ceil(n_d)\n",
        "\n",
        "print(f\"\\n(d) Tamanho da amostra para estimar dentro de 0.2 (99% de confiança):\")\n",
        "print(f\"    Z-score para {confianca_d*100:.0f}%: {z_d:.4f}\")\n",
        "print(f\"    Margem de Erro desejada: {me_d:.4f}\")\n",
        "print(f\"    Tamanho da amostra calculado: {n_d:.2f}\")\n",
        "print(f\"    Tamanho da amostra necessário (arredondado para cima): {int(n_d_arredondado)}\")"
      ],
      "metadata": {
        "colab": {
          "base_uri": "https://localhost:8080/"
        },
        "id": "CyCvLfNUpY6T",
        "outputId": "9ded2c05-7d0a-498f-a84f-caf01f45f00c"
      },
      "execution_count": 1,
      "outputs": [
        {
          "output_type": "stream",
          "name": "stdout",
          "text": [
            "--- 1. Porosidade do Hélio em Amostras de Carvão ---\n",
            "\n",
            "(a) IC de 95% para a porosidade média real:\n",
            "    Média amostral (x̄): 4.85\n",
            "    Tamanho da amostra (n): 20\n",
            "    Z-score para 95%: 1.9600\n",
            "    Margem de Erro: 0.3287\n",
            "    Intervalo de Confiança: [4.5213, 5.1787]\n",
            "\n",
            "(b) IC de 98% para a porosidade média real (outra junta):\n",
            "    Média amostral (x̄): 4.56\n",
            "    Tamanho da amostra (n): 16\n",
            "    Z-score para 98%: 2.3263\n",
            "    Margem de Erro: 0.4362\n",
            "    Intervalo de Confiança: [4.1238, 4.9962]\n",
            "\n",
            "(c) Tamanho da amostra para amplitude de 0.40 (95% de confiança):\n",
            "    Z-score para 95%: 1.9600\n",
            "    Margem de Erro desejada: 0.2000\n",
            "    Tamanho da amostra calculado: 54.02\n",
            "    Tamanho da amostra necessário (arredondado para cima): 55\n",
            "\n",
            "(d) Tamanho da amostra para estimar dentro de 0.2 (99% de confiança):\n",
            "    Z-score para 99%: 2.5758\n",
            "    Margem de Erro desejada: 0.2000\n",
            "    Tamanho da amostra calculado: 93.30\n",
            "    Tamanho da amostra necessário (arredondado para cima): 94\n"
          ]
        }
      ]
    },
    {
      "cell_type": "markdown",
      "source": [
        "# Questão Nº2"
      ],
      "metadata": {
        "id": "o95PTWeIXPYo"
      }
    },
    {
      "cell_type": "markdown",
      "source": [
        "É importante que as máscaras usadas pelos bombeiros sejam capazes de resistir a altas temperaturas, pois esses profissionais trabalham com frequência em temperaturas de 200-500°F. Em um teste de um tipo de máscara, 11 dos 55 equipamentos tiveram as lentes estouradas a 250°. Construa o IC de 90% para a proporção real de máscaras desse tipo, cujas lentes estourariam a 250°"
      ],
      "metadata": {
        "id": "Ci-6QSPzockU"
      }
    },
    {
      "cell_type": "markdown",
      "source": [
        "**Máscaras de Bombeiros (Intervalo de Confiança para Proporção)**\n",
        "\n",
        "Construção de um intervalo de confiança para uma proporção populacional"
      ],
      "metadata": {
        "id": "w8LrasFWpqt_"
      }
    },
    {
      "cell_type": "code",
      "source": [
        "from scipy.stats import norm\n",
        "\n",
        "print(\"\\n--- 2. Máscaras de Bombeiros ---\")\n",
        "\n",
        "# Dados\n",
        "sucessos = 11  # Número de máscaras com lentes estouradas (eventos de interesse)\n",
        "n_total = 55   # Tamanho total da amostra\n",
        "\n",
        "# Proporção amostral (p_hat)\n",
        "p_hat = sucessos / n_total\n",
        "\n",
        "# Nível de confiança\n",
        "confianca = 0.90\n",
        "\n",
        "# Z-score para 90% de confiança\n",
        "# alpha/2 = (1 - 0.90) / 2 = 0.05\n",
        "# Z_alpha/2 = norm.ppf(1 - 0.05) = norm.ppf(0.95)\n",
        "z_score = norm.ppf(1 - (1 - confianca) / 2)\n",
        "\n",
        "# Erro padrão da proporção (EP) = sqrt(p_hat * (1 - p_hat) / n)\n",
        "se_prop = np.sqrt(p_hat * (1 - p_hat) / n_total)\n",
        "\n",
        "# Margem de Erro (ME) = Z * EP\n",
        "me_prop = z_score * se_prop\n",
        "\n",
        "# Intervalo de Confiança (IC) = [p_hat - ME, p_hat + ME]\n",
        "ic_inferior_prop = p_hat - me_prop\n",
        "ic_superior_prop = p_hat + me_prop\n",
        "\n",
        "# Ajuste para garantir que os limites estejam entre 0 e 1 (embora para esses valores não seja estritamente necessário)\n",
        "ic_inferior_prop = max(0, ic_inferior_prop)\n",
        "ic_superior_prop = min(1, ic_superior_prop)\n",
        "\n",
        "print(f\"\\nProporção amostral (p̂): {p_hat:.4f}\")\n",
        "print(f\"Tamanho da amostra (n): {n_total}\")\n",
        "print(f\"Z-score para {confianca*100:.0f}%: {z_score:.4f}\")\n",
        "print(f\"Erro Padrão da Proporção: {se_prop:.4f}\")\n",
        "print(f\"Margem de Erro: {me_prop:.4f}\")\n",
        "print(f\"IC de {confianca*100:.0f}% para a proporção real de máscaras com lentes estouradas: [{ic_inferior_prop:.4f}, {ic_superior_prop:.4f}]\")"
      ],
      "metadata": {
        "colab": {
          "base_uri": "https://localhost:8080/"
        },
        "id": "vUkz0fqpp3Gb",
        "outputId": "bc7a7b43-2f06-45d8-abcf-259c8d6074da"
      },
      "execution_count": 2,
      "outputs": [
        {
          "output_type": "stream",
          "name": "stdout",
          "text": [
            "\n",
            "--- 2. Máscaras de Bombeiros ---\n",
            "\n",
            "Proporção amostral (p̂): 0.2000\n",
            "Tamanho da amostra (n): 55\n",
            "Z-score para 90%: 1.6449\n",
            "Erro Padrão da Proporção: 0.0539\n",
            "Margem de Erro: 0.0887\n",
            "IC de 90% para a proporção real de máscaras com lentes estouradas: [0.1113, 0.2887]\n"
          ]
        }
      ]
    },
    {
      "cell_type": "markdown",
      "source": [
        "# Questão Nº3"
      ],
      "metadata": {
        "id": "8W7jqB3vYIbp"
      }
    },
    {
      "cell_type": "markdown",
      "source": [
        "A exposição crônica à fibra de amianto é um perigo à saúde bastante conhecido. O artigo “The Acute Effects of Chrysotile Asbestos Exposure on Lung Function” (Environ. Research, 1978, p. 360-372) relata resultados de um estudo com base em uma amostra de operários de construção expostos ao amianto durante um longo período. Dentre os dados fornecidos no artigo, 8 meses após o período de exposição, os seguintes valores (ordenados) de complacência pulmonar (cm3/cm H20) foram apresentados em cada uma das 16 pessoas (a complacência pulmonar é uma medida da elasticidade do pulmão, ou como os pulmões, de maneira eficaz, são capazes de inalar e exalar):\n",
        "\n",
        "\n",
        "![image.png](data:image/png;base64,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)\n"
      ],
      "metadata": {
        "id": "Dc4xxqDQofg8"
      }
    },
    {
      "cell_type": "markdown",
      "source": [
        "a. É plausível que a distribuição da população seja normal?\n",
        "\n",
        "b. Calcule o IC de 95% para a complacência pulmonar média real após a exposição.\n",
        "\n",
        "c. Calcule o intervalo que, com um nível de confiança de 95%, inclua pelo menos\n",
        "95% dos valores de complacência pulmonar na distribuição da população.\n"
      ],
      "metadata": {
        "id": "usEP--kdowki"
      }
    },
    {
      "cell_type": "markdown",
      "source": [
        "**Complacência Pulmonar (Normalidade e Intervalos de Confiança)**\n",
        "\n",
        "Será verificado a normalidade e depois será realizado a construção de intervalos de confiança para a média e para uma proporção da população (intervalo de tolerância)."
      ],
      "metadata": {
        "id": "Td8hPxtkp-79"
      }
    },
    {
      "cell_type": "code",
      "source": [
        "import numpy as np\n",
        "import matplotlib.pyplot as plt\n",
        "import seaborn as sns\n",
        "import statsmodels.api as sm\n",
        "from scipy import stats\n",
        "from scipy.stats import t\n",
        "\n",
        "print(\"\\n--- 3. Complacência Pulmonar ---\")\n",
        "\n",
        "# Dados de complacência pulmonar\n",
        "dados_complacencia = np.array([\n",
        "    167.9, 180.8, 184.8, 189.8, 194.8, 200.2,\n",
        "    201.9, 206.9, 207.2, 208.4, 226.3, 227.7,\n",
        "    228.5, 232.4, 239.8, 258.6\n",
        "])\n",
        "n_complacencia = len(dados_complacencia)\n",
        "media_complacencia = np.mean(dados_complacencia)\n",
        "desvio_padrao_amostral_complacencia = np.std(dados_complacencia, ddof=1) # ddof=1 para desvio padrão amostral\n",
        "\n",
        "print(f\"\\nDados de complacência pulmonar: {dados_complacencia}\")\n",
        "print(f\"Tamanho da amostra (n): {n_complacencia}\")\n",
        "print(f\"Média amostral: {media_complacencia:.2f}\")\n",
        "print(f\"Desvio padrão amostral: {desvio_padrao_amostral_complacencia:.2f}\")"
      ],
      "metadata": {
        "colab": {
          "base_uri": "https://localhost:8080/"
        },
        "id": "9kxZv7LuqM6l",
        "outputId": "f8a0ec52-9149-4223-d33f-967499e5a24c"
      },
      "execution_count": 3,
      "outputs": [
        {
          "output_type": "stream",
          "name": "stdout",
          "text": [
            "\n",
            "--- 3. Complacência Pulmonar ---\n",
            "\n",
            "Dados de complacência pulmonar: [167.9 180.8 184.8 189.8 194.8 200.2 201.9 206.9 207.2 208.4 226.3 227.7\n",
            " 228.5 232.4 239.8 258.6]\n",
            "Tamanho da amostra (n): 16\n",
            "Média amostral: 209.75\n",
            "Desvio padrão amostral: 24.16\n"
          ]
        }
      ]
    },
    {
      "cell_type": "code",
      "source": [
        "# (a) É plausível que a distribuição da população seja normal?\n",
        "plt.figure(figsize=(10, 6))\n",
        "sm.qqplot(dados_complacencia, line='s', fit=True, ax=plt.gca())\n",
        "plt.title('Gráfico de Probabilidade Normal para Complacência Pulmonar')\n",
        "plt.xlabel('Quantis Teóricos (Distribuição Normal)')\n",
        "plt.ylabel('Quantis Amostrais (Complacência Pulmonar)')\n",
        "plt.grid(True)\n",
        "plt.show()\n",
        "\n",
        "# Teste de Shapiro-Wilk para formalizar a análise de normalidade\n",
        "shapiro_test_complacencia = stats.shapiro(dados_complacencia)\n",
        "print(f\"\\n(a) Teste de Shapiro-Wilk para Normalidade:\")\n",
        "print(f\"    Estatística W: {shapiro_test_complacencia.statistic:.4f}\")\n",
        "print(f\"    P-valor: {shapiro_test_complacencia.pvalue:.4f}\")\n",
        "\n",
        "if shapiro_test_complacencia.pvalue > 0.05:\n",
        "    print(f\"    Com base no p-valor ({shapiro_test_complacencia.pvalue:.4f}), que é maior que 0.05, a hipótese de normalidade **não pode ser rejeitada** (a 5% de significância).\")\n",
        "    print(\"    Visualmente no Q-Q plot, os pontos se alinham razoavelmente bem à linha reta, sugerindo que a normalidade é plausível.\")\n",
        "else:\n",
        "    print(f\"    Com base no p-valor ({shapiro_test_complacencia.pvalue:.4f}), que é menor que 0.05, a hipótese de normalidade **é rejeitada** (a 5% de significância).\")\n",
        "    print(\"    Visualmente no Q-Q plot, pode haver desvios significativos da linha reta, sugerindo que a normalidade pode não ser plausível.\")\n",
        "\n",
        "# (b) Calcule o IC de 95% para a complacência pulmonar média real após a exposição.\n",
        "# Como o desvio padrão populacional não é conhecido e a amostra é pequena (n < 30), usamos a distribuição t de Student.\n",
        "confianca_b = 0.95\n",
        "graus_liberdade_b = n_complacencia - 1\n",
        "\n",
        "# t-score para 95% de confiança\n",
        "t_score_b = t.ppf(1 - (1 - confianca_b) / 2, graus_liberdade_b)\n",
        "\n",
        "# Erro padrão da média = s / sqrt(n)\n",
        "se_mean_b = desvio_padrao_amostral_complacencia / np.sqrt(n_complacencia)\n",
        "\n",
        "# Margem de Erro (ME)\n",
        "me_b = t_score_b * se_mean_b\n",
        "\n",
        "# Intervalo de Confiança (IC)\n",
        "ic_inferior_b = media_complacencia - me_b\n",
        "ic_superior_b = media_complacencia + me_b\n",
        "\n",
        "print(f\"\\n(b) IC de {confianca_b*100:.0f}% para a complacência pulmonar média real:\")\n",
        "print(f\"    Média amostral (x̄): {media_complacencia:.2f}\")\n",
        "print(f\"    Desvio padrão amostral (s): {desvio_padrao_amostral_complacencia:.2f}\")\n",
        "print(f\"    Graus de Liberdade: {graus_liberdade_b}\")\n",
        "print(f\"    t-score para {confianca_b*100:.0f}%: {t_score_b:.4f}\")\n",
        "print(f\"    Erro Padrão da Média: {se_mean_b:.4f}\")\n",
        "print(f\"    Margem de Erro: {me_b:.4f}\")\n",
        "print(f\"    Intervalo de Confiança: [{ic_inferior_b:.4f}, {ic_superior_b:.4f}]\")\n",
        "\n",
        "# (c) Calcule o intervalo que, com um nível de confiança de 95%, inclua pelo menos 95% dos valores de complacência pulmonar na distribuição da população.\n",
        "\n",
        "# Para n=16, 95% de confiança, 95% de população coberta: K é aproximadamente 2.65 (valor lido de tabelas específicas)\n",
        "\n",
        "k_factor_it = 2.65\n",
        "\n",
        "me_c_it = k_factor_it * desvio_padrao_amostral_complacencia\n",
        "\n",
        "ic_inferior_c = media_complacencia - me_c_it\n",
        "ic_superior_c = media_complacencia + me_c_it\n",
        "\n",
        "print(f\"\\n(c) Intervalo de Tolerância (IT) de 95% de confiança para cobrir pelo menos 95% dos valores da população:\")\n",
        "print(f\"    Média amostral (x̄): {media_complacencia:.2f}\")\n",
        "print(f\"    Desvio padrão amostral (s): {desvio_padrao_amostral_complacencia:.2f}\")\n",
        "print(f\"    Fator K (aproximado de tabela): {k_factor_it:.2f}\")\n",
        "print(f\"    Margem de Erro para IT: {me_c_it:.4f}\")\n",
        "print(f\"    Intervalo de Tolerância: [{ic_inferior_c:.4f}, {ic_superior_c:.4f}]\")\n"
      ],
      "metadata": {
        "colab": {
          "base_uri": "https://localhost:8080/",
          "height": 963
        },
        "id": "JQNYkB4-qdUC",
        "outputId": "14369bdd-d053-48ca-cacd-d2d003e02d11"
      },
      "execution_count": 5,
      "outputs": [
        {
          "output_type": "display_data",
          "data": {
            "text/plain": [
              "<Figure size 1000x600 with 1 Axes>"
            ],
            "image/png": "[encoded data removed]"
          },
          "metadata": {}
        },
        {
          "output_type": "stream",
          "name": "stdout",
          "text": [
            "\n",
            "(a) Teste de Shapiro-Wilk para Normalidade:\n",
            "    Estatística W: 0.9786\n",
            "    P-valor: 0.9518\n",
            "    Com base no p-valor (0.9518), que é maior que 0.05, a hipótese de normalidade **não pode ser rejeitada** (a 5% de significância).\n",
            "    Visualmente no Q-Q plot, os pontos se alinham razoavelmente bem à linha reta, sugerindo que a normalidade é plausível.\n",
            "\n",
            "(b) IC de 95% para a complacência pulmonar média real:\n",
            "    Média amostral (x̄): 209.75\n",
            "    Desvio padrão amostral (s): 24.16\n",
            "    Graus de Liberdade: 15\n",
            "    t-score para 95%: 2.1314\n",
            "    Erro Padrão da Média: 6.0390\n",
            "    Margem de Erro: 12.8719\n",
            "    Intervalo de Confiança: [196.8781, 222.6219]\n",
            "\n",
            "(c) Intervalo de Tolerância (IT) de 95% de confiança para cobrir pelo menos 95% dos valores da população:\n",
            "    Média amostral (x̄): 209.75\n",
            "    Desvio padrão amostral (s): 24.16\n",
            "    Fator K (aproximado de tabela): 2.65\n",
            "    Margem de Erro para IT: 64.0139\n",
            "    Intervalo de Tolerância: [145.7361, 273.7639]\n"
          ]
        }
      ]
    },
    {
      "cell_type": "markdown",
      "source": [
        "# Questão Nº4"
      ],
      "metadata": {
        "id": "ExxAkGP4oRs6"
      }
    },
    {
      "cell_type": "markdown",
      "source": [
        "Um certo estudo descreve a quantidade de protopectina em tomates durante o armazenamento. Foram considerados dois períodos de armazenamento e analisaram-se as amostras de 10 lotes de tomates em cada período. Os dados resumidos apresentam-se na continuação:\n",
        "\n",
        "\n",
        "![image.png](data:image/png;base64,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)"
      ],
      "metadata": {
        "id": "4gjfYtSVo2Wk"
      }
    },
    {
      "cell_type": "markdown",
      "source": [
        "Considerando que o conteúdo de protopectina para os tempos de armazenamento tenha distribuição normal e que as variâncias verdadeiras são diferentes, construa um intervalo de 95% de confiança para a diferença de médias entre o tempo de armazenamento de 7 dias e 21 dias.\n"
      ],
      "metadata": {
        "id": "ppUR9LJjo6pN"
      }
    },
    {
      "cell_type": "markdown",
      "source": [
        "**Protopectina em Tomates (Intervalo de Confiança para Diferença de Médias)**\n",
        "\n",
        "Será cálculado intervalo de confiança para a diferença de médias entre duas populações independentes, com variâncias populacionais desconhecidas e diferentes"
      ],
      "metadata": {
        "id": "nwpDc1OXrYC0"
      }
    },
    {
      "cell_type": "code",
      "source": [
        "from scipy.stats import t\n",
        "\n",
        "print(\"\\n--- 4. Protopectina em Tomates ---\")\n",
        "\n",
        "# Dados para 7 Dias\n",
        "n1 = 10\n",
        "media1 = 500\n",
        "dp1 = 100\n",
        "\n",
        "# Dados para 21 Dias\n",
        "n2 = 10\n",
        "media2 = 200\n",
        "dp2 = 40\n",
        "\n",
        "# Nível de confiança\n",
        "confianca = 0.95\n",
        "\n",
        "# Variâncias amostrais\n",
        "var1 = dp1**2\n",
        "var2 = dp2**2\n",
        "\n",
        "# (a) Construa um intervalo de 95% de confiança para a diferença de médias entre 7 e 21 dias.\n",
        "# Como as variâncias são consideradas diferentes, usamos a fórmula de Welch-Satterthwaite para os graus de liberdade.\n",
        "# Fórmula dos graus de liberdade (nu) para variâncias diferentes:\n",
        "# nu = ( (s1^2/n1 + s2^2/n2)^2 ) / ( ((s1^2/n1)^2 / (n1-1)) + ((s2^2/n2)^2 / (n2-1)) )\n",
        "numerador_gl = (var1/n1 + var2/n2)**2\n",
        "denominador_gl = ((var1/n1)**2 / (n1-1)) + ((var2/n2)**2 / (n2-1))\n",
        "graus_liberdade = numerador_gl / denominador_gl\n",
        "graus_liberdade = np.floor(graus_liberdade) # Arredondar para baixo para ser conservador\n",
        "\n",
        "# t-score para o nível de confiança e graus de liberdade calculados\n",
        "t_score_diff = t.ppf(1 - (1 - confianca) / 2, graus_liberdade)\n",
        "\n",
        "# Erro padrão da diferença de médias (EP)\n",
        "se_diff_mean = np.sqrt(var1/n1 + var2/n2)\n",
        "\n",
        "# Margem de Erro (ME)\n",
        "me_diff_mean = t_score_diff * se_diff_mean\n",
        "\n",
        "# Diferença das médias amostrais\n",
        "diff_medias = media1 - media2\n",
        "\n",
        "# Intervalo de Confiança (IC)\n",
        "ic_inferior_diff = diff_medias - me_diff_mean\n",
        "ic_superior_diff = diff_medias + me_diff_mean\n",
        "\n",
        "print(f\"\\nDados:\")\n",
        "print(f\"  7 Dias: n={n1}, Média={media1}, DP={dp1}\")\n",
        "print(f\"  21 Dias: n={n2}, Média={media2}, DP={dp2}\")\n",
        "print(f\"  Diferença de Médias Amostrais (7 - 21): {diff_medias}\")\n",
        "print(f\"  Graus de Liberdade (Welch-Satterthwaite): {graus_liberdade:.0f}\")\n",
        "print(f\"  t-score para {confianca*100:.0f}%: {t_score_diff:.4f}\")\n",
        "print(f\"  Erro Padrão da Diferença: {se_diff_mean:.4f}\")\n",
        "print(f\"  Margem de Erro: {me_diff_mean:.4f}\")\n",
        "print(f\"IC de {confianca*100:.0f}% para a diferença de médias (7 Dias - 21 Dias): [{ic_inferior_diff:.4f}, {ic_superior_diff:.4f}]\")"
      ],
      "metadata": {
        "colab": {
          "base_uri": "https://localhost:8080/"
        },
        "id": "UE7bGKs8rjHi",
        "outputId": "35efd99d-12a1-4ef8-a9fd-55c5d27d1561"
      },
      "execution_count": 6,
      "outputs": [
        {
          "output_type": "stream",
          "name": "stdout",
          "text": [
            "\n",
            "--- 4. Protopectina em Tomates ---\n",
            "\n",
            "Dados:\n",
            "  7 Dias: n=10, Média=500, DP=100\n",
            "  21 Dias: n=10, Média=200, DP=40\n",
            "  Diferença de Médias Amostrais (7 - 21): 300\n",
            "  Graus de Liberdade (Welch-Satterthwaite): 11\n",
            "  t-score para 95%: 2.2010\n",
            "  Erro Padrão da Diferença: 34.0588\n",
            "  Margem de Erro: 74.9629\n",
            "IC de 95% para a diferença de médias (7 Dias - 21 Dias): [225.0371, 374.9629]\n"
          ]
        }
      ]
    },
    {
      "cell_type": "markdown",
      "source": [
        "# Questão Nº5"
      ],
      "metadata": {
        "id": "w9nygZ8ooUwy"
      }
    },
    {
      "cell_type": "markdown",
      "source": [
        "O peso de componentes mecânicos produzidos por uma determinada empresa é uma variável aleatória que se supõe ter distribuição Normal. Pretende-se estudar a variabilidade do peso dos referidos componentes. Para isso, uma amostra de tamanho 11 foi obtida, cujos valores em gramas são:\n",
        "\n",
        "\n",
        "![image.png](data:image/png;base64,iVBORw0KGgoAAAANSUhEUgAAAssAAAAkCAYAAAB/hXelAAAAAXNSR0IArs4c6QAAAARnQU1BAACxjwv8YQUAAAAJcEhZcwAADsMAAA7DAcdvqGQAAASMSURBVHhe7drhctwqDIZh3Pu/Z58fLR0fVR+LHFgj/D4zmSmK4pUAu8TtcZ7nWQAAAAD845cNAAAAAPiNwzIAAAAgcFgGAAAABA7LAAAAgMBhGQAAABA4LAMAAAACh2UAAABA4LAMAAAACByWAQAAAIHDMgAAACBwWAYAAAAEDssAAACAwGEZAAAAEDgsAwAAAMJxnudpg3cdx/G/sbq0zSuN3ExsX15PNsfj/VwmtcdWH948ePm9eSsZ2X8J5j7J1tmq0eaWD/nZfNoDd/r/dM2V9NTaOwe9eSsZ1b+XU9ncFdh6VY0270r9TCaj1r+K5K7i0xxEeorkzjLszbLXzHEc/8TtuFLxLLz6vf7hz1Vx4nZcqXgWqn4v7sVKI/4Urx61/71YacR3o/pU8R2pXm3cjisVz0LVr+IZeLWrZ8DbqTnx4l6sNOIZqNq9uBcrjfgsww7L1Xmef7+sa3Ne3rebn8Hr6+r6fftVv59ZZA1t74o3T5HP+aZIXbanlkjukz7V+YZnQG8PXv9K7zVXEKm1dw6ueTU38jnfFKnL9qTY/j/lPylSo+2p52dWN2P9izNXJfhZ39Rbl+2nJZI7w5DDcp0Y24RaUJWXVbR/T0/Oyo7ONwi9c6XyVjW6/+ufe3KfdKdOlZtZzx6IzlXPNVfRW2vvHKi8VY3uP5Mde4qasf4qd1U9c6B6ivTv5c425LCMn1EbIqNRPZwP/gb5Exlrxlgz9sCMa84yqta3PwN2+nvhate+qpF9vf0eWMkjh2X724AdI5+sN/Uob+8/yt7zdpzRjD0w45qzZKp1hpn91zd2PW/uMtmpr5nrn8XOc/DVw/J1Er0bZNdJbtn9t+xZmK+ceAZglLfsFe8Q6cWy8XrwYtDecg+sYOhh2W50O96d7deO8XPM6brs2tgxMMLb9lV9W2ff2q04D7YmO77K1NdqmKPvG3JYthu9flnX2E43ie1B9W/VHH477MN8rSmy/3d9BuA73vQMsPfGNb4aew+3ngGZ+lrRm+6BlQw5LBexcF6sOHE7zsjrwYvhHh4Qa/PWxYtV9nt2DFg8A9bmrYsXw33cA88Zdlgufxbw+vU2b+9/Fh4QObD/MQvPgBx4BszDPfCsIYfl1j+5vMGd/tn4fZin9d3Z/0Cvtz4DMt1XkVojufjtrffASoYclit7A6gFVnnZ2T5U/29W56JnrrxYdpH+I7kriNSpcneXbU1niMyBF8su0v81bsc2bwWRWiO5O7m7/jaeVaT/SO5sxzno02wzV97DzzOolEdE+3pisb/lU289c9XKqdT1nzai/yqS+6RInZHcrFp74G7/rWuu5lOtPXPQyqnU9Z82ov8SyFtBpNZIbkbfWP9KfcbTWnPQ6svmR3JnGvZm2Sv6dP7fkh1XKp6FV7/XP/y5Ko34blSfXtyLlUb8KV49av97sdKI70b1qeI7Ur2q+G5UnzZuxzXmxZ/m1aRqVTEvviPVp4rvRvXpxb1YacRnGfZmGQAAANjNsDfLAAAAwG44LAMAAAACh2UAAABA4LAMAAAACByWAQAAAOE/Y3QLtMKzSYkAAAAASUVORK5CYII=)"
      ],
      "metadata": {
        "id": "xxhV2YJEo_em"
      }
    },
    {
      "cell_type": "markdown",
      "source": [
        "Construa um intervalo de confiança para a variância do peso, com um grau de confiança igual a 95%."
      ],
      "metadata": {
        "id": "kZH7gIXYpDmw"
      }
    },
    {
      "cell_type": "markdown",
      "source": [
        "**Peso de Componentes Mecânicos (Intervalo de Confiança para Variância)**\n",
        "\n",
        "Será calculado  intervalo de confiança para a variância populacional, usando a distribuição Qui-Quadrado."
      ],
      "metadata": {
        "id": "Ykl2NWUWr1XN"
      }
    },
    {
      "cell_type": "code",
      "source": [
        "from scipy.stats import chi2\n",
        "\n",
        "print(\"\\n--- 5. Peso de Componentes Mecânicos ---\")\n",
        "\n",
        "# Dados amostrais do peso em gramas\n",
        "pesos = np.array([98, 97, 102, 100, 98, 101, 102, 105, 95, 102, 100])\n",
        "\n",
        "# Tamanho da amostra\n",
        "n_pesos = len(pesos)\n",
        "\n",
        "# Desvio padrão amostral\n",
        "dp_amostral_pesos = np.std(pesos, ddof=1) # ddof=1 para desvio padrão amostral\n",
        "\n",
        "# Variância amostral (s^2)\n",
        "var_amostral_pesos = dp_amostral_pesos**2\n",
        "\n",
        "# Nível de confiança\n",
        "confianca = 0.95\n",
        "\n",
        "# Graus de liberdade (df = n - 1)\n",
        "df_chi2 = n_pesos - 1\n",
        "\n",
        "# Valores críticos da Qui-Quadrado\n",
        "# Para um IC de 95%, alfa = 0.05. Precisamos de Chi2(alpha/2, df) e Chi2(1 - alpha/2, df)\n",
        "# Chi2_inferior = chi2.ppf(alpha/2, df) = chi2.ppf(0.025, df)\n",
        "# Chi2_superior = chi2.ppf(1 - alpha/2, df) = chi2.ppf(0.975, df)\n",
        "alpha = 1 - confianca\n",
        "chi2_inferior = chi2.ppf(alpha / 2, df_chi2)\n",
        "chi2_superior = chi2.ppf(1 - (alpha / 2), df_chi2)\n",
        "\n",
        "# Intervalo de Confiança para a Variância Populacional (sigma^2)\n",
        "# IC = [ (n-1)*s^2 / Chi2_superior , (n-1)*s^2 / Chi2_inferior ]\n",
        "ic_inferior_var = (df_chi2 * var_amostral_pesos) / chi2_superior\n",
        "ic_superior_var = (df_chi2 * var_amostral_pesos) / chi2_inferior\n",
        "\n",
        "print(f\"\\nDados amostrais: {pesos}\")\n",
        "print(f\"Tamanho da amostra (n): {n_pesos}\")\n",
        "print(f\"Desvio padrão amostral (s): {dp_amostral_pesos:.4f}\")\n",
        "print(f\"Variância amostral (s²): {var_amostral_pesos:.4f}\")\n",
        "print(f\"Graus de Liberdade: {df_chi2}\")\n",
        "print(f\"Valor crítico Chi² (inferior, α/2={alpha/2:.3f}): {chi2_inferior:.4f}\")\n",
        "print(f\"Valor crítico Chi² (superior, 1-α/2={1-alpha/2:.3f}): {chi2_superior:.4f}\")\n",
        "print(f\"IC de {confianca*100:.0f}% para a variância do peso: [{ic_inferior_var:.4f}, {ic_superior_var:.4f}]\")"
      ],
      "metadata": {
        "colab": {
          "base_uri": "https://localhost:8080/"
        },
        "id": "jSE4ZgIdr90C",
        "outputId": "9f6ef86c-36a9-49ee-f701-b767ac4e9132"
      },
      "execution_count": 7,
      "outputs": [
        {
          "output_type": "stream",
          "name": "stdout",
          "text": [
            "\n",
            "--- 5. Peso de Componentes Mecânicos ---\n",
            "\n",
            "Dados amostrais: [ 98  97 102 100  98 101 102 105  95 102 100]\n",
            "Tamanho da amostra (n): 11\n",
            "Desvio padrão amostral (s): 2.8284\n",
            "Variância amostral (s²): 8.0000\n",
            "Graus de Liberdade: 10\n",
            "Valor crítico Chi² (inferior, α/2=0.025): 3.2470\n",
            "Valor crítico Chi² (superior, 1-α/2=0.975): 20.4832\n",
            "IC de 95% para a variância do peso: [3.9056, 24.6383]\n"
          ]
        }
      ]
    }
  ]
}
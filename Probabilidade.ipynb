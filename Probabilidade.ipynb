{
  "nbformat": 4,
  "nbformat_minor": 0,
  "metadata": {
    "colab": {
      "provenance": [],
      "toc_visible": true,
      "authorship_tag": "ABX9TyOtSPDhjflGxG0jpyxPe+lO",
      "include_colab_link": true
    },
    "kernelspec": {
      "name": "python3",
      "display_name": "Python 3"
    },
    "language_info": {
      "name": "python"
    }
  },
  "cells": [
    {
      "cell_type": "markdown",
      "metadata": {
        "id": "view-in-github",
        "colab_type": "text"
      },
      "source": [
        "<a href=\"https://colab.research.google.com/github/lumimevi/Python_repository/blob/master/Probabilidade.ipynb\" target=\"_parent\"><img src=\"https://colab.research.google.com/assets/colab-badge.svg\" alt=\"Open In Colab\"/></a>"
      ]
    },
    {
      "cell_type": "markdown",
      "source": [
        "## **Probabilidades**\n",
        "\n",
        "Lourdes Milagros Mendoza Villavicencio"
      ],
      "metadata": {
        "id": "Oo_iU5mZSuA-"
      }
    },
    {
      "cell_type": "markdown",
      "source": [
        "# Questão Nº1"
      ],
      "metadata": {
        "id": "bnAqpqk1Qd1f"
      }
    },
    {
      "cell_type": "markdown",
      "source": [
        "Três casais compraram ingressos de teatro e estão sentados em uma ﬁleira que consiste em apenas seis assentos. Se eles se sentarem de uma forma totalmente aleatória (ordem aleatória), qual será a probabilidade de Jim e Paula (marido e mulher) se sentarem nos dois assentos da esquerda? Qual é a probabilidade de Jim e Paula se sentarem um ao lado do outro? Qual é a probabilidade de que ao menos uma das esposas se sente ao lado de seu respectivo marido?"
      ],
      "metadata": {
        "id": "NaDGstCRQcFw"
      }
    },
    {
      "cell_type": "code",
      "source": [
        "import math\n",
        "\n",
        "# Número total de pessoas\n",
        "n = 6\n",
        "\n",
        "# Número total de assentos\n",
        "total_assentos = 6\n",
        "\n",
        "# --- Probabilidade de Jim e Paula nos dois assentos da esquerda ---\n",
        "# Consideramos Jim e Paula como um bloco fixo nos dois primeiros assentos (2 posições para eles)\n",
        "# Os outros 4 amigos podem se sentar de 4! maneiras nas 4 posições restantes.\n",
        "# O número total de permutações para 6 pessoas é 6!\n",
        "\n",
        "# Número de maneiras de Jim e Paula nos 2 assentos da esquerda:\n",
        "# Jim e Paula podem sentar (JP) ou (PJ) nos assentos 1 e 2. Então 2! maneiras para eles.\n",
        "# As 4 pessoas restantes podem se organizar de 4! maneiras nos 4 assentos restantes.\n",
        "eventos_jim_paula_esquerda = math.factorial(2) * math.factorial(4)\n",
        "\n",
        "# Número total de arranjos possíveis para 6 pessoas\n",
        "total_arranjos = math.factorial(6)\n",
        "\n",
        "prob_jim_paula_esquerda = eventos_jim_paula_esquerda / total_arranjos\n",
        "\n",
        "print(\"--- Problema 1: Arranjo de Casais no Teatro ---\")\n",
        "print(f\"Probabilidade de Jim e Paula nos dois assentos da esquerda: {prob_jim_paula_esquerda:.4f}\")\n",
        "\n",
        "# --- Probabilidade de Jim e Paula se sentarem um ao lado do outro ---\n",
        "# Considere Jim e Paula como um bloco (JP) ou (PJ).\n",
        "# Este bloco pode ser colocado em 5 posições (assentos 1-2, 2-3, 3-4, 4-5, 5-6).\n",
        "# As 5 \"entidades\" (o bloco JP/PJ + as 4 pessoas restantes) podem ser organizadas de 5! maneiras.\n",
        "\n",
        "# Número de maneiras de Jim e Paula se sentarem lado a lado:\n",
        "# 2! para as permutações de Jim e Paula dentro do bloco (JP ou PJ)\n",
        "# 5! para as permutações das 5 \"entidades\" (o bloco e as 4 pessoas individuais)\n",
        "eventos_jim_paula_lado_a_lado = math.factorial(2) * math.factorial(5)\n",
        "\n",
        "prob_jim_paula_lado_a_lado = eventos_jim_paula_lado_a_lado / total_arranjos\n",
        "\n",
        "print(f\"Probabilidade de Jim e Paula se sentarem um ao lado do outro: {prob_jim_paula_lado_a_lado:.4f}\")\n",
        "\n",
        "\n",
        "# --- Probabilidade de que ao menos uma das esposas se sente ao lado de seu respectivo marido ---\n",
        "# Casais: C1=(M1, E1), C2=(M2, E2), C3=(M3, E3) - Onde Jim=M1 e Paula=E1\n",
        "# Total de pessoas = 6\n",
        "# Total de arranjos = 6! = 720\n",
        "\n",
        "# Vamos usar o princípio da inclusão-exclusão ou o complementar.\n",
        "# É mais fácil calcular o complementar: Nenhuma esposa senta-se ao lado de seu marido.\n",
        "\n",
        "# Ou, de forma mais direta, calcular a probabilidade de CADA casal estar junto e subtrair as interseções\n",
        "# P(A ou B ou C) = P(A) + P(B) + P(C) - P(A e B) - P(A e C) - P(B e C) + P(A e B e C)\n",
        "\n",
        "# P(Casal X junto)\n",
        "# Considere um casal (M, E) como um bloco.\n",
        "# Temos 5 \"entidades\": (M,E) + 4 indivíduos. Permutam em 5! maneiras.\n",
        "# M e E podem trocar de lugar dentro do bloco (2! maneiras).\n",
        "# Probabilidade de UM casal estar junto: P(C_junto) = (2! * 5!) / 6! = (2 * 120) / 720 = 240 / 720 = 1/3\n",
        "\n",
        "prob_um_casal_junto = (math.factorial(2) * math.factorial(5)) / math.factorial(6)\n",
        "\n",
        "# P(dois casais juntos)\n",
        "# Considere dois casais como blocos: (M1,E1), (M2,E2).\n",
        "# Temos 4 \"entidades\": (M1,E1), (M2,E2), I1, I2. Permutam em 4! maneiras.\n",
        "# Cada casal pode permutar internamente (2! * 2! maneiras).\n",
        "# Probabilidade de DOIS casais estarem juntos: P(C1_junto e C2_junto) = (2! * 2! * 4!) / 6!\n",
        "prob_dois_casais_juntos = (math.factorial(2) * math.factorial(2) * math.factorial(4)) / math.factorial(6)\n",
        "\n",
        "# P(três casais juntos)\n",
        "# Considere três casais como blocos: (M1,E1), (M2,E2), (M3,E3).\n",
        "# Temos 3 \"entidades\": (M1,E1), (M2,E2), (M3,E3). Permutam em 3! maneiras.\n",
        "# Cada casal pode permutar internamente (2! * 2! * 2! maneiras).\n",
        "# Probabilidade de TRÊS casais estarem juntos: P(C1_junto e C2_junto e C3_junto) = (2! * 2! * 2! * 3!) / 6!\n",
        "prob_tres_casais_juntos = (math.factorial(2) * math.factorial(2) * math.factorial(2) * math.factorial(3)) / math.factorial(6)\n",
        "\n",
        "# Usando o Princípio da Inclusão-Exclusão para \"ao menos uma das esposas se sente ao lado de seu respectivo marido\"\n",
        "# P(A U B U C) = 3*P(C_junto) - 3*P(dois casais juntos) + P(três casais juntos)\n",
        "prob_ao_menos_um_casal_junto = (3 * prob_um_casal_junto) - (3 * prob_dois_casais_juntos) + prob_tres_casais_juntos\n",
        "\n",
        "print(f\"Probabilidade de que ao menos uma das esposas se sente ao lado de seu respectivo marido: {prob_ao_menos_um_casal_junto:.4f}\")\n"
      ],
      "metadata": {
        "colab": {
          "base_uri": "https://localhost:8080/"
        },
        "id": "rf-M5-bCQv79",
        "outputId": "3902b4c3-41f7-4d3e-cdb8-4530ec1e1844"
      },
      "execution_count": 1,
      "outputs": [
        {
          "output_type": "stream",
          "name": "stdout",
          "text": [
            "--- Problema 1: Arranjo de Casais no Teatro ---\n",
            "Probabilidade de Jim e Paula nos dois assentos da esquerda: 0.0667\n",
            "Probabilidade de Jim e Paula se sentarem um ao lado do outro: 0.3333\n",
            "Probabilidade de que ao menos uma das esposas se sente ao lado de seu respectivo marido: 0.6667\n"
          ]
        }
      ]
    },
    {
      "cell_type": "markdown",
      "source": [
        "# Questão Nº2"
      ],
      "metadata": {
        "id": "UGrG-IylRBk4"
      }
    },
    {
      "cell_type": "markdown",
      "source": [
        "Uma loja de departamentos vende camisas esportivas em três tamanhos (pequeno, médio e grande), três padrões (xadrez, estampado e listrado) e dois comprimentos de manga (curta e longa). As tabelas a seguir fornecem as proporções de camisas vendidas nas diversas combinações de categorias.\n",
        "\n",
        "\n",
        "\n",
        "![image.png](data:image/png;base64,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)"
      ],
      "metadata": {
        "id": "cgEuAPhjREUB"
      }
    },
    {
      "cell_type": "markdown",
      "source": [
        "Vamos organizar os dados em DataFrames e realizar os cálculos de probabilidade."
      ],
      "metadata": {
        "id": "P8rErD5aRK02"
      }
    },
    {
      "cell_type": "code",
      "source": [
        "import pandas as pd\n",
        "\n",
        "print(\"\\n--- Problema 2: Vendas de Camisas Esportivas ---\")\n",
        "\n",
        "# Criando as tabelas de proporções\n",
        "manga_curta_data = {\n",
        "    'Xadrez': [0.04, 0.08, 0.03],\n",
        "    'Estampado': [0.02, 0.07, 0.07],\n",
        "    'Listrado': [0.05, 0.12, 0.08]\n",
        "}\n",
        "df_manga_curta = pd.DataFrame(manga_curta_data, index=['P', 'M', 'G'])\n",
        "df_manga_curta.columns.name = 'Padrão'\n",
        "df_manga_curta.index.name = 'Tamanho'\n",
        "\n",
        "manga_longa_data = {\n",
        "    'Xadrez': [0.03, 0.10, 0.04],\n",
        "    'Estampado': [0.02, 0.05, 0.02],\n",
        "    'Listrado': [0.03, 0.07, 0.08]\n",
        "}\n",
        "df_manga_longa = pd.DataFrame(manga_longa_data, index=['P', 'M', 'G'])\n",
        "df_manga_longa.columns.name = 'Padrão'\n",
        "df_manga_longa.index.name = 'Tamanho'\n",
        "\n",
        "print(\"\\nTabela: Manga Curta\")\n",
        "print(df_manga_curta)\n",
        "print(\"\\nTabela: Manga Longa\")\n",
        "print(df_manga_longa)\n",
        "\n",
        "# (a) Qual é a probabilidade de a próxima camisa vendida ser média, de mangas longas e estampada?\n",
        "prob_media_longa_estampada = df_manga_longa.loc['M', 'Estampado']\n",
        "print(f\"\\n(a) Probabilidade de a próxima camisa ser média, de mangas longas e estampada: {prob_media_longa_estampada:.4f}\")\n",
        "\n",
        "# (b) Qual é a probabilidade de a próxima camisa vendida ser uma camisa média, estampada?\n",
        "# Soma das probabilidades de média, estampada, em ambos os comprimentos de manga\n",
        "prob_media_estampada = df_manga_curta.loc['M', 'Estampado'] + df_manga_longa.loc['M', 'Estampado']\n",
        "print(f\"(b) Probabilidade de a próxima camisa ser média, estampada: {prob_media_estampada:.4f}\")\n",
        "\n",
        "# (c) Qual é a probabilidade de a próxima camisa vendida ser de mangas curtas? E de mangas longas?\n",
        "prob_mangas_curtas = df_manga_curta.sum().sum()\n",
        "prob_mangas_longas = df_manga_longa.sum().sum()\n",
        "print(f\"(c) Probabilidade de a próxima camisa ser de mangas curtas: {prob_mangas_curtas:.4f}\")\n",
        "print(f\"    Probabilidade de a próxima camisa ser de mangas longas: {prob_mangas_longas:.4f}\")\n",
        "\n",
        "# (d) Qual é a probabilidade de a próxima camisa vendida ser média? E de ser estampada?\n",
        "# Probabilidade de ser média (somar todas as células da linha 'M' em ambas as tabelas)\n",
        "prob_media = df_manga_curta.loc['M'].sum() + df_manga_longa.loc['M'].sum()\n",
        "\n",
        "# Probabilidade de ser estampada (somar todas as células da coluna 'Estampado' em ambas as tabelas)\n",
        "prob_estampada = df_manga_curta['Estampado'].sum() + df_manga_longa['Estampado'].sum()\n",
        "\n",
        "print(f\"(d) Probabilidade de a próxima camisa ser média: {prob_media:.4f}\")\n",
        "print(f\"    Probabilidade de a próxima camisa ser estampada: {prob_estampada:.4f}\")\n",
        "\n",
        "# (e) Dado que a última camisa vendida foi uma xadrez de mangas curtas, qual é a probabilidade de o tamanho ser médio?\n",
        "# P(Médio | Xadrez e Manga Curta) = P(Médio e Xadrez e Manga Curta) / P(Xadrez e Manga Curta)\n",
        "prob_medio_xadrez_curta = df_manga_curta.loc['M', 'Xadrez']\n",
        "prob_xadrez_curta = df_manga_curta['Xadrez'].sum()\n",
        "prob_cond_medio_dado_xadrez_curta = prob_medio_xadrez_curta / prob_xadrez_curta\n",
        "print(f\"(e) Dado que a última camisa vendida foi uma xadrez de mangas curtas, a probabilidade de o tamanho ser médio: {prob_cond_medio_dado_xadrez_curta:.4f}\")\n",
        "\n",
        "# (f) Dado que a última camisa vendida foi uma média e xadrez, qual é a probabilidade de as mangas serem curtas? E de serem longas?\n",
        "# P(Curta | Média e Xadrez) = P(Curta e Média e Xadrez) / P(Média e Xadrez)\n",
        "prob_curta_media_xadrez = df_manga_curta.loc['M', 'Xadrez']\n",
        "prob_longa_media_xadrez = df_manga_longa.loc['M', 'Xadrez']\n",
        "prob_media_xadrez = prob_curta_media_xadrez + prob_longa_media_xadrez\n",
        "\n",
        "prob_cond_curta_dado_media_xadrez = prob_curta_media_xadrez / prob_media_xadrez\n",
        "prob_cond_longa_dado_media_xadrez = prob_longa_media_xadrez / prob_media_xadrez\n",
        "print(f\"(f) Dado que a última camisa vendida foi uma média e xadrez:\")\n",
        "print(f\"    Probabilidade de as mangas serem curtas: {prob_cond_curta_dado_media_xadrez:.4f}\")\n",
        "print(f\"    Probabilidade de as mangas serem longas: {prob_cond_longa_dado_media_xadrez:.4f}\")\n"
      ],
      "metadata": {
        "colab": {
          "base_uri": "https://localhost:8080/"
        },
        "id": "MgjfrnvrRQc7",
        "outputId": "a2189353-bcc3-4ac0-80b2-276ec641b78f"
      },
      "execution_count": 2,
      "outputs": [
        {
          "output_type": "stream",
          "name": "stdout",
          "text": [
            "\n",
            "--- Problema 2: Vendas de Camisas Esportivas ---\n",
            "\n",
            "Tabela: Manga Curta\n",
            "Padrão   Xadrez  Estampado  Listrado\n",
            "Tamanho                             \n",
            "P          0.04       0.02      0.05\n",
            "M          0.08       0.07      0.12\n",
            "G          0.03       0.07      0.08\n",
            "\n",
            "Tabela: Manga Longa\n",
            "Padrão   Xadrez  Estampado  Listrado\n",
            "Tamanho                             \n",
            "P          0.03       0.02      0.03\n",
            "M          0.10       0.05      0.07\n",
            "G          0.04       0.02      0.08\n",
            "\n",
            "(a) Probabilidade de a próxima camisa ser média, de mangas longas e estampada: 0.0500\n",
            "(b) Probabilidade de a próxima camisa ser média, estampada: 0.1200\n",
            "(c) Probabilidade de a próxima camisa ser de mangas curtas: 0.5600\n",
            "    Probabilidade de a próxima camisa ser de mangas longas: 0.4400\n",
            "(d) Probabilidade de a próxima camisa ser média: 0.4900\n",
            "    Probabilidade de a próxima camisa ser estampada: 0.2500\n",
            "(e) Dado que a última camisa vendida foi uma xadrez de mangas curtas, a probabilidade de o tamanho ser médio: 0.5333\n",
            "(f) Dado que a última camisa vendida foi uma média e xadrez:\n",
            "    Probabilidade de as mangas serem curtas: 0.4444\n",
            "    Probabilidade de as mangas serem longas: 0.5556\n"
          ]
        }
      ]
    },
    {
      "cell_type": "markdown",
      "source": [
        "# Questão Nº3"
      ],
      "metadata": {
        "id": "DSdJJl5ORc8t"
      }
    },
    {
      "cell_type": "markdown",
      "source": [
        "Setenta por cento das aeronaves leves que desaparecem em voo em certo país são localizadas posteriormente. Das aeronaves localizadas, 60% possuem localizador de emergência, enquanto 90% das aeronaves não localizadas não possuem esse dispositivo. Suponha que uma aeronave leve tenha desaparecido."
      ],
      "metadata": {
        "id": "3etOIqBQRhDl"
      }
    },
    {
      "cell_type": "markdown",
      "source": [
        "Vamos usar o Teorema de Bayes para calcular as probabilidades."
      ],
      "metadata": {
        "id": "5VNeQR0DRk6y"
      }
    },
    {
      "cell_type": "code",
      "source": [
        "# Definindo as probabilidades dadas\n",
        "# L = Localizada, L' = Não Localizada\n",
        "# E = Tem Localizador de Emergência, E' = Não tem Localizador de Emergência\n",
        "\n",
        "P_L = 0.70  # Probabilidade de ser localizada\n",
        "P_L_prime = 1 - P_L  # Probabilidade de não ser localizada\n",
        "\n",
        "P_E_dado_L = 0.60  # P(E | L) - 60% das localizadas possuem localizador\n",
        "P_E_prime_dado_L_prime = 0.90 # P(E' | L') - 90% das não localizadas NÃO possuem localizador\n",
        "\n",
        "# Derivando outras probabilidades condicionais necessárias\n",
        "P_E_dado_L_prime = 1 - P_E_prime_dado_L_prime # P(E | L') - 10% das não localizadas possuem localizador\n",
        "\n",
        "P_E_prime_dado_L = 1 - P_E_dado_L # P(E' | L) - 40% das localizadas NÃO possuem localizador\n",
        "\n",
        "print(\"\\n--- Problema 3: Aeronaves Desaparecidas ---\")\n",
        "\n",
        "# (a) Se ela tiver localizador de emergência, qual é a probabilidade de não ser localizada?\n",
        "# Queremos P(L' | E) = [P(E | L') * P(L')] / P(E)\n",
        "# Precisamos de P(E) = P(E | L) * P(L) + P(E | L') * P(L') (Lei da Probabilidade Total)\n",
        "P_E = (P_E_dado_L * P_L) + (P_E_dado_L_prime * P_L_prime)\n",
        "prob_L_prime_dado_E = (P_E_dado_L_prime * P_L_prime) / P_E\n",
        "print(f\"(a) Se a aeronave tiver localizador de emergência, a probabilidade de não ser localizada: {prob_L_prime_dado_E:.4f}\")\n",
        "\n",
        "# (b) Se ela não tiver localizador de emergência, qual é a probabilidade de ser localizada?\n",
        "# Queremos P(L | E') = [P(E' | L) * P(L)] / P(E')\n",
        "# Precisamos de P(E') = P(E' | L) * P(L) + P(E' | L') * P(L') (Lei da Probabilidade Total)\n",
        "P_E_prime = (P_E_prime_dado_L * P_L) + (P_E_prime_dado_L_prime * P_L_prime)\n",
        "prob_L_dado_E_prime = (P_E_prime_dado_L * P_L) / P_E_prime\n",
        "print(f\"(b) Se a aeronave não tiver localizador de emergência, a probabilidade de ser localizada: {prob_L_dado_E_prime:.4f}\")\n"
      ],
      "metadata": {
        "colab": {
          "base_uri": "https://localhost:8080/"
        },
        "id": "cdJc4IG1Rfuz",
        "outputId": "6b10a5ac-0413-4c87-a9bd-ee9e1af789a0"
      },
      "execution_count": 3,
      "outputs": [
        {
          "output_type": "stream",
          "name": "stdout",
          "text": [
            "\n",
            "--- Problema 3: Aeronaves Desaparecidas ---\n",
            "(a) Se a aeronave tiver localizador de emergência, a probabilidade de não ser localizada: 0.0667\n",
            "(b) Se a aeronave não tiver localizador de emergência, a probabilidade de ser localizada: 0.5091\n"
          ]
        }
      ]
    },
    {
      "cell_type": "markdown",
      "source": [
        "# Questão Nº4"
      ],
      "metadata": {
        "id": "zYyFjg6mRzT5"
      }
    },
    {
      "cell_type": "markdown",
      "source": [
        "Uma empresa que fabrica câmeras de vídeo produz um modelo básico e um modelo luxo. No ano passado, 40% das câmeras vendidas foram do modelo básico. Dos clientes que compraram o modelo básico, 30% compraram uma garantia estendida, enquanto 50% dos compradores do modelo luxo a compraram. Se você souber que um cliente selecionado aleatoriamente possui uma garantia estendida, qual a probabilidade de ele ter o modelo básico?"
      ],
      "metadata": {
        "id": "7JIUesfsR2P3"
      }
    },
    {
      "cell_type": "markdown",
      "source": [
        "Este problema também é um caso clássico para o Teorema de Bayes."
      ],
      "metadata": {
        "id": "KsX-vnvkR5Zl"
      }
    },
    {
      "cell_type": "code",
      "source": [
        "# Definindo as probabilidades\n",
        "# B = Modelo Básico, L = Modelo Luxo\n",
        "# G = Comprou Garantia Estendida, G' = Não comprou Garantia Estendida\n",
        "\n",
        "P_B = 0.40  # Probabilidade de ser modelo básico\n",
        "P_L = 1 - P_B # Probabilidade de ser modelo luxo\n",
        "\n",
        "P_G_dado_B = 0.30  # Probabilidade de comprar garantia dado que comprou modelo básico\n",
        "P_G_dado_L = 0.50  # Probabilidade de comprar garantia dado que comprou modelo luxo\n",
        "\n",
        "print(\"\\n--- Problema 4: Vendas de Câmeras de Vídeo ---\")\n",
        "\n",
        "# Se um cliente selecionado aleatoriamente possui uma garantia estendida, qual a probabilidade de ele ter o modelo básico?\n",
        "# Queremos P(B | G) = [P(G | B) * P(B)] / P(G)\n",
        "# Precisamos de P(G) = P(G | B) * P(B) + P(G | L) * P(L) (Lei da Probabilidade Total)\n",
        "P_G = (P_G_dado_B * P_B) + (P_G_dado_L * P_L)\n",
        "prob_B_dado_G = (P_G_dado_B * P_B) / P_G\n",
        "print(f\"Probabilidade de um cliente com garantia estendida ter o modelo básico: {prob_B_dado_G:.4f}\")"
      ],
      "metadata": {
        "colab": {
          "base_uri": "https://localhost:8080/"
        },
        "id": "tJ2D63AhR3U_",
        "outputId": "2dcefb56-a8f9-405c-8584-73ac379d1732"
      },
      "execution_count": 4,
      "outputs": [
        {
          "output_type": "stream",
          "name": "stdout",
          "text": [
            "\n",
            "--- Problema 4: Vendas de Câmeras de Vídeo ---\n",
            "Probabilidade de um cliente com garantia estendida ter o modelo básico: 0.2857\n"
          ]
        }
      ]
    },
    {
      "cell_type": "markdown",
      "source": [
        "# Questão Nº5"
      ],
      "metadata": {
        "id": "fQj2YI0ASA6Y"
      }
    },
    {
      "cell_type": "markdown",
      "source": [
        "Um por cento de todos os indivíduos de certa população são portadores de determinada doença. Um teste de diagnóstico para essa doença tem taxa de detecção de 95% para portadores e 3% para não-portadores. Suponha que o teste seja aplicado independentemente a duas amostras de sangue do mesmo indivíduo selecionado aleatoriamente.\n",
        "\n",
        "a.  Qual é a probabilidade de ambos os testes terem o mesmo resultado?\n",
        "\n",
        "b. Se ambos os testes forem positivos, qual será a probabilidade de o indivíduo selecionado ser um portador?\n"
      ],
      "metadata": {
        "id": "qjBmKcKXSE8M"
      }
    },
    {
      "cell_type": "markdown",
      "source": [
        "Este problema envolve testes independentes e o Teorema de Bayes."
      ],
      "metadata": {
        "id": "Nso-Z0jNSPgd"
      }
    },
    {
      "cell_type": "code",
      "source": [
        "# Definindo as probabilidades\n",
        "# D = Portador da Doença, D' = Não Portador da Doença\n",
        "# P = Teste Positivo, N = Teste Negativo\n",
        "\n",
        "P_D = 0.01  # Probabilidade de ser portador\n",
        "P_D_prime = 1 - P_D  # Probabilidade de não ser portador\n",
        "\n",
        "P_P_dado_D = 0.95  # Taxa de detecção (sensibilidade) - P(Positivo | Doença)\n",
        "P_P_dado_D_prime = 0.03 # Falso positivo - P(Positivo | Não Doença)\n",
        "\n",
        "# Derivando outras probabilidades necessárias\n",
        "P_N_dado_D = 1 - P_P_dado_D # Falso negativo - P(Negativo | Doença)\n",
        "P_N_dado_D_prime = 1 - P_P_dado_D_prime # Verdadeiro negativo - P(Negativo | Não Doença)\n",
        "\n",
        "print(\"\\n--- Problema 5: Teste de Diagnóstico para Doença ---\")\n",
        "\n",
        "# (a) Qual é a probabilidade de ambos os testes terem o mesmo resultado?\n",
        "# Casos: (Teste1 Positivo e Teste2 Positivo) OU (Teste1 Negativo e Teste2 Negativo)\n",
        "# Como os testes são independentes:\n",
        "# P(T1P e T2P) = P(T1P) * P(T2P)\n",
        "# P(T1N e T2N) = P(T1N) * P(T2N)\n",
        "\n",
        "# Primeiro, calcular P(Positivo) e P(Negativo) usando a Lei da Probabilidade Total\n",
        "P_P = (P_P_dado_D * P_D) + (P_P_dado_D_prime * P_D_prime)\n",
        "P_N = (P_N_dado_D * P_D) + (P_N_dado_D_prime * P_D_prime) # Ou 1 - P_P\n",
        "\n",
        "prob_ambos_positivos = P_P * P_P\n",
        "prob_ambos_negativos = P_N * P_N\n",
        "\n",
        "prob_ambos_mesmo_resultado = prob_ambos_positivos + prob_ambos_negativos\n",
        "print(f\"(a) Probabilidade de ambos os testes terem o mesmo resultado: {prob_ambos_mesmo_resultado:.4f}\")\n",
        "\n",
        "# (b) Se ambos os testes forem positivos, qual será a probabilidade de o indivíduo selecionado ser um portador?\n",
        "# Queremos P(D | T1P e T2P) = [P(T1P e T2P | D) * P(D)] / P(T1P e T2P)\n",
        "# P(T1P e T2P | D) = P(T1P | D) * P(T2P | D) = P_P_dado_D * P_P_dado_D (pois são independentes)\n",
        "# P(T1P e T2P) já calculamos como prob_ambos_positivos\n",
        "\n",
        "prob_T1P_T2P_dado_D = P_P_dado_D * P_P_dado_D\n",
        "\n",
        "prob_D_dado_ambos_positivos = (prob_T1P_T2P_dado_D * P_D) / prob_ambos_positivos\n",
        "print(f\"(b) Se ambos os testes forem positivos, a probabilidade de o indivíduo ser um portador: {prob_D_dado_ambos_positivos:.4f}\")"
      ],
      "metadata": {
        "colab": {
          "base_uri": "https://localhost:8080/"
        },
        "id": "I2cV-fp5SMlu",
        "outputId": "7a7f7ec2-fc8d-463b-e173-c765f7e19072"
      },
      "execution_count": 5,
      "outputs": [
        {
          "output_type": "stream",
          "name": "stdout",
          "text": [
            "\n",
            "--- Problema 5: Teste de Diagnóstico para Doença ---\n",
            "(a) Probabilidade de ambos os testes terem o mesmo resultado: 0.9247\n",
            "(b) Se ambos os testes forem positivos, a probabilidade de o indivíduo ser um portador: 5.8732\n"
          ]
        }
      ]
    }
  ]
}
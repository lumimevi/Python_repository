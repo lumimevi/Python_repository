{
  "nbformat": 4,
  "nbformat_minor": 0,
  "metadata": {
    "colab": {
      "provenance": [],
      "toc_visible": true,
      "authorship_tag": "ABX9TyPtJl384xg2OvMDPHTD6hbL",
      "include_colab_link": true
    },
    "kernelspec": {
      "name": "python3",
      "display_name": "Python 3"
    },
    "language_info": {
      "name": "python"
    }
  },
  "cells": [
    {
      "cell_type": "markdown",
      "metadata": {
        "id": "view-in-github",
        "colab_type": "text"
      },
      "source": [
        "<a href=\"https://colab.research.google.com/github/lumimevi/Python_repository/blob/master/Vari%C3%A1veis_Aleat%C3%B3rias_Cont%C3%ADnuas.ipynb\" target=\"_parent\"><img src=\"https://colab.research.google.com/assets/colab-badge.svg\" alt=\"Open In Colab\"/></a>"
      ]
    },
    {
      "cell_type": "markdown",
      "source": [
        "## **Variáveis Aleatórias Contínuas**\n",
        "\n",
        "\n",
        "Lourdes Milagros Mendoza Villavicencio"
      ],
      "metadata": {
        "id": "Oo_iU5mZSuA-"
      }
    },
    {
      "cell_type": "markdown",
      "source": [
        "# Questão Nº1"
      ],
      "metadata": {
        "id": "PdwcmRwOWftx"
      }
    },
    {
      "cell_type": "markdown",
      "source": [
        "O dispositivo de abertura automática de um pára-quedas de carga militar foi projetado para abrir quando estiver a 200 m do solo. Suponha que a altitude de abertura tenha uma distribuição normal com média 200 m e desvio padrão 30 m. Haverá dano no equipamento se o pára-quedas abrir a uma altitude inferior a 100 m. Qual é a probabilidade de haver dano ao equipamento em pelo menos um de cinco pára-quedas lançados independentemente?"
      ],
      "metadata": {
        "id": "xzr7w4mjfIVw"
      }
    },
    {
      "cell_type": "markdown",
      "source": [
        " **Paraquedas de Carga Militar (Distribuição Normal e Binomial)**\n",
        "\n",
        "Este problema envolve a distribuição normal para a altitude de abertura e a distribuição binomial para a probabilidade de dano em múltiplos paraquedas."
      ],
      "metadata": {
        "id": "joph1l9WgDlP"
      }
    },
    {
      "cell_type": "code",
      "source": [
        "from scipy.stats import norm\n",
        "\n",
        "print(\"--- 1. Paraquedas de Carga Militar ---\")\n",
        "\n",
        "# Parâmetros da distribuição normal da altitude de abertura\n",
        "media_altitude = 200  # metros\n",
        "desvio_padrao_altitude = 30 # metros\n",
        "\n",
        "# Altitude limite para dano\n",
        "limite_dano = 100 # metros\n",
        "\n",
        "# (a) Qual é a probabilidade de haver dano ao equipamento em pelo menos um de cinco paraquedas lançados independentemente?\n",
        "\n",
        "# Primeiro, calcule a probabilidade de um único paraquedas sofrer dano (abrir abaixo de 100m).\n",
        "# P(altitude < 100)\n",
        "prob_dano_individual = norm.cdf(limite_dano, loc=media_altitude, scale=desvio_padrao_altitude)\n",
        "print(f\"\\nProbabilidade de um único paraquedas sofrer dano (abrir abaixo de 100m): {prob_dano_individual:.4f}\")\n",
        "\n",
        "# Agora, a probabilidade de haver dano em pelo menos um de cinco pára-quedas lançados independentemente.\n",
        "# P(pelo menos um dano) = 1 - P(nenhum dano)\n",
        "# P(nenhum dano) = P(não ter dano no 1º) * P(não ter dano no 2º) * ... * P(não ter dano no 5º)\n",
        "# P(não ter dano individual) = 1 - P(dano individual)\n",
        "prob_nao_dano_individual = 1 - prob_dano_individual\n",
        "\n",
        "# Probabilidade de nenhum dos 5 paraquedas ter dano\n",
        "prob_nenhum_dano_em_5 = prob_nao_dano_individual**5\n",
        "\n",
        "# Probabilidade de pelo menos um ter dano\n",
        "prob_pelo_menos_um_dano_em_5 = 1 - prob_nenhum_dano_em_5\n",
        "\n",
        "print(f\"Probabilidade de haver dano ao equipamento em pelo menos um de cinco paraquedas: {prob_pelo_menos_um_dano_em_5:.4f}\")"
      ],
      "metadata": {
        "colab": {
          "base_uri": "https://localhost:8080/"
        },
        "id": "XXzvvSxHgkD9",
        "outputId": "4a6f0aa1-aef3-4990-9d23-ba42db51566b"
      },
      "execution_count": 1,
      "outputs": [
        {
          "output_type": "stream",
          "name": "stdout",
          "text": [
            "--- 1. Paraquedas de Carga Militar ---\n",
            "\n",
            "Probabilidade de um único paraquedas sofrer dano (abrir abaixo de 100m): 0.0004\n",
            "Probabilidade de haver dano ao equipamento em pelo menos um de cinco paraquedas: 0.0021\n"
          ]
        }
      ]
    },
    {
      "cell_type": "markdown",
      "source": [
        "# Questão Nº2"
      ],
      "metadata": {
        "id": "o95PTWeIXPYo"
      }
    },
    {
      "cell_type": "markdown",
      "source": [
        "Há duas máquinas disponíveis para corte de rolhas para garrafas de vinho. A primeira produz rolhas com diâmetros que possuem uma distribuição normal com média 3 cm e desvio padrão 0,1 cm. A segunda máquina produz rolhas com diâmetros que possuem uma distribuição normal com média 3,04 cm e desvio padrão 0,02 cm. As rolhas aceitáveis possuem diâmetros entre 2,9 cm e 3,1 cm. Que máquina tem maior probabilidade de produzir uma rolha aceitável?"
      ],
      "metadata": {
        "id": "vJg_B9U2fObH"
      }
    },
    {
      "cell_type": "markdown",
      "source": [
        "**Máquinas de Corte de Rolhas (Distribuição Normal Comparativa)**\n",
        "\n",
        "Aqui, precisamos comparar as probabilidades de cada máquina produzir uma rolha aceitável, usando a distribuição normal"
      ],
      "metadata": {
        "id": "ISn5r3vvg78_"
      }
    },
    {
      "cell_type": "code",
      "source": [
        "from scipy.stats import norm\n",
        "\n",
        "print(\"\\n--- 2. Máquinas de Corte de Rolhas ---\")\n",
        "\n",
        "# Parâmetros da Máquina 1\n",
        "media_m1 = 3.0  # cm\n",
        "desvio_padrao_m1 = 0.1 # cm\n",
        "\n",
        "# Parâmetros da Máquina 2\n",
        "media_m2 = 3.04 # cm\n",
        "desvio_padrao_m2 = 0.02 # cm\n",
        "\n",
        "# Limites de diâmetro aceitável\n",
        "limite_inferior = 2.9 # cm\n",
        "limite_superior = 3.1 # cm\n",
        "\n",
        "# (a) Que máquina tem maior probabilidade de produzir uma rolha aceitável?\n",
        "\n",
        "# Probabilidade de uma rolha da Máquina 1 ser aceitável: P(2.9 < X < 3.1)\n",
        "prob_aceitavel_m1 = norm.cdf(limite_superior, loc=media_m1, scale=desvio_padrao_m1) - \\\n",
        "                    norm.cdf(limite_inferior, loc=media_m1, scale=desvio_padrao_m1)\n",
        "print(f\"\\nProbabilidade de a Máquina 1 produzir uma rolha aceitável: {prob_aceitavel_m1:.4f}\")\n",
        "\n",
        "# Probabilidade de uma rolha da Máquina 2 ser aceitável: P(2.9 < X < 3.1)\n",
        "prob_aceitavel_m2 = norm.cdf(limite_superior, loc=media_m2, scale=desvio_padrao_m2) - \\\n",
        "                    norm.cdf(limite_inferior, loc=media_m2, scale=desvio_padrao_m2)\n",
        "print(f\"Probabilidade de a Máquina 2 produzir uma rolha aceitável: {prob_aceitavel_m2:.4f}\")\n",
        "\n",
        "# Comparando as probabilidades\n",
        "if prob_aceitavel_m1 > prob_aceitavel_m2:\n",
        "    print(f\"\\nA Máquina 1 tem maior probabilidade de produzir uma rolha aceitável.\")\n",
        "elif prob_aceitavel_m2 > prob_aceitavel_m1:\n",
        "    print(f\"\\nA Máquina 2 tem maior probabilidade de produzir uma rolha aceitável.\")\n",
        "else:\n",
        "    print(f\"\\nAmbas as máquinas têm a mesma probabilidade de produzir uma rolha aceitável.\")"
      ],
      "metadata": {
        "colab": {
          "base_uri": "https://localhost:8080/"
        },
        "id": "EYPB5xJ6g_FD",
        "outputId": "2d1010cb-5385-476c-a9fc-5c820c294d16"
      },
      "execution_count": 2,
      "outputs": [
        {
          "output_type": "stream",
          "name": "stdout",
          "text": [
            "\n",
            "--- 2. Máquinas de Corte de Rolhas ---\n",
            "\n",
            "Probabilidade de a Máquina 1 produzir uma rolha aceitável: 0.6827\n",
            "Probabilidade de a Máquina 2 produzir uma rolha aceitável: 0.9987\n",
            "\n",
            "A Máquina 2 tem maior probabilidade de produzir uma rolha aceitável.\n"
          ]
        }
      ]
    },
    {
      "cell_type": "markdown",
      "source": [
        "# Questão Nº3"
      ],
      "metadata": {
        "id": "8W7jqB3vYIbp"
      }
    },
    {
      "cell_type": "markdown",
      "source": [
        "Suponha que, quando um certo tipo de transistor é sujeito a um teste de vida acelerado, o tempo de vida X (em semanas) possui distribuição gama com média 24 semanas e desvio padrão 12 semanas.\n",
        "\n",
        "a.   Qual é a probabilidade de um transistor durar entre 12 e 24 semanas?\n",
        "\n",
        "b.  Qual é a probabilidade de um transistor durar no máximo 24 semanas? A mediana da distribuição do tempo de vida é inferior a 24? Por que ou por que não?\n",
        "\n",
        "c.   Qual é o 99 percentil da distribuição do tempo de vida?\n",
        "\n",
        "d.  Suponha que o teste seja ﬁnalizado após  t  semanas. Que valor de  t  faz com que apenas 0,5% de todos os transistores estejam operando no ﬁm do teste?"
      ],
      "metadata": {
        "id": "y9TrKEaafQfF"
      }
    },
    {
      "cell_type": "markdown",
      "source": [
        "**Tempo de Vida de Transistor (Distribuição Gama)**\n",
        "\n",
        "Este problema aborda a distribuição gama, onde a média e o desvio padrão são fornecidos, e precisamos encontrar os parâmetros de forma (a) e escala (scale)."
      ],
      "metadata": {
        "id": "WFFoUpmQhJPY"
      }
    },
    {
      "cell_type": "code",
      "source": [
        "import numpy as np\n",
        "from scipy.stats import gamma\n",
        "\n",
        "print(\"\\n--- 3. Tempo de Vida de Transistor ---\")\n",
        "\n",
        "# Parâmetros dados\n",
        "media_gamma = 24  # semanas\n",
        "desvio_padrao_gamma = 12 # semanas\n",
        "\n",
        "# Relações para distribuição Gama:\n",
        "# Média (mu) = alpha * beta_scale\n",
        "# Variância (sigma^2) = alpha * beta_scale^2\n",
        "# Onde alpha é o parâmetro de forma (shape, a) e beta_scale é o parâmetro de escala (scale).\n",
        "\n",
        "# Podemos calcular alpha e beta_scale a partir da média e variância\n",
        "# Variância = desvio_padrao^2\n",
        "variance_gamma = desvio_padrao_gamma**2\n",
        "\n",
        "# Da relação: Variância / Média = (alpha * beta_scale^2) / (alpha * beta_scale) = beta_scale\n",
        "beta_scale = variance_gamma / media_gamma\n",
        "\n",
        "# Da relação: Média = alpha * beta_scale\n",
        "alpha_shape = media_gamma / beta_scale\n",
        "\n",
        "print(f\"\\nParâmetros da Distribuição Gama:\")\n",
        "print(f\"  Parâmetro de forma (alpha/a): {alpha_shape:.4f}\")\n",
        "print(f\"  Parâmetro de escala (beta_scale): {beta_scale:.4f}\")\n",
        "\n",
        "# (a) Qual é a probabilidade de um transistor durar entre 12 e 24 semanas?\n",
        "# P(12 < X < 24) = P(X <= 24) - P(X <= 12)\n",
        "prob_entre_12_e_24 = gamma.cdf(24, a=alpha_shape, scale=beta_scale) - \\\n",
        "                     gamma.cdf(12, a=alpha_shape, scale=beta_scale)\n",
        "print(f\"\\n(a) Probabilidade de um transistor durar entre 12 e 24 semanas: {prob_entre_12_e_24:.4f}\")\n",
        "\n",
        "# (b) Qual é a probabilidade de um transistor durar no máximo 24 semanas?\n",
        "# P(X <= 24)\n",
        "prob_max_24 = gamma.cdf(24, a=alpha_shape, scale=beta_scale)\n",
        "print(f\"\\n(b) Probabilidade de um transistor durar no máximo 24 semanas: {prob_max_24:.4f}\")\n",
        "\n",
        "# A mediana da distribuição do tempo de vida é inferior a 24? Por que ou por que não?\n",
        "# A mediana é o valor onde 50% da distribuição está abaixo dele.\n",
        "# Para a distribuição Gama, se alpha > 1, a distribuição é assimétrica à direita (cauda longa à direita).\n",
        "# Neste caso, Média > Mediana.\n",
        "# Se alpha = 1, é exponencial (Média = Mediana).\n",
        "# Se alpha < 1, é assimétrica à esquerda (cauda longa à esquerda).\n",
        "# No nosso caso, alpha_shape = 4.0, que é > 1. Portanto, esperamos que a mediana seja menor que a média (24 semanas).\n",
        "\n",
        "mediana_gamma = gamma.ppf(0.5, a=alpha_shape, scale=beta_scale)\n",
        "print(f\"    Mediana da distribuição do tempo de vida: {mediana_gamma:.4f} semanas\")\n",
        "\n",
        "if mediana_gamma < media_gamma:\n",
        "    print(f\"    A mediana da distribuição do tempo de vida ({mediana_gamma:.2f}) é inferior à média (24).\")\n",
        "    print(f\"    Isso ocorre porque a distribuição Gama, com parâmetro de forma (alpha) de {alpha_shape:.1f} (maior que 1), é assimétrica à direita (positivamente assimétrica).\")\n",
        "    print(f\"    Para distribuições assimétricas à direita, a média é puxada pela cauda mais longa, sendo maior que a mediana.\")\n",
        "else:\n",
        "    print(f\"    A mediana da distribuição do tempo de vida ({mediana_gamma:.2f}) não é inferior à média (24).\")\n",
        "\n",
        "\n",
        "# (c) Qual é o 99 percentil da distribuição do tempo de vida?\n",
        "# O 99 percentil é o valor 'x' tal que P(X <= x) = 0.99\n",
        "percentil_99 = gamma.ppf(0.99, a=alpha_shape, scale=beta_scale)\n",
        "print(f\"\\n(c) O 99 percentil da distribuição do tempo de vida é: {percentil_99:.4f} semanas\")\n",
        "\n",
        "# (d) Suponha que o teste seja finalizado após t semanas. Que valor de t faz com que apenas 0,5% de todos os transistores estejam operando no fim do teste?\n",
        "# Isso significa que P(X > t) = 0.005, ou P(X <= t) = 1 - 0.005 = 0.995\n",
        "# Precisamos encontrar o valor de 't' que corresponde ao 99.5 percentil.\n",
        "valor_t = gamma.ppf(0.995, a=alpha_shape, scale=beta_scale)\n",
        "print(f\"\\n(d) O valor de 't' que faz com que apenas 0,5% dos transistores estejam operando no fim do teste é: {valor_t:.4f} semanas\")"
      ],
      "metadata": {
        "colab": {
          "base_uri": "https://localhost:8080/"
        },
        "id": "enFNl4efhLgN",
        "outputId": "0db19730-df2b-4d82-a49f-08e5a0bd9bec"
      },
      "execution_count": 3,
      "outputs": [
        {
          "output_type": "stream",
          "name": "stdout",
          "text": [
            "\n",
            "--- 3. Tempo de Vida de Transistor ---\n",
            "\n",
            "Parâmetros da Distribuição Gama:\n",
            "  Parâmetro de forma (alpha/a): 4.0000\n",
            "  Parâmetro de escala (beta_scale): 6.0000\n",
            "\n",
            "(a) Probabilidade de um transistor durar entre 12 e 24 semanas: 0.4237\n",
            "\n",
            "(b) Probabilidade de um transistor durar no máximo 24 semanas: 0.5665\n",
            "    Mediana da distribuição do tempo de vida: 22.0324 semanas\n",
            "    A mediana da distribuição do tempo de vida (22.03) é inferior à média (24).\n",
            "    Isso ocorre porque a distribuição Gama, com parâmetro de forma (alpha) de 4.0 (maior que 1), é assimétrica à direita (positivamente assimétrica).\n",
            "    Para distribuições assimétricas à direita, a média é puxada pela cauda mais longa, sendo maior que a mediana.\n",
            "\n",
            "(c) O 99 percentil da distribuição do tempo de vida é: 60.2707 semanas\n",
            "\n",
            "(d) O valor de 't' que faz com que apenas 0,5% dos transistores estejam operando no fim do teste é: 65.8649 semanas\n"
          ]
        }
      ]
    },
    {
      "cell_type": "markdown",
      "source": [
        "# Questão Nº4"
      ],
      "metadata": {
        "id": "cl-c69P-YnrF"
      }
    },
    {
      "cell_type": "markdown",
      "source": [
        "Seja X o limite de resistência à tração (ksi) a 200° de um corpo de prova de aço selecionado aleatoriamente que apresenta “fragilidade ao frio” em baixas temperaturas. Suponha que X tenha distribuição de Weibull com 𝛼  =  20 e  𝛽  =  100.\n",
        "a.   Qual é a probabilidade de X ser no máximo 105?\n",
        "\n",
        "b.   Se forem selecionados vários corpos de prova um após o outro, qual é a probabilidade no longo prazo de obter valores de resistência entre 100 e 105 ksi?\n",
        "\n",
        "c.   Qual é o valor da mediana da distribuição de resistência?\n"
      ],
      "metadata": {
        "id": "gXAY8npTfXn6"
      }
    },
    {
      "cell_type": "markdown",
      "source": [
        "**Limite de Resistência à Tração (Distribuição de Weibull)**\n",
        "\n",
        "Este problema utiliza a distribuição de Weibull para modelar o limite de resistência à tração."
      ],
      "metadata": {
        "id": "EBRY7u8fhVeL"
      }
    },
    {
      "cell_type": "code",
      "source": [
        "from scipy.stats import weibull_min\n",
        "\n",
        "print(\"\\n--- 4. Limite de Resistência à Tração ---\")\n",
        "\n",
        "# Parâmetros da distribuição de Weibull\n",
        "# Weibull na scipy.stats é weibull_min(c, loc=0, scale=1)\n",
        "# onde 'c' é o parâmetro de forma (shape, beta) e 'scale' é o parâmetro de escala (alpha).\n",
        "# No problema, alpha = 20 e beta = 100.\n",
        "# Portanto, c = beta = 100 e scale = alpha = 20.\n",
        "\n",
        "shape_beta = 100  # Parâmetro beta do problema (c na scipy.stats)\n",
        "scale_alpha = 20  # Parâmetro alpha do problema (scale na scipy.stats)\n",
        "\n",
        "# (a) Qual é a probabilidade de X ser no máximo 105?\n",
        "# P(X <= 105)\n",
        "prob_max_105 = weibull_min.cdf(105, c=shape_beta, scale=scale_alpha)\n",
        "print(f\"\\n(a) Probabilidade de X ser no máximo 105 (P(X <= 105)): {prob_max_105:.4f}\")\n",
        "\n",
        "# (b) Se forem selecionados vários corpos de prova um após o outro, qual é a probabilidade no longo prazo de obter valores de resistência entre 100 e 105 ksi?\n",
        "# No longo prazo, a probabilidade é simplesmente P(100 < X < 105) para uma única observação.\n",
        "# P(100 < X < 105) = P(X <= 105) - P(X <= 100)\n",
        "prob_entre_100_e_105 = weibull_min.cdf(105, c=shape_beta, scale=scale_alpha) - \\\n",
        "                       weibull_min.cdf(100, c=shape_beta, scale=scale_alpha)\n",
        "print(f\"\\n(b) Probabilidade no longo prazo de obter valores de resistência entre 100 e 105 ksi: {prob_entre_100_e_105:.4f}\")\n",
        "\n",
        "# (c) Qual é o valor da mediana da distribuição de resistência?\n",
        "# A mediana é o valor 'x' tal que P(X <= x) = 0.50.\n",
        "mediana_weibull = weibull_min.ppf(0.5, c=shape_beta, scale=scale_alpha)\n",
        "print(f\"\\n(c) Valor da mediana da distribuição de resistência: {mediana_weibull:.4f} ksi\")"
      ],
      "metadata": {
        "colab": {
          "base_uri": "https://localhost:8080/"
        },
        "id": "n5RDmMCbhX0T",
        "outputId": "14a17eb9-24e9-4a19-e6ba-3691f0e12ca9"
      },
      "execution_count": 4,
      "outputs": [
        {
          "output_type": "stream",
          "name": "stdout",
          "text": [
            "\n",
            "--- 4. Limite de Resistência à Tração ---\n",
            "\n",
            "(a) Probabilidade de X ser no máximo 105 (P(X <= 105)): 1.0000\n",
            "\n",
            "(b) Probabilidade no longo prazo de obter valores de resistência entre 100 e 105 ksi: 0.0000\n",
            "\n",
            "(c) Valor da mediana da distribuição de resistência: 19.9268 ksi\n"
          ]
        }
      ]
    },
    {
      "cell_type": "markdown",
      "source": [
        "# Questão Nº5"
      ],
      "metadata": {
        "id": "n8F4HsM-ZKtM"
      }
    },
    {
      "cell_type": "markdown",
      "source": [
        "O artigo “The Load-Life Relationship for M50 Bearings with Silicon Nitride Ceramic Balls” (Lubrication Engr., 1984, p. 153-159) relata os dados a seguir sobre a vida de carga de mancais (milhões revs.) para mancais testados com cargas de 6,45 kN\n",
        "\n",
        "\n",
        "![image.png](data:image/png;base64,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)"
      ],
      "metadata": {
        "id": "Xabg10hrfdgB"
      }
    },
    {
      "cell_type": "markdown",
      "source": [
        "a.   Construa um gráﬁco de probabilidade normal. A normalidade é plausível?\n",
        "\n",
        "b.   Construa um gráﬁco de probabilidade de Weibull. A família de distribuições Weibull é plausível?\n"
      ],
      "metadata": {
        "id": "H4L13bGzfiBe"
      }
    },
    {
      "cell_type": "markdown",
      "source": [
        "**Vida de Carga de Mancais (Gráficos de Probabilidade)**\n",
        "\n",
        "Aqui, vamos construir e interpretar gráficos de probabilidade normal e Weibull para os dados fornecidos."
      ],
      "metadata": {
        "id": "O9c7pGFzhe26"
      }
    },
    {
      "cell_type": "code",
      "source": [
        "import matplotlib.pyplot as plt\n",
        "import seaborn as sns\n",
        "import statsmodels.api as sm\n",
        "from scipy import stats\n",
        "\n",
        "print(\"\\n--- 5. Vida de Carga de Mancais ---\")\n",
        "\n",
        "# Dados da vida de carga dos mancais (milhões revs.)\n",
        "dados_vida = np.array([47.1, 68.1, 68.1, 90.8, 103.6, 106.0, 115.0, 126.0, 146.6, 229.0,\n",
        "    240.0, 240.0, 278.0, 278.0, 289.0, 289.0, 367.0, 385.9, 392.0, 505.0])\n",
        "\n",
        "# (a) Construa um gráfico de probabilidade normal. A normalidade é plausível?\n",
        "plt.figure(figsize=(10, 6))\n",
        "sm.qqplot(dados_vida, line='s', fit=True, ax=plt.gca()) # 's' para linha padrão, 'fit=True' para ajustar a média e o desvio padrão\n",
        "plt.title('Gráfico de Probabilidade Normal para Vida de Carga de Mancais')\n",
        "plt.xlabel('Quantis Teóricos (Distribuição Normal)')\n",
        "plt.ylabel('Quantis Amostrais (Dados de Vida de Carga)')\n",
        "plt.grid(True)\n",
        "plt.show()\n",
        "\n",
        "# Teste de Shapiro-Wilk para formalizar a análise de normalidade\n",
        "shapiro_test = stats.shapiro(dados_vida)\n",
        "print(f\"\\n(a) Teste de Shapiro-Wilk para Normalidade:\")\n",
        "print(f\"    Estatística W: {shapiro_test.statistic:.4f}\")\n",
        "print(f\"    P-valor: {shapiro_test.pvalue:.4f}\")\n",
        "\n",
        "if shapiro_test.pvalue > 0.05:\n",
        "    print(f\"    Com base no p-valor ({shapiro_test.pvalue:.4f}), que é maior que 0.05, a hipótese de normalidade **não pode ser rejeitada**. Os dados podem ser considerados plausivelmente normais.\")\n",
        "else:\n",
        "    print(f\"    Com base no p-valor ({shapiro_test.pvalue:.4f}), que é menor que 0.05, a hipótese de normalidade **é rejeitada**. Os dados não parecem ser normais.\")\n",
        "\n",
        "# Interpretação visual do Q-Q plot\n",
        "print(\"\\n    **Interpretação visual do Gráfico de Probabilidade Normal:**\")\n",
        "print(\"    Se os pontos no gráfico Q-Q se alinham aproximadamente ao longo da linha reta (especialmente no centro), a normalidade é plausível. Desvios nas caudas podem indicar não-normalidade. Neste caso, há um desvio perceptível na cauda superior, sugerindo que os dados não seguem uma distribuição normal estrita.\")\n",
        "\n",
        "\n",
        "# (b) Construa um gráfico de probabilidade de Weibull. A família de distribuições Weibull é plausível?\n",
        "# Para o gráfico de probabilidade de Weibull, geralmente se usa um tipo de \"Probability Plot\" que lineariza os dados.\n",
        "# O `statsmodels` não tem um `qqplot` direto para Weibull, mas podemos fazer um plot manual.\n",
        "# Uma abordagem comum é plotar os logaritmos dos dados em função dos logaritmos dos quantis teóricos da Weibull.\n",
        "# Ou usar uma biblioteca como `probscale` ou fazer um plot com `scipy.stats.probplot` e especificar a distribuição.\n",
        "# Vamos usar uma abordagem que simula o gráfico de probabilidade da Weibull.\n",
        "\n",
        "# Rankear os dados\n",
        "dados_ordenados = np.sort(dados_vida)\n",
        "n_dados = len(dados_ordenados)\n",
        "\n",
        "# Calcular as probabilidades empíricas (rank * (1/(n+1)) ou similar)\n",
        "# Usando a fórmula de Blom para ranks: (i - 0.375) / (n + 0.25)\n",
        "prob_empiricas = [(i - 0.375) / (n_dados + 0.25) for i in range(1, n_dados + 1)]\n",
        "\n",
        "# Para um gráfico de Weibull, a relação linear esperada é entre ln(ln(1/(1-P(X<=x)))) e ln(x).\n",
        "# Y = ln(ln(1/(1-P)))\n",
        "# X = ln(x)\n",
        "\n",
        "y_weibull_plot = np.log(-np.log(1 - np.array(prob_empiricas)))\n",
        "x_weibull_plot = np.log(dados_ordenados)\n",
        "\n",
        "plt.figure(figsize=(10, 6))\n",
        "plt.plot(x_weibull_plot, y_weibull_plot, 'o', markersize=4)\n",
        "plt.title('Gráfico de Probabilidade de Weibull para Vida de Carga de Mancais')\n",
        "plt.xlabel('ln(Vida de Carga)')\n",
        "plt.ylabel('ln(-ln(1-P))')\n",
        "plt.grid(True)\n",
        "\n",
        "# Adicionar uma linha de regressão linear para ajudar a visualizar o ajuste\n",
        "m, b = np.polyfit(x_weibull_plot, y_weibull_plot, 1)\n",
        "plt.plot(x_weibull_plot, m*x_weibull_plot + b, color='red', linestyle='--', label=f'y = {m:.2f}x + {b:.2f}')\n",
        "plt.legend()\n",
        "plt.show()\n",
        "\n",
        "# Interpretação visual do gráfico de probabilidade de Weibull\n",
        "print(\"\\n(b) **Interpretação visual do Gráfico de Probabilidade de Weibull:**\")\n",
        "print(\"    Se os pontos no gráfico de Weibull se alinham aproximadamente ao longo de uma linha reta, a distribuição de Weibull é plausível para modelar os dados.\")\n",
        "print(\"    Neste gráfico, os pontos parecem se ajustar razoavelmente bem a uma linha reta, especialmente na porção central. Isso sugere que a família de distribuições Weibull é **plausível** para modelar o tempo de vida de carga desses mancais.\")\n",
        "print(\"    Comparado ao gráfico normal, o ajuste para a distribuição de Weibull parece ser melhor, com os pontos mais próximos da linha reta. Isso é comum para dados de tempo de vida.\")"
      ],
      "metadata": {
        "colab": {
          "base_uri": "https://localhost:8080/",
          "height": 1000
        },
        "id": "ohie1Lschlwv",
        "outputId": "7473b756-170f-4261-ac79-ef9f2c909d2c"
      },
      "execution_count": 8,
      "outputs": [
        {
          "output_type": "stream",
          "name": "stdout",
          "text": [
            "\n",
            "--- 5. Vida de Carga de Mancais ---\n"
          ]
        },
        {
          "output_type": "display_data",
          "data": {
            "text/plain": [
              "<Figure size 1000x600 with 1 Axes>"
            ],
            "image/png": "[encoded data removed]"
          },
          "metadata": {}
        },
        {
          "output_type": "stream",
          "name": "stdout",
          "text": [
            "\n",
            "(a) Teste de Shapiro-Wilk para Normalidade:\n",
            "    Estatística W: 0.9304\n",
            "    P-valor: 0.1570\n",
            "    Com base no p-valor (0.1570), que é maior que 0.05, a hipótese de normalidade **não pode ser rejeitada**. Os dados podem ser considerados plausivelmente normais.\n",
            "\n",
            "    **Interpretação visual do Gráfico de Probabilidade Normal:**\n",
            "    Se os pontos no gráfico Q-Q se alinham aproximadamente ao longo da linha reta (especialmente no centro), a normalidade é plausível. Desvios nas caudas podem indicar não-normalidade. Neste caso, há um desvio perceptível na cauda superior, sugerindo que os dados não seguem uma distribuição normal estrita.\n"
          ]
        },
        {
          "output_type": "display_data",
          "data": {
            "text/plain": [
              "<Figure size 1000x600 with 1 Axes>"
            ],
            "image/png": "[encoded data removed]"
          },
          "metadata": {}
        },
        {
          "output_type": "stream",
          "name": "stdout",
          "text": [
            "\n",
            "(b) **Interpretação visual do Gráfico de Probabilidade de Weibull:**\n",
            "    Se os pontos no gráfico de Weibull se alinham aproximadamente ao longo de uma linha reta, a distribuição de Weibull é plausível para modelar os dados.\n",
            "    Neste gráfico, os pontos parecem se ajustar razoavelmente bem a uma linha reta, especialmente na porção central. Isso sugere que a família de distribuições Weibull é **plausível** para modelar o tempo de vida de carga desses mancais.\n",
            "    Comparado ao gráfico normal, o ajuste para a distribuição de Weibull parece ser melhor, com os pontos mais próximos da linha reta. Isso é comum para dados de tempo de vida.\n"
          ]
        }
      ]
    },
    {
      "cell_type": "markdown",
      "source": [
        "# Questão Nº6"
      ],
      "metadata": {
        "id": "24dFcp-Lfmdx"
      }
    },
    {
      "cell_type": "markdown",
      "source": [
        "O artigo “Determination of the MTF of Positive Photoresists Using the Monte Carlo Method” (Photographic Sci. and Engr., 1983, p. 254-260) propõe uma distribuição exponencial com parâmetro 𝜆 = 0,93 como modelo de distribuição do comprimento da trajetória de um fóton (𝜇m) sob determinadas circunstâncias. Suponha que esse seja o modelo correto.\n",
        "\n",
        "a.    Qual é o comprimento esperado da trajetória e qual é o desvio padrão?\n",
        "\n",
        "b.  Qual é a probabilidade de o comprimento da trajetória exceder 3,0? Qual é a\n",
        "probabilidade de o comprimento da trajetória estar entre 1,0 e 3,0?\n",
        "\n",
        "c.    Que valor é excedido por apenas 10% de todos os comprimentos de trajetórias?\n"
      ],
      "metadata": {
        "id": "5bDEwbkhfoxB"
      }
    },
    {
      "cell_type": "markdown",
      "source": [
        "**Comprimento da Trajetória de um Fóton (Distribuição Exponencial)**\n",
        "\n",
        "Este problema trata da distribuição exponencial, que é um caso especial da distribuição Gama."
      ],
      "metadata": {
        "id": "NRXCP7MDifj1"
      }
    },
    {
      "cell_type": "code",
      "source": [
        "from scipy.stats import expon\n",
        "\n",
        "print(\"\\n--- 6. Comprimento da Trajetória de um Fóton ---\")\n",
        "\n",
        "# Parâmetro da distribuição exponencial (lambda)\n",
        "# Na scipy.stats, a distribuição exponencial é parametrizada por `scale = 1/lambda`.\n",
        "lambda_param = 0.93\n",
        "scale_param = 1 / lambda_param # scale = 1/lambda\n",
        "\n",
        "print(f\"\\nParâmetro lambda (taxa) da distribuição exponencial: {lambda_param}\")\n",
        "print(f\"Parâmetro de escala (scale) para scipy.stats.expon: {scale_param:.4f}\")\n",
        "\n",
        "# (a) Qual é o comprimento esperado da trajetória e qual é o desvio padrão?\n",
        "# Para uma distribuição exponencial com parâmetro lambda:\n",
        "# Média (Esperança) = 1 / lambda\n",
        "# Desvio Padrão = 1 / lambda (ou sqrt(Variância), e Variância = 1/lambda^2)\n",
        "\n",
        "comprimento_esperado = 1 / lambda_param\n",
        "desvio_padrao_expon = 1 / lambda_param\n",
        "\n",
        "print(f\"\\n(a) Comprimento esperado da trajetória: {comprimento_esperado:.4f} µm\")\n",
        "print(f\"    Desvio padrão do comprimento da trajetória: {desvio_padrao_expon:.4f} µm\")\n",
        "\n",
        "# (b) Qual é a probabilidade de o comprimento da trajetória exceder 3,0?\n",
        "# P(X > 3.0) = 1 - P(X <= 3.0)\n",
        "prob_exceder_3 = 1 - expon.cdf(3.0, scale=scale_param)\n",
        "print(f\"\\n(b) Probabilidade de o comprimento da trajetória exceder 3.0: {prob_exceder_3:.4f}\")\n",
        "\n",
        "# Qual é a probabilidade de o comprimento da trajetória estar entre 1,0 e 3,0?\n",
        "# P(1.0 < X < 3.0) = P(X <= 3.0) - P(X <= 1.0)\n",
        "prob_entre_1_e_3 = expon.cdf(3.0, scale=scale_param) - \\\n",
        "                   expon.cdf(1.0, scale=scale_param)\n",
        "print(f\"    Probabilidade de o comprimento da trajetória estar entre 1.0 e 3.0: {prob_entre_1_e_3:.4f}\")\n",
        "\n",
        "# (c) Que valor é excedido por apenas 10% de todos os comprimentos de trajetórias?\n",
        "# Isso significa encontrar 'x' tal que P(X > x) = 0.10, ou P(X <= x) = 1 - 0.10 = 0.90.\n",
        "# Estamos procurando o 90º percentil.\n",
        "valor_excedido_por_10_porcento = expon.ppf(0.90, scale=scale_param)\n",
        "print(f\"\\n(c) O valor que é excedido por apenas 10% de todos os comprimentos de trajetórias é: {valor_excedido_por_10_porcento:.4f} µm\")"
      ],
      "metadata": {
        "colab": {
          "base_uri": "https://localhost:8080/"
        },
        "id": "7-2uMVfgiiC7",
        "outputId": "65fe9df0-c9d1-4681-91fb-4eaccb369211"
      },
      "execution_count": 9,
      "outputs": [
        {
          "output_type": "stream",
          "name": "stdout",
          "text": [
            "\n",
            "--- 6. Comprimento da Trajetória de um Fóton ---\n",
            "\n",
            "Parâmetro lambda (taxa) da distribuição exponencial: 0.93\n",
            "Parâmetro de escala (scale) para scipy.stats.expon: 1.0753\n",
            "\n",
            "(a) Comprimento esperado da trajetória: 1.0753 µm\n",
            "    Desvio padrão do comprimento da trajetória: 1.0753 µm\n",
            "\n",
            "(b) Probabilidade de o comprimento da trajetória exceder 3.0: 0.0614\n",
            "    Probabilidade de o comprimento da trajetória estar entre 1.0 e 3.0: 0.3331\n",
            "\n",
            "(c) O valor que é excedido por apenas 10% de todos os comprimentos de trajetórias é: 2.4759 µm\n"
          ]
        }
      ]
    }
  ]
}
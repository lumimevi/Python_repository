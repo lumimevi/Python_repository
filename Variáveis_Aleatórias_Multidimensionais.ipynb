{
  "nbformat": 4,
  "nbformat_minor": 0,
  "metadata": {
    "colab": {
      "provenance": [],
      "toc_visible": true,
      "authorship_tag": "ABX9TyP+qa1Pbp5RiHv8t70UZdwk",
      "include_colab_link": true
    },
    "kernelspec": {
      "name": "python3",
      "display_name": "Python 3"
    },
    "language_info": {
      "name": "python"
    }
  },
  "cells": [
    {
      "cell_type": "markdown",
      "metadata": {
        "id": "view-in-github",
        "colab_type": "text"
      },
      "source": [
        "<a href=\"https://colab.research.google.com/github/lumimevi/Python_repository/blob/master/Vari%C3%A1veis_Aleat%C3%B3rias_Multidimensionais.ipynb\" target=\"_parent\"><img src=\"https://colab.research.google.com/assets/colab-badge.svg\" alt=\"Open In Colab\"/></a>"
      ]
    },
    {
      "cell_type": "markdown",
      "source": [
        "## **Variáveis Aleatórias Multidimensionais**\n",
        "\n",
        "Lourdes Milagros Mendoza Villavicencio"
      ],
      "metadata": {
        "id": "Oo_iU5mZSuA-"
      }
    },
    {
      "cell_type": "markdown",
      "source": [
        "# Questão Nº1"
      ],
      "metadata": {
        "id": "PdwcmRwOWftx"
      }
    },
    {
      "cell_type": "markdown",
      "source": [
        "A distribuição de probabilidades conjuntas do número X de carros e do número Y de ônibus por ciclo de semáforo em uma conversão à esquerda proposta é exibida na tabela de probabilidade conjunta a seguir.\n",
        "\n",
        "\n",
        "![image.png](data:image/png;base64,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)"
      ],
      "metadata": {
        "id": "d5jO6HbVlbB9"
      }
    },
    {
      "cell_type": "markdown",
      "source": [
        "a. Qual é a probabilidade de haver exatamente um carro e exatamente um ônibus em um ciclo?\n",
        "\n",
        "b. Qual é a probabilidade de haver no máximo um carro e no máximo um ônibus em um ciclo?\n",
        "\n",
        "c. Qual é a probabilidade de haver exatamente um carro em um ciclo? E exatamente um ônibus?\n",
        "\n",
        "d. Suponha que uma pista de conversão à esquerda tenha capacidade para cinco carros e um ônibus, equivalente a três carros. Qual é a probabilidade de excesso de fluxo em um ciclo?\n",
        "\n",
        "e. X e Y são variáveis independentes? Explique.\n"
      ],
      "metadata": {
        "id": "dSia11F_lf8R"
      }
    },
    {
      "cell_type": "markdown",
      "source": [
        " **Probabilidade Conjunta de Carros e Ônibus em um Semáforo**\n",
        "\n",
        " Vamos usar a tabela de probabilidade conjunta para responder às perguntas sobre carros (X) e ônibus (Y) em um ciclo de semáforo.\n"
      ],
      "metadata": {
        "id": "bFlFK6jgmJUE"
      }
    },
    {
      "cell_type": "code",
      "source": [
        "import pandas as pd\n",
        "import numpy as np\n",
        "\n",
        "print(\"--- 1. Probabilidade Conjunta de Carros e Ônibus em um Semáforo ---\")\n",
        "\n",
        "# Tabela de probabilidade conjunta p(x, y)\n",
        "data = {\n",
        "    '0': [0.025, 0.050, 0.125, 0.150, 0.100, 0.050],\n",
        "    '1': [0.015, 0.030, 0.075, 0.090, 0.060, 0.030],\n",
        "    '2': [0.010, 0.020, 0.050, 0.060, 0.040, 0.020]\n",
        "}\n",
        "index_x = [0, 1, 2, 3, 4, 5]\n",
        "df_prob = pd.DataFrame(data, index=index_x)\n",
        "df_prob.columns.name = 'y (ônibus)'\n",
        "df_prob.index.name = 'x (carros)'\n",
        "\n",
        "print(\"\\nTabela de Probabilidade Conjunta p(x, y):\")\n",
        "print(df_prob)\n",
        "\n",
        "# (a) Qual é a probabilidade de haver exatamente um carro e exatamente um ônibus em um ciclo?\n",
        "# P(X=1, Y=1)\n",
        "prob_a = df_prob.loc[1, '1']\n",
        "print(f\"\\n(a) Probabilidade de exatamente um carro e exatamente um ônibus: {prob_a:.4f}\")\n",
        "\n",
        "# (b) Qual é a probabilidade de haver no máximo um carro e no máximo um ônibus em um ciclo?\n",
        "# P(X <= 1, Y <= 1) = P(X=0, Y=0) + P(X=0, Y=1) + P(X=1, Y=0) + P(X=1, Y=1)\n",
        "prob_b = df_prob.loc[0, '0'] + df_prob.loc[0, '1'] + \\\n",
        "         df_prob.loc[1, '0'] + df_prob.loc[1, '1']\n",
        "print(f\"(b) Probabilidade de no máximo um carro e no máximo um ônibus: {prob_b:.4f}\")\n",
        "\n",
        "# (c) Qual é a probabilidade de haver exatamente um carro em um ciclo? E exatamente um ônibus?\n",
        "# P(X=1) = Soma de p(1, y) para todos os y\n",
        "prob_x_eq_1 = df_prob.loc[1, :].sum()\n",
        "print(f\"\\n(c) Probabilidade de exatamente um carro: {prob_x_eq_1:.4f}\")\n",
        "\n",
        "# P(Y=1) = Soma de p(x, 1) para todos os x\n",
        "prob_y_eq_1 = df_prob.loc[:, '1'].sum()\n",
        "print(f\"    Probabilidade de exatamente um ônibus: {prob_y_eq_1:.4f}\")\n",
        "\n",
        "# (d) Suponha que uma pista de conversão à esquerda tenha capacidade para cinco carros e um ônibus,\n",
        "# equivalente a três carros. Qual é a probabilidade de excesso de fluxo em um ciclo?\n",
        "# Capacidade total em \"equivalente a carros\": 5 (carros) + 1 (ônibus) * 3 (equiv. carros/ônibus) = 5 + 3 = 8 carros\n",
        "# Excesso de fluxo ocorre se o número total de \"carros equivalentes\" > 8.\n",
        "# Carros Equivalentes (CE) = X + 3Y\n",
        "\n",
        "prob_excesso_fluxo = 0\n",
        "print(\"\\n(d) Calculando a probabilidade de excesso de fluxo (X + 3Y > 8):\")\n",
        "for x in df_prob.index:\n",
        "    for y in df_prob.columns:\n",
        "        y_int = int(y) # Converte a string 'y' para int\n",
        "        carros_equivalentes = x + 3 * y_int\n",
        "        if carros_equivalentes > 8:\n",
        "            prob_excesso_fluxo += df_prob.loc[x, y]\n",
        "            print(f\"    Cenário (X={x}, Y={y_int}): {carros_equivalentes} carros equivalentes (Excesso). Prob: {df_prob.loc[x, y]:.4f}\")\n",
        "\n",
        "print(f\"Probabilidade de excesso de fluxo em um ciclo: {prob_excesso_fluxo:.4f}\")\n",
        "\n",
        "\n",
        "# (e) X e Y são variáveis independentes? Explique.\n",
        "# Para X e Y serem independentes, p(x, y) = P(X=x) * P(Y=y) para todos os x e y.\n",
        "# Primeiro, calcule as distribuições de probabilidade marginais para X e Y.\n",
        "prob_marginal_x = df_prob.sum(axis=1)\n",
        "prob_marginal_y = df_prob.sum(axis=0)\n",
        "\n",
        "print(\"\\n(e) Verificando a independência de X e Y:\")\n",
        "print(\"\\nProbabilidade Marginal de X:\")\n",
        "print(prob_marginal_x)\n",
        "print(\"\\nProbabilidade Marginal de Y:\")\n",
        "print(prob_marginal_y)\n",
        "\n",
        "independentes = True\n",
        "for x in df_prob.index:\n",
        "    for y_str in df_prob.columns:\n",
        "        y_int = int(y_str)\n",
        "        # Calcula P(X=x) * P(Y=y)\n",
        "        produto_marginais = prob_marginal_x.loc[x] * prob_marginal_y.loc[y_str]\n",
        "        # Compara com p(x, y)\n",
        "        if not np.isclose(df_prob.loc[x, y_str], produto_marginais, atol=1e-9): # Use np.isclose para lidar com pontos flutuantes\n",
        "            print(f\"    Para X={x}, Y={y_int}:\")\n",
        "            print(f\"      p(x, y) = {df_prob.loc[x, y_str]:.4f}\")\n",
        "            print(f\"      P(X=x) * P(Y=y) = {prob_marginal_x.loc[x]:.4f} * {prob_marginal_y.loc[y_str]:.4f} = {produto_marginais:.4f}\")\n",
        "            print(f\"      Os valores não são iguais. Portanto, X e Y NÃO são independentes.\")\n",
        "            independentes = False\n",
        "            break\n",
        "    if not independentes:\n",
        "        break\n",
        "\n",
        "if independentes:\n",
        "    print(\"\\n    Todos os p(x, y) são iguais a P(X=x) * P(Y=y). Portanto, X e Y são independentes.\")\n",
        "else:\n",
        "    print(\"\\n    **Conclusão: X e Y NÃO são variáveis independentes.**\")\n",
        "    print(\"    Isso é demonstrado pelo fato de que p(x, y) não é igual ao produto P(X=x) * P(Y=y) para todas as combinações de x e y.\")\n",
        "    print(\"    Por exemplo, para X=0, Y=0:\")\n",
        "    print(f\"    p(0, 0) = {df_prob.loc[0, '0']:.4f}\")\n",
        "    print(f\"    P(X=0) * P(Y=0) = {prob_marginal_x.loc[0]:.4f} * {prob_marginal_y.loc['0']:.4f} = {(prob_marginal_x.loc[0] * prob_marginal_y.loc['0']):.4f}\")\n",
        "    print(f\"    Como {df_prob.loc[0, '0']:.4f} é diferente de {(prob_marginal_x.loc[0] * prob_marginal_y.loc['0']):.4f}, a independência não se sustenta.\")"
      ],
      "metadata": {
        "colab": {
          "base_uri": "https://localhost:8080/"
        },
        "id": "5o0QWXPNmPmU",
        "outputId": "6037d7be-a747-4d6f-f83c-d6d5a1264c26"
      },
      "execution_count": 1,
      "outputs": [
        {
          "output_type": "stream",
          "name": "stdout",
          "text": [
            "--- 1. Probabilidade Conjunta de Carros e Ônibus em um Semáforo ---\n",
            "\n",
            "Tabela de Probabilidade Conjunta p(x, y):\n",
            "y (ônibus)      0      1     2\n",
            "x (carros)                    \n",
            "0           0.025  0.015  0.01\n",
            "1           0.050  0.030  0.02\n",
            "2           0.125  0.075  0.05\n",
            "3           0.150  0.090  0.06\n",
            "4           0.100  0.060  0.04\n",
            "5           0.050  0.030  0.02\n",
            "\n",
            "(a) Probabilidade de exatamente um carro e exatamente um ônibus: 0.0300\n",
            "(b) Probabilidade de no máximo um carro e no máximo um ônibus: 0.1200\n",
            "\n",
            "(c) Probabilidade de exatamente um carro: 0.1000\n",
            "    Probabilidade de exatamente um ônibus: 0.3000\n",
            "\n",
            "(d) Calculando a probabilidade de excesso de fluxo (X + 3Y > 8):\n",
            "    Cenário (X=3, Y=2): 9 carros equivalentes (Excesso). Prob: 0.0600\n",
            "    Cenário (X=4, Y=2): 10 carros equivalentes (Excesso). Prob: 0.0400\n",
            "    Cenário (X=5, Y=2): 11 carros equivalentes (Excesso). Prob: 0.0200\n",
            "Probabilidade de excesso de fluxo em um ciclo: 0.1200\n",
            "\n",
            "(e) Verificando a independência de X e Y:\n",
            "\n",
            "Probabilidade Marginal de X:\n",
            "x (carros)\n",
            "0    0.05\n",
            "1    0.10\n",
            "2    0.25\n",
            "3    0.30\n",
            "4    0.20\n",
            "5    0.10\n",
            "dtype: float64\n",
            "\n",
            "Probabilidade Marginal de Y:\n",
            "y (ônibus)\n",
            "0    0.5\n",
            "1    0.3\n",
            "2    0.2\n",
            "dtype: float64\n",
            "\n",
            "    Todos os p(x, y) são iguais a P(X=x) * P(Y=y). Portanto, X e Y são independentes.\n"
          ]
        }
      ]
    },
    {
      "cell_type": "markdown",
      "source": [
        "# Questão Nº2"
      ],
      "metadata": {
        "id": "o95PTWeIXPYo"
      }
    },
    {
      "cell_type": "markdown",
      "source": [
        "Você tem duas lâmpadas para uma determinada luminária. Seja X = vida útil da primeira lâmpada e Y =  vida útil da segunda lâmpada (ambas de mil horas). Suponha que X e Y sejam independentes e que cada uma tenha distribuição exponencial com parâmetro λ =  1.\n",
        "\n",
        "a. Qual é a fdp conjunta de X e Y?\n",
        "\n",
        "b. Qual é a probabilidade de cada lâmpada durar no máximo 1000 horas (isso é, X <= 1 e Y <= 1)?\n",
        "\n",
        "c. Qual é a probabilidade de a vida útil total das duas lâmpadas ser no máximo 2?\n",
        "\n",
        "[Sugestão: desenhe a região\n",
        "A = {(x, y): x >= 0, y >= 0, x + y <= 2} antes da integração.]\n",
        "\n",
        "d. Qual é a probabilidade de a vida útil total estar entre 1 e 2?\n"
      ],
      "metadata": {
        "id": "cUQSs4-6lpCm"
      }
    },
    {
      "cell_type": "markdown",
      "source": [
        "**Vida Útil de Lâmpadas (Distribuição Exponencial Conjunta)**\n",
        "\n",
        "Este problema trata da distribuição exponencial, com foco na distribuição conjunta de duas variáveis independentes."
      ],
      "metadata": {
        "id": "EnkpHzximZp7"
      }
    },
    {
      "cell_type": "code",
      "source": [
        "import sympy\n",
        "from sympy import exp, integrate, oo, Symbol\n",
        "\n",
        "print(\"\\n--- 2. Vida Útil de Lâmpadas ---\")\n",
        "\n",
        "# Parâmetros da distribuição exponencial\n",
        "lambda_param = 1\n",
        "# Para scipy.stats.expon, scale = 1/lambda\n",
        "scale_param = 1 / lambda_param\n",
        "\n",
        "# (a) Qual é a fdp conjunta de X e Y?\n",
        "print(\"\\n(a) A função densidade de probabilidade (fdp) conjunta de X e Y:\")\n",
        "print(f\"Como X e Y são independentes, a fdp conjunta f(x, y) = f_X(x) * f_Y(y).\")\n",
        "print(f\"Para uma distribuição exponencial com λ = {lambda_param}, a fdp é f(t) = λ * e^(-λt) para t >= 0.\")\n",
        "print(f\"Portanto, f(x) = {lambda_param} * e^(-{lambda_param}x) para x >= 0\")\n",
        "print(f\"E f(y) = {lambda_param} * e^(-{lambda_param}y) para y >= 0\")\n",
        "print(f\"Assim, a fdp conjunta f(x, y) = ({lambda_param} * e^(-{lambda_param}x)) * ({lambda_param} * e^(-{lambda_param}y))\")\n",
        "print(f\"f(x, y) = {lambda_param**2} * e^(-{lambda_param}(x + y)) para x >= 0, y >= 0, e 0 caso contrário.\")\n",
        "print(f\"Neste caso, f(x, y) = 1 * e^(-(x + y)) para x >= 0, y >= 0.\")\n",
        "\n",
        "# (b) Qual é a probabilidade de cada lâmpada durar no máximo 1000 horas (isso é, X <= 1 e Y <= 1)?\n",
        "# P(X <= 1 e Y <= 1) = P(X <= 1) * P(Y <= 1) devido à independência\n",
        "# Para uma exponencial, P(X <= x_0) = 1 - e^(-lambda * x_0)\n",
        "\n",
        "prob_x_le_1 = 1 - np.exp(-lambda_param * 1)\n",
        "prob_y_le_1 = 1 - np.exp(-lambda_param * 1) # Igual a prob_x_le_1\n",
        "\n",
        "prob_ambas_le_1 = prob_x_le_1 * prob_y_le_1\n",
        "print(f\"\\n(b) Probabilidade de cada lâmpada durar no máximo 1000 horas (X <= 1 e Y <= 1): {prob_ambas_le_1:.4f}\")\n",
        "\n",
        "# (c) Qual é a probabilidade de a vida útil total das duas lâmpadas ser no máximo 2?\n",
        "# P(X + Y <= 2)\n",
        "# Integral dupla da fdp conjunta sobre a região A = {(x, y): x >= 0, y >= 0, x + y <= 2}\n",
        "# Integral de 0 a 2 para x, e de 0 a (2-x) para y.\n",
        "# f(x, y) = e^(-(x+y))\n",
        "\n",
        "x_sym, y_sym = Symbol('x'), Symbol('y')\n",
        "integrand = exp(-(x_sym + y_sym))\n",
        "\n",
        "# Integral interna com respeito a y\n",
        "integral_y = integrate(integrand, (y_sym, 0, 2 - x_sym))\n",
        "# Integral externa com respeito a x\n",
        "prob_total_le_2 = integrate(integral_y, (x_sym, 0, 2))\n",
        "\n",
        "print(f\"\\n(c) Probabilidade de a vida útil total das duas lâmpadas ser no máximo 2 (X + Y <= 2): {prob_total_le_2:.4f}\")\n",
        "\n",
        "# (d) Qual é a probabilidade de a vida útil total estar entre 1 e 2?\n",
        "# P(1 < X + Y < 2) = P(X + Y <= 2) - P(X + Y <= 1)\n",
        "\n",
        "# Calcular P(X + Y <= 1)\n",
        "# Integral de 0 a 1 para x, e de 0 a (1-x) para y.\n",
        "integral_y_le_1 = integrate(integrand, (y_sym, 0, 1 - x_sym))\n",
        "prob_total_le_1 = integrate(integral_y_le_1, (x_sym, 0, 1))\n",
        "\n",
        "prob_total_entre_1_e_2 = prob_total_le_2 - prob_total_le_1\n",
        "print(f\"\\n(d) Probabilidade de a vida útil total estar entre 1 e 2: {prob_total_entre_1_e_2:.4f}\")"
      ],
      "metadata": {
        "colab": {
          "base_uri": "https://localhost:8080/"
        },
        "id": "JTQEYZi3l2kt",
        "outputId": "22f408b9-0e11-45a8-c64b-3833ac7198d9"
      },
      "execution_count": 2,
      "outputs": [
        {
          "output_type": "stream",
          "name": "stdout",
          "text": [
            "\n",
            "--- 2. Vida Útil de Lâmpadas ---\n",
            "\n",
            "(a) A função densidade de probabilidade (fdp) conjunta de X e Y:\n",
            "Como X e Y são independentes, a fdp conjunta f(x, y) = f_X(x) * f_Y(y).\n",
            "Para uma distribuição exponencial com λ = 1, a fdp é f(t) = λ * e^(-λt) para t >= 0.\n",
            "Portanto, f(x) = 1 * e^(-1x) para x >= 0\n",
            "E f(y) = 1 * e^(-1y) para y >= 0\n",
            "Assim, a fdp conjunta f(x, y) = (1 * e^(-1x)) * (1 * e^(-1y))\n",
            "f(x, y) = 1 * e^(-1(x + y)) para x >= 0, y >= 0, e 0 caso contrário.\n",
            "Neste caso, f(x, y) = 1 * e^(-(x + y)) para x >= 0, y >= 0.\n",
            "\n",
            "(b) Probabilidade de cada lâmpada durar no máximo 1000 horas (X <= 1 e Y <= 1): 0.3996\n",
            "\n",
            "(c) Probabilidade de a vida útil total das duas lâmpadas ser no máximo 2 (X + Y <= 2): 0.5940\n",
            "\n",
            "(d) Probabilidade de a vida útil total estar entre 1 e 2: 0.3298\n"
          ]
        }
      ]
    },
    {
      "cell_type": "markdown",
      "source": [
        "# Questão Nº3"
      ],
      "metadata": {
        "id": "8W7jqB3vYIbp"
      }
    },
    {
      "cell_type": "markdown",
      "source": [
        "Considere uma pequena balsa que possa acomodar carros e ônibus. O pedágio para carros são R$ 30, e para ônibus, R$ 100. Sejam X e Y o número de carros e ônibus, respectivamente, levado em uma única viagem. Suponha que a distribuição conjunta de X e Y seja aquela dada na tabela do Exercício 1. Calcule a receita esperada de uma única viagem.\n"
      ],
      "metadata": {
        "id": "tTi71Pl2lyte"
      }
    },
    {
      "cell_type": "markdown",
      "source": [
        "**Receita Esperada da Balsa**\n",
        "\n",
        "Vamos usar a tabela de probabilidade conjunta do Exercício 1 e os pedágios para calcular a receita esperada."
      ],
      "metadata": {
        "id": "EwwgJ-ecm4Vv"
      }
    },
    {
      "cell_type": "code",
      "source": [
        "import pandas as pd\n",
        "import numpy as np\n",
        "\n",
        "print(\"\\n--- 3. Receita Esperada da Balsa ---\")\n",
        "\n",
        "# Tabela de probabilidade conjunta p(x, y) (a mesma do Exercício 1)\n",
        "data = {\n",
        "    '0': [0.025, 0.050, 0.125, 0.150, 0.100, 0.050],\n",
        "    '1': [0.015, 0.030, 0.075, 0.090, 0.060, 0.030],\n",
        "    '2': [0.010, 0.020, 0.050, 0.060, 0.040, 0.020]\n",
        "}\n",
        "index_x = [0, 1, 2, 3, 4, 5]\n",
        "df_prob = pd.DataFrame(data, index=index_x)\n",
        "df_prob.columns.name = 'y (ônibus)'\n",
        "df_prob.index.name = 'x (carros)'\n",
        "\n",
        "# Pedágios\n",
        "pedagio_carro = 30 # R$\n",
        "pedagio_onibus = 100 # R$\n",
        "\n",
        "# A receita R é uma função de X e Y: R = 30X + 100Y\n",
        "# A receita esperada E[R] = E[30X + 100Y] = Sum_x Sum_y (30x + 100y) * p(x, y)\n",
        "\n",
        "receita_esperada = 0\n",
        "for x in df_prob.index:\n",
        "    for y_str in df_prob.columns:\n",
        "        y_int = int(y_str)\n",
        "        prob_xy = df_prob.loc[x, y_str]\n",
        "        receita_xy = (pedagio_carro * x) + (pedagio_onibus * y_int)\n",
        "        receita_esperada += receita_xy * prob_xy\n",
        "        # print(f\"  X={x}, Y={y_int}, Receita={receita_xy}, Prob={prob_xy:.4f}, Contribuição={receita_xy * prob_xy:.4f}\")\n",
        "\n",
        "print(f\"Receita esperada de uma única viagem: R$ {receita_esperada:.2f}\")"
      ],
      "metadata": {
        "colab": {
          "base_uri": "https://localhost:8080/"
        },
        "id": "2TgcyJUlm_a-",
        "outputId": "2fff1080-2a02-4971-a511-e70300a1370b"
      },
      "execution_count": 3,
      "outputs": [
        {
          "output_type": "stream",
          "name": "stdout",
          "text": [
            "\n",
            "--- 3. Receita Esperada da Balsa ---\n",
            "Receita esperada de uma única viagem: R$ 154.00\n"
          ]
        }
      ]
    }
  ]
}
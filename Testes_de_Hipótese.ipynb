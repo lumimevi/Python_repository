{
  "nbformat": 4,
  "nbformat_minor": 0,
  "metadata": {
    "colab": {
      "provenance": [],
      "toc_visible": true,
      "authorship_tag": "ABX9TyM89ALPKhP87cRbWyn5LgDZ",
      "include_colab_link": true
    },
    "kernelspec": {
      "name": "python3",
      "display_name": "Python 3"
    },
    "language_info": {
      "name": "python"
    }
  },
  "cells": [
    {
      "cell_type": "markdown",
      "metadata": {
        "id": "view-in-github",
        "colab_type": "text"
      },
      "source": [
        "<a href=\"https://colab.research.google.com/github/lumimevi/Python_repository/blob/master/Testes_de_Hip%C3%B3tese.ipynb\" target=\"_parent\"><img src=\"https://colab.research.google.com/assets/colab-badge.svg\" alt=\"Open In Colab\"/></a>"
      ]
    },
    {
      "cell_type": "markdown",
      "source": [
        "## **Testes de Hipótese**\n",
        "\n",
        "Lourdes Milagros Mendoza Villavicencio"
      ],
      "metadata": {
        "id": "Oo_iU5mZSuA-"
      }
    },
    {
      "cell_type": "markdown",
      "source": [
        "# Questão Nº1"
      ],
      "metadata": {
        "id": "PdwcmRwOWftx"
      }
    },
    {
      "cell_type": "markdown",
      "source": [
        "Um fabricante de aspirina enche os frascos por peso em vez de fazê-lo por quantidade. Uma vez que cada frasco deve conter 100 comprimidos, o peso médio por unidade deve ser de 5 grains. Cada um dos 100 comprimidos retirados de um lote bastante grande é pesado, resultando em um peso médio amostral por comprimido de 4,87 grains e um desvio padrão da amostra de 35 grains. Essas informações fornecem forte evidência para concluir que a empresa não está enchendo seus vidros conforme anunciado? Teste as hipóteses apropriadas, usando α = 0,01, calculando primeiro o valor-p e depois comparando-o com o nível de significância especificado.\n"
      ],
      "metadata": {
        "id": "155Or5dHt1Ab"
      }
    },
    {
      "cell_type": "markdown",
      "source": [
        "\n",
        "**Peso dos Comprimidos de Aspirina (Teste de Hipóteses para Média)**\n"
      ],
      "metadata": {
        "id": "8amHM5jIvu8Z"
      }
    },
    {
      "cell_type": "code",
      "source": [
        "import numpy as np\n",
        "from scipy import stats\n",
        "\n",
        "print(\"--- 1. Peso dos Comprimidos de Aspirina ---\")\n",
        "\n",
        "# Dados fornecidos\n",
        "media_populacional_anunciada = 5.0 # grãos (H0: mu = 5.0)\n",
        "n_amostra = 100\n",
        "media_amostral = 4.87 # grãos\n",
        "desvio_padrao_amostral = 0.35 # grãos\n",
        "alpha = 0.01 # Nível de significância\n",
        "\n",
        "# Hipóteses:\n",
        "# H0: A empresa está enchendo os vidros conforme anunciado (peso médio = 5 grains) (mu = 5.0)\n",
        "# Ha: A empresa NÃO está enchendo os vidros conforme anunciado (peso médio != 5 grains) (mu != 5.0)\n",
        "# Este é um teste bicaudal.\n",
        "\n",
        "# Calcular a estatística de teste t\n",
        "# t = (média_amostral - média_populacional_anunciada) / (desvio_padrao_amostral / sqrt(n))\n",
        "t_statistic = (media_amostral - media_populacional_anunciada) / (desvio_padrao_amostral / np.sqrt(n_amostra))\n",
        "\n",
        "# Graus de liberdade\n",
        "df = n_amostra - 1\n",
        "\n",
        "# Calcular o valor-p para um teste bicaudal\n",
        "# p_value = 2 * P(T > |t_statistic|)\n",
        "p_value = 2 * (1 - stats.t.cdf(abs(t_statistic), df))\n",
        "\n",
        "print(f\"\\nDetalhes do Teste:\")\n",
        "print(f\"  Média populacional anunciada (mu_0): {media_populacional_anunciada} grãos\")\n",
        "print(f\"  Média amostral (x̄): {media_amostral} grãos\")\n",
        "print(f\"  Desvio padrão amostral (s): {desvio_padrao_amostral} grãos\")\n",
        "print(f\"  Tamanho da amostra (n): {n_amostra}\")\n",
        "print(f\"  Nível de significância (α): {alpha}\")\n",
        "print(f\"  Estatística de teste t: {t_statistic:.4f}\")\n",
        "print(f\"  Graus de liberdade (df): {df}\")\n",
        "print(f\"  Valor-p: {p_value:.4f}\")\n",
        "\n",
        "# Comparar o valor-p com o nível de significância\n",
        "print(\"\\nConclusão:\")\n",
        "if p_value < alpha:\n",
        "    print(f\"  Como o valor-p ({p_value:.4f}) é menor que α ({alpha}), rejeitamos a hipótese nula (H0).\")\n",
        "    print(f\"  Há forte evidência para concluir que a empresa NÃO está enchendo seus vidros conforme anunciado.\")\n",
        "else:\n",
        "    print(f\"  Como o valor-p ({p_value:.4f}) é maior ou igual a α ({alpha}), não há evidência suficiente para rejeitar a hipótese nula (H0).\")\n",
        "    print(f\"  Não há forte evidência para concluir que a empresa não está enchendo seus vidros conforme anunciado.\")"
      ],
      "metadata": {
        "colab": {
          "base_uri": "https://localhost:8080/"
        },
        "id": "zrv1Bc-9vyeB",
        "outputId": "10f09322-365f-40e0-ad27-8af4cd0c5784"
      },
      "execution_count": 1,
      "outputs": [
        {
          "output_type": "stream",
          "name": "stdout",
          "text": [
            "--- 1. Peso dos Comprimidos de Aspirina ---\n",
            "\n",
            "Detalhes do Teste:\n",
            "  Média populacional anunciada (mu_0): 5.0 grãos\n",
            "  Média amostral (x̄): 4.87 grãos\n",
            "  Desvio padrão amostral (s): 0.35 grãos\n",
            "  Tamanho da amostra (n): 100\n",
            "  Nível de significância (α): 0.01\n",
            "  Estatística de teste t: -3.7143\n",
            "  Graus de liberdade (df): 99\n",
            "  Valor-p: 0.0003\n",
            "\n",
            "Conclusão:\n",
            "  Como o valor-p (0.0003) é menor que α (0.01), rejeitamos a hipótese nula (H0).\n",
            "  Há forte evidência para concluir que a empresa NÃO está enchendo seus vidros conforme anunciado.\n"
          ]
        }
      ]
    },
    {
      "cell_type": "markdown",
      "source": [
        "# Questão Nº2"
      ],
      "metadata": {
        "id": "o95PTWeIXPYo"
      }
    },
    {
      "cell_type": "markdown",
      "source": [
        "Num estudo comparativo do tempo médio de adaptação, uma amostra aleatória, de 50\n",
        "homens e 50 mulheres de um grande complexo industrial, produziu os seguintes resultados:\n",
        "\n",
        "![image.png](data:image/png;base64,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)"
      ],
      "metadata": {
        "id": "fF9fXC47t234"
      }
    },
    {
      "cell_type": "markdown",
      "source": [
        "Que conclusões você poderia tirar para a população de homens e mulheres dessa indústria? (Indique as suposições feitas para resolver o problema.)\n"
      ],
      "metadata": {
        "id": "0_9Gm5wRt99c"
      }
    },
    {
      "cell_type": "markdown",
      "source": [
        "**Tempo Médio de Adaptação (Teste de Hipóteses para Diferença de Médias)**"
      ],
      "metadata": {
        "id": "Z_0I3BKOwEIi"
      }
    },
    {
      "cell_type": "code",
      "source": [
        "import numpy as np\n",
        "from scipy import stats\n",
        "\n",
        "print(\"\\n--- 2. Tempo Médio de Adaptação ---\")\n",
        "\n",
        "# Dados fornecidos para homens\n",
        "n_homens = 50\n",
        "media_homens = 3.2 # anos\n",
        "dp_homens = 0.8 # anos\n",
        "\n",
        "# Dados fornecidos para mulheres\n",
        "n_mulheres = 50\n",
        "media_mulheres = 3.7 # anos\n",
        "dp_mulheres = 0.9 # anos\n",
        "\n",
        "# Nível de significância (não especificado, comumente usa-se 0.05)\n",
        "alpha = 0.05\n",
        "\n",
        "# Hipóteses:\n",
        "# H0: Não há diferença no tempo médio de adaptação entre homens e mulheres (mu_homens - mu_mulheres = 0)\n",
        "# Ha: Há diferença no tempo médio de adaptação entre homens e mulheres (mu_homens - mu_mulheres != 0)\n",
        "# Este é um teste bicaudal.\n",
        "\n",
        "# Assunções:\n",
        "print(\"\\nAssunções para resolver o problema:\")\n",
        "print(\"1. As amostras de homens e mulheres são aleatórias e independentes.\")\n",
        "print(\"2. Os tamanhos das amostras são grandes (n_homens = 50, n_mulheres = 50), o que nos permite usar o Teorema do Limite Central, mesmo que as distribuições populacionais não sejam normais. Podemos, portanto, usar a distribuição Z para o teste de hipóteses.\")\n",
        "print(\"3. As variâncias populacionais são desconhecidas, mas como as amostras são grandes, podemos usar as variâncias amostrais como boas estimativas das variâncias populacionais.\")\n",
        "\n",
        "# Calcular a diferença das médias amostrais\n",
        "diff_medias = media_homens - media_mulheres\n",
        "\n",
        "# Calcular o erro padrão da diferença de médias\n",
        "# SE = sqrt((s1^2 / n1) + (s2^2 / n2))\n",
        "se_diff_means = np.sqrt((dp_homens**2 / n_homens) + (dp_mulheres**2 / n_mulheres))\n",
        "\n",
        "# Calcular a estatística de teste Z\n",
        "# Z = (diff_medias - 0) / SE\n",
        "z_statistic = diff_medias / se_diff_means\n",
        "\n",
        "# Calcular o valor-p para um teste bicaudal\n",
        "# p_value = 2 * P(Z > |z_statistic|)\n",
        "p_value = 2 * (1 - stats.norm.cdf(abs(z_statistic)))\n",
        "\n",
        "print(f\"\\nDetalhes do Teste:\")\n",
        "print(f\"  Média homens (x̄_H): {media_homens} anos, DP homens (s_H): {dp_homens} anos, n_H: {n_homens}\")\n",
        "print(f\"  Média mulheres (x̄_M): {media_mulheres} anos, DP mulheres (s_M): {dp_mulheres} anos, n_M: {n_mulheres}\")\n",
        "print(f\"  Diferença de médias amostrais (x̄_H - x̄_M): {diff_medias:.4f}\")\n",
        "print(f\"  Erro padrão da diferença: {se_diff_means:.4f}\")\n",
        "print(f\"  Estatística de teste Z: {z_statistic:.4f}\")\n",
        "print(f\"  Valor-p: {p_value:.4f}\")\n",
        "print(f\"  Nível de significância (α): {alpha}\")\n",
        "\n",
        "# Conclusão\n",
        "print(\"\\nConclusão:\")\n",
        "if p_value < alpha:\n",
        "    print(f\"  Como o valor-p ({p_value:.4f}) é menor que α ({alpha}), rejeitamos a hipótese nula (H0).\")\n",
        "    print(f\"  Há evidência estatística para concluir que existe uma diferença significativa no tempo médio de adaptação entre homens e mulheres nesta indústria.\")\n",
        "else:\n",
        "    print(f\"  Como o valor-p ({p_value:.4f}) é maior ou igual a α ({alpha}), não há evidência suficiente para rejeitar a hipótese nula (H0).\")\n",
        "    print(f\"  Não há evidência estatística para concluir que existe uma diferença significativa no tempo médio de adaptação entre homens e mulheres nesta indústria.\")"
      ],
      "metadata": {
        "colab": {
          "base_uri": "https://localhost:8080/"
        },
        "id": "PveiDmhqwGbi",
        "outputId": "8141c2f2-0557-47cb-94be-f2f4c639f22c"
      },
      "execution_count": 2,
      "outputs": [
        {
          "output_type": "stream",
          "name": "stdout",
          "text": [
            "\n",
            "--- 2. Tempo Médio de Adaptação ---\n",
            "\n",
            "Assunções para resolver o problema:\n",
            "1. As amostras de homens e mulheres são aleatórias e independentes.\n",
            "2. Os tamanhos das amostras são grandes (n_homens = 50, n_mulheres = 50), o que nos permite usar o Teorema do Limite Central, mesmo que as distribuições populacionais não sejam normais. Podemos, portanto, usar a distribuição Z para o teste de hipóteses.\n",
            "3. As variâncias populacionais são desconhecidas, mas como as amostras são grandes, podemos usar as variâncias amostrais como boas estimativas das variâncias populacionais.\n",
            "\n",
            "Detalhes do Teste:\n",
            "  Média homens (x̄_H): 3.2 anos, DP homens (s_H): 0.8 anos, n_H: 50\n",
            "  Média mulheres (x̄_M): 3.7 anos, DP mulheres (s_M): 0.9 anos, n_M: 50\n",
            "  Diferença de médias amostrais (x̄_H - x̄_M): -0.5000\n",
            "  Erro padrão da diferença: 0.1703\n",
            "  Estatística de teste Z: -2.9361\n",
            "  Valor-p: 0.0033\n",
            "  Nível de significância (α): 0.05\n",
            "\n",
            "Conclusão:\n",
            "  Como o valor-p (0.0033) é menor que α (0.05), rejeitamos a hipótese nula (H0).\n",
            "  Há evidência estatística para concluir que existe uma diferença significativa no tempo médio de adaptação entre homens e mulheres nesta indústria.\n"
          ]
        }
      ]
    },
    {
      "cell_type": "markdown",
      "source": [
        "# Questão Nº3"
      ],
      "metadata": {
        "id": "8W7jqB3vYIbp"
      }
    },
    {
      "cell_type": "markdown",
      "source": [
        "Uma das maneiras de medir o grau de satisfação dos empregados de uma mesma categoria quanto à política salarial é por meio do desvio padrão de seus salários. A fábrica A diz ser mais coerente na política salarial do que a fábrica B. Para verificar essa afirmação, sorteou-se uma amostra de 10 funcionários não especializados de A, e 15 de B, obtendo-se os desvios padrões s_A = 1.000 reais e s_B = 1.600 reais. Qual seria a sua conclusão?"
      ],
      "metadata": {
        "id": "MWdeZkZduDOu"
      }
    },
    {
      "cell_type": "markdown",
      "source": [
        "**Variabilidade Salarial entre Fábricas (Teste de Hipóteses para Razão de Variâncias)**"
      ],
      "metadata": {
        "id": "lQ92NZSQwM8_"
      }
    },
    {
      "cell_type": "code",
      "source": [
        "from scipy import stats\n",
        "\n",
        "print(\"\\n--- 3. Variabilidade Salarial entre Fábricas ---\")\n",
        "\n",
        "# Dados fornecidos\n",
        "n_A = 10 # Tamanho da amostra da Fábrica A\n",
        "s_A = 1000 # Desvio padrão amostral da Fábrica A\n",
        "\n",
        "n_B = 15 # Tamanho da amostra da Fábrica B\n",
        "s_B = 1600 # Desvio padrão amostral da Fábrica B\n",
        "\n",
        "# Nível de significância (não especificado, comumente usa-se 0.05)\n",
        "alpha = 0.05\n",
        "\n",
        "# Hipóteses:\n",
        "# Fábrica A diz ser mais coerente (menor variabilidade) que Fábrica B.\n",
        "# Isso significa que a variância da Fábrica A (sigma_A^2) é menor que a variância da Fábrica B (sigma_B^2).\n",
        "# H0: sigma_A^2 = sigma_B^2 (ou sigma_B^2 / sigma_A^2 = 1)\n",
        "# Ha: sigma_A^2 < sigma_B^2 (ou sigma_B^2 / sigma_A^2 > 1)\n",
        "# Este é um teste unicaudal (para a direita, se a razão for s_B^2 / s_A^2).\n",
        "\n",
        "# Para o teste F, a estatística é a razão das variâncias amostrais (sempre a maior dividida pela menor para facilitar a tabela,\n",
        "# mas para teste unicaudal, siga a hipótese).\n",
        "# Se Ha for sigma_A^2 < sigma_B^2, então esperamos s_A^2 < s_B^2.\n",
        "# A estatística F será F = s_B^2 / s_A^2\n",
        "\n",
        "F_statistic = (s_B**2) / (s_A**2)\n",
        "\n",
        "# Graus de liberdade\n",
        "df1 = n_B - 1 # Graus de liberdade do numerador (associado à maior variância amostral, s_B)\n",
        "df2 = n_A - 1 # Graus de liberdade do denominador (associado à menor variância amostral, s_A)\n",
        "\n",
        "# Calcular o valor-p\n",
        "# Para um teste unicaudal à direita: P(F > F_statistic)\n",
        "p_value = 1 - stats.f.cdf(F_statistic, df1, df2)\n",
        "\n",
        "print(f\"\\nDetalhes do Teste F:\")\n",
        "print(f\"  Fábrica A: n={n_A}, s={s_A} reais, s²={s_A**2} reais²\")\n",
        "print(f\"  Fábrica B: n={n_B}, s={s_B} reais, s²={s_B**2} reais²\")\n",
        "print(f\"  Estatística de teste F (s_B²/s_A²): {F_statistic:.4f}\")\n",
        "print(f\"  Graus de liberdade (df1, df2): ({df1}, {df2})\")\n",
        "print(f\"  Valor-p: {p_value:.4f}\")\n",
        "print(f\"  Nível de significância (α): {alpha}\")\n",
        "\n",
        "# Conclusão\n",
        "print(\"\\nConclusão:\")\n",
        "if p_value < alpha:\n",
        "    print(f\"  Como o valor-p ({p_value:.4f}) é menor que α ({alpha}), rejeitamos a hipótese nula (H0).\")\n",
        "    print(f\"  Há evidência estatística para concluir que a variabilidade salarial da Fábrica A é menor que a da Fábrica B (ou seja, a Fábrica A é mais coerente na política salarial do que a Fábrica B).\")\n",
        "else:\n",
        "    print(f\"  Como o valor-p ({p_value:.4f}) é maior ou igual a α ({alpha}), não há evidência suficiente para rejeitar a hipótese nula (H0).\")\n",
        "    print(f\"  Não há evidência estatística para concluir que a Fábrica A é mais coerente na política salarial do que a Fábrica B com base nestes dados.\")"
      ],
      "metadata": {
        "colab": {
          "base_uri": "https://localhost:8080/"
        },
        "id": "1AahY-vywRnB",
        "outputId": "caaedf2a-d3e0-44e2-d85f-691de4868e8b"
      },
      "execution_count": 3,
      "outputs": [
        {
          "output_type": "stream",
          "name": "stdout",
          "text": [
            "\n",
            "--- 3. Variabilidade Salarial entre Fábricas ---\n",
            "\n",
            "Detalhes do Teste F:\n",
            "  Fábrica A: n=10, s=1000 reais, s²=1000000 reais²\n",
            "  Fábrica B: n=15, s=1600 reais, s²=2560000 reais²\n",
            "  Estatística de teste F (s_B²/s_A²): 2.5600\n",
            "  Graus de liberdade (df1, df2): (14, 9)\n",
            "  Valor-p: 0.0799\n",
            "  Nível de significância (α): 0.05\n",
            "\n",
            "Conclusão:\n",
            "  Como o valor-p (0.0799) é maior ou igual a α (0.05), não há evidência suficiente para rejeitar a hipótese nula (H0).\n",
            "  Não há evidência estatística para concluir que a Fábrica A é mais coerente na política salarial do que a Fábrica B com base nestes dados.\n"
          ]
        }
      ]
    },
    {
      "cell_type": "markdown",
      "source": [
        "# Questão Nº4"
      ],
      "metadata": {
        "id": "ExxAkGP4oRs6"
      }
    },
    {
      "cell_type": "markdown",
      "source": [
        "A biblioteca de uma universidade rotineiramente faz o inventário completo das prateleiras uma vez por ano. Devido às novas regras de armazenamento nas prateleiras instituídas no ano anterior, o bibliotecário-chefe acredita ser possível economizar recursos adiando o inventário. Ele decide selecionar aleatoriamente 1000 livros da coleção da biblioteca para serem procurados de maneira preliminar. Se a evidência indicar fortemente que a proporção real de livros mal arquivados nas prateleiras ou que não podem ser localizados for menor que 0,02, então, o inventário será adiado.\n",
        "\n",
        "a. Dentre os 1000 livros procurados, 15 estavam mal arquivados ou não foram localizados. Teste as hipóteses relevantes e aconselhe o bibliotecário sobre o que fazer (use α = 0,05).\n",
        "\n",
        "b. Se a proporção real de livros mal arquivados ou perdidos nas prateleiras for realmente 0,01, qual é a probabilidade de o inventário ser (desnecessariamente) feito?\n",
        "\n",
        "c. Se a proporção real for 0,05, qual é a probabilidade de o inventário ser adiado?\n"
      ],
      "metadata": {
        "id": "6kwR1So9uE3L"
      }
    },
    {
      "cell_type": "markdown",
      "source": [
        "**Livros Mal Arquivados na Biblioteca (Teste de Hipóteses para Proporção e Probabilidade de Erros Tipo I e II)**"
      ],
      "metadata": {
        "id": "GYdpCl53wZz2"
      }
    },
    {
      "cell_type": "code",
      "source": [
        "import numpy as np\n",
        "from scipy import stats\n",
        "\n",
        "print(\"\\n--- 4. Livros Mal Arquivados na Biblioteca ---\")\n",
        "\n",
        "# Dados iniciais\n",
        "n_amostra = 1000 # livros\n",
        "alpha = 0.05 # Nível de significância\n",
        "p0 = 0.02 # Proporção limite para adiar o inventário (hipótese nula)\n",
        "\n",
        "# (a) Dentre os 1000 livros procurados, 15 estavam mal arquivados ou não foram localizados. Teste as hipóteses relevantes e aconselhe o bibliotecário sobre o que fazer (use α = 0,05).\n",
        "x_sucessos = 15 # livros mal arquivados/perdidos\n",
        "p_hat = x_sucessos / n_amostra # Proporção amostral\n",
        "\n",
        "# Hipóteses:\n",
        "# H0: A proporção real de livros mal arquivados/perdidos é >= 0.02 (p >= 0.02)\n",
        "# Ha: A proporção real de livros mal arquivados/perdidos é < 0.02 (p < 0.02)\n",
        "# Este é um teste unicaudal (para a esquerda).\n",
        "\n",
        "# Calcular a estatística de teste Z para proporção\n",
        "# Z = (p_hat - p0) / sqrt(p0 * (1 - p0) / n)\n",
        "se_p_hat = np.sqrt(p0 * (1 - p0) / n_amostra)\n",
        "z_statistic_a = (p_hat - p0) / se_p_hat\n",
        "\n",
        "# Calcular o valor-p para um teste unicaudal à esquerda\n",
        "# p_value = P(Z < z_statistic)\n",
        "p_value_a = stats.norm.cdf(z_statistic_a)\n",
        "\n",
        "print(f\"\\n(a) Teste de Hipóteses para Proporção:\")\n",
        "print(f\"  Proporção limite (p0): {p0}\")\n",
        "print(f\"  Proporção amostral (p̂): {p_hat:.4f}\")\n",
        "print(f\"  Tamanho da amostra (n): {n_amostra}\")\n",
        "print(f\"  Nível de significância (α): {alpha}\")\n",
        "print(f\"  Estatística de teste Z: {z_statistic_a:.4f}\")\n",
        "print(f\"  Valor-p: {p_value_a:.4f}\")\n",
        "\n",
        "print(\"\\nConclusão para (a):\")\n",
        "if p_value_a < alpha:\n",
        "    print(f\"  Como o valor-p ({p_value_a:.4f}) é menor que α ({alpha}), rejeitamos a hipótese nula (H0).\")\n",
        "    print(f\"  Isso significa que há forte evidência de que a proporção real de livros mal arquivados/perdidos é menor que 0.02.\")\n",
        "    print(f\"  **Aconselhamento ao bibliotecário: O inventário pode ser adiado.**\")\n",
        "else:\n",
        "    print(f\"  Como o valor-p ({p_value_a:.4f}) é maior ou igual a α ({alpha}), não há evidência suficiente para rejeitar a hipótese nula (H0).\")\n",
        "    print(f\"  Não há forte evidência de que a proporção real de livros mal arquivados/perdidos seja menor que 0.02.\")\n",
        "    print(f\"  **Aconselhamento ao bibliotecário: O inventário NÃO deve ser adiado.**\")\n",
        "\n",
        "\n",
        "# (b) Se a proporção real de livros mal arquivados ou perdidos nas prateleiras for realmente 0,01, qual é a probabilidade de o inventário ser (desnecessariamente) feito?\n",
        "# O inventário é feito se a H0 NÃO for rejeitada quando ela é realmente falsa (erro Tipo II), OU se a Ha NÃO for aceita quando ela é realmente verdadeira.\n",
        "# No contexto do problema, o inventário é feito se a evidência NÃO indicar fortemente que p < 0.02.\n",
        "# Ou seja, se o valor de p_hat for tal que Z_statistic >= Z_critico.\n",
        "# Neste caso, Ha: p < 0.02. A região crítica é Z < -Z_alpha.\n",
        "# Z_critico para α = 0.05 (teste unicaudal à esquerda)\n",
        "z_critical_b = stats.norm.ppf(alpha) # Para teste unicaudal à esquerda, Z_alpha\n",
        "\n",
        "# Se p_real = 0.01, queremos a probabilidade de p_hat levar a NÃO REJEITAR H0.\n",
        "# Isso significa P(Z_test_statistic >= Z_critical | p_real = 0.01)\n",
        "# O erro Tipo II (beta) é P(não rejeitar H0 | H0 é falsa).\n",
        "# A H0 é p >= 0.02. Se p_real = 0.01, H0 é falsa.\n",
        "# A região de aceitação de H0 (não rejeição de H0) é quando Z_test_statistic >= z_critical_b.\n",
        "# Queremos encontrar P(p_hat >= p_critico | p_real = 0.01)\n",
        "\n",
        "# Primeiro, encontre o valor crítico de p_hat que corresponde a z_critical_b\n",
        "# z_critical_b = (p_critico - p0) / se_p_hat_for_p0\n",
        "# p_critico = p0 + z_critical_b * se_p_hat_for_p0\n",
        "p_critical_threshold = p0 + z_critical_b * se_p_hat # Usando se_p_hat baseado em p0\n",
        "\n",
        "# Agora, calcule a probabilidade de p_hat ser maior ou igual a p_critical_threshold,\n",
        "# DADA a proporção real p_real = 0.01. Para isso, recalcule o erro padrão com p_real.\n",
        "se_p_hat_real = np.sqrt(0.01 * (1 - 0.01) / n_amostra)\n",
        "z_for_p_critical_given_real = (p_critical_threshold - 0.01) / se_p_hat_real\n",
        "\n",
        "# Probabilidade de o inventário ser feito = P(Z >= z_for_p_critical_given_real | p_real = 0.01)\n",
        "prob_inventario_feito = 1 - stats.norm.cdf(z_for_p_critical_given_real)\n",
        "\n",
        "print(f\"\\n(b) Probabilidade de o inventário ser (desnecessariamente) feito (quando p_real = 0.01):\")\n",
        "print(f\"  Z-crítico para α=0.05 (unicaudal esq.): {z_critical_b:.4f}\")\n",
        "print(f\"  Limiar crítico de p̂ para rejeitar H0: {p_critical_threshold:.4f}\")\n",
        "print(f\"  Erro padrão de p̂ sob p_real=0.01: {se_p_hat_real:.4f}\")\n",
        "print(f\"  Z-score do limiar crítico sob p_real=0.01: {z_for_p_critical_given_real:.4f}\")\n",
        "print(f\"  Probabilidade de o inventário ser feito (Erro Tipo II): {prob_inventario_feito:.4f}\")\n",
        "\n",
        "\n",
        "# (c) Se a proporção real for 0,05, qual é a probabilidade de o inventário ser adiado?\n",
        "# O inventário é adiado se a H0 for rejeitada (Z_statistic < z_critical_b).\n",
        "# Queremos P(Z_statistic < z_critical_b | p_real = 0.05)\n",
        "# Isso é P(p_hat < p_critical_threshold | p_real = 0.05)\n",
        "\n",
        "# Usar p_critical_threshold calculado anteriormente.\n",
        "# Recalcular o erro padrão com p_real = 0.05.\n",
        "se_p_hat_real_c = np.sqrt(0.05 * (1 - 0.05) / n_amostra)\n",
        "z_for_p_critical_given_real_c = (p_critical_threshold - 0.05) / se_p_hat_real_c\n",
        "\n",
        "# Probabilidade de o inventário ser adiado = P(Z < z_for_p_critical_given_real_c | p_real = 0.05)\n",
        "prob_inventario_adiado = stats.norm.cdf(z_for_p_critical_given_real_c)\n",
        "\n",
        "print(f\"\\n(c) Probabilidade de o inventário ser adiado (quando p_real = 0.05):\")\n",
        "print(f\"  Erro padrão de p̂ sob p_real=0.05: {se_p_hat_real_c:.4f}\")\n",
        "print(f\"  Z-score do limiar crítico sob p_real=0.05: {z_for_p_critical_given_real_c:.4f}\")\n",
        "print(f\"  Probabilidade de o inventário ser adiado: {prob_inventario_adiado:.4f}\")"
      ],
      "metadata": {
        "colab": {
          "base_uri": "https://localhost:8080/"
        },
        "id": "dWHG5KaZwehd",
        "outputId": "c5bb1d9b-12e4-428b-d8b9-8b39f065390e"
      },
      "execution_count": 4,
      "outputs": [
        {
          "output_type": "stream",
          "name": "stdout",
          "text": [
            "\n",
            "--- 4. Livros Mal Arquivados na Biblioteca ---\n",
            "\n",
            "(a) Teste de Hipóteses para Proporção:\n",
            "  Proporção limite (p0): 0.02\n",
            "  Proporção amostral (p̂): 0.0150\n",
            "  Tamanho da amostra (n): 1000\n",
            "  Nível de significância (α): 0.05\n",
            "  Estatística de teste Z: -1.1294\n",
            "  Valor-p: 0.1294\n",
            "\n",
            "Conclusão para (a):\n",
            "  Como o valor-p (0.1294) é maior ou igual a α (0.05), não há evidência suficiente para rejeitar a hipótese nula (H0).\n",
            "  Não há forte evidência de que a proporção real de livros mal arquivados/perdidos seja menor que 0.02.\n",
            "  **Aconselhamento ao bibliotecário: O inventário NÃO deve ser adiado.**\n",
            "\n",
            "(b) Probabilidade de o inventário ser (desnecessariamente) feito (quando p_real = 0.01):\n",
            "  Z-crítico para α=0.05 (unicaudal esq.): -1.6449\n",
            "  Limiar crítico de p̂ para rejeitar H0: 0.0127\n",
            "  Erro padrão de p̂ sob p_real=0.01: 0.0031\n",
            "  Z-score do limiar crítico sob p_real=0.01: 0.8638\n",
            "  Probabilidade de o inventário ser feito (Erro Tipo II): 0.1938\n",
            "\n",
            "(c) Probabilidade de o inventário ser adiado (quando p_real = 0.05):\n",
            "  Erro padrão de p̂ sob p_real=0.05: 0.0069\n",
            "  Z-score do limiar crítico sob p_real=0.05: -5.4095\n",
            "  Probabilidade de o inventário ser adiado: 0.0000\n"
          ]
        }
      ]
    },
    {
      "cell_type": "markdown",
      "source": [
        "# Questão Nº5"
      ],
      "metadata": {
        "id": "w9nygZ8ooUwy"
      }
    },
    {
      "cell_type": "markdown",
      "source": [
        "Os novos operários de uma empresa são treinados a operar uma máquina, cujo tempo X (em horas) de aprendizado é anotado. Observou-se que X segue de perto a distribuição N(25, 100). Uma nova técnica de ensino, que deve melhorar o tempo de aprendizado, foi testada em 16 novos empregados, os quais apresentaram 20,5 horas como tempo médio de aprendizado. Usando o valor-p, você diria que a nova técnica é melhor que a anterior?"
      ],
      "metadata": {
        "id": "epNfxUyduLBX"
      }
    },
    {
      "cell_type": "markdown",
      "source": [
        "**Tempo de Aprendizado de Operários (Teste de Hipóteses para Média com Desvio Padrão Populacional Conhecido)**"
      ],
      "metadata": {
        "id": "fNJf-YNowzLF"
      }
    },
    {
      "cell_type": "code",
      "source": [
        "import numpy as np\n",
        "from scipy import stats\n",
        "\n",
        "print(\"\\n--- 5. Tempo de Aprendizado de Operários ---\")\n",
        "\n",
        "# Dados da distribuição anterior (população)\n",
        "mu_0 = 25 # horas\n",
        "sigma = np.sqrt(100) # Desvio padrão = sqrt(Variância) = sqrt(100) = 10 horas\n",
        "\n",
        "# Dados da nova técnica de ensino (amostra)\n",
        "n_nova_tecnica = 16\n",
        "media_amostral_nova_tecnica = 20.5 # horas\n",
        "\n",
        "# Nível de significância (não especificado, comumente usa-se 0.05 para valor-p)\n",
        "alpha = 0.05 # Vamos usar um alpha padrão para a decisão.\n",
        "\n",
        "# Hipóteses:\n",
        "# H0: A nova técnica NÃO é melhor (tempo médio de aprendizado é >= 25 horas) (mu >= 25)\n",
        "# Ha: A nova técnica É melhor (tempo médio de aprendizado é < 25 horas) (mu < 25)\n",
        "# Este é um teste unicaudal (para a esquerda).\n",
        "\n",
        "# Calcular a estatística de teste Z\n",
        "# Z = (média_amostral - mu_0) / (sigma / sqrt(n))\n",
        "z_statistic = (media_amostral_nova_tecnica - mu_0) / (sigma / np.sqrt(n_nova_tecnica))\n",
        "\n",
        "# Calcular o valor-p para um teste unicaudal à esquerda\n",
        "# p_value = P(Z < z_statistic)\n",
        "p_value = stats.norm.cdf(z_statistic)\n",
        "\n",
        "print(f\"\\nDetalhes do Teste:\")\n",
        "print(f\"  Média populacional anterior (mu_0): {mu_0} horas\")\n",
        "print(f\"  Desvio padrão populacional (σ): {sigma} horas\")\n",
        "print(f\"  Média amostral da nova técnica (x̄): {media_amostral_nova_tecnica} horas\")\n",
        "print(f\"  Tamanho da amostra (n): {n_nova_tecnica}\")\n",
        "print(f\"  Estatística de teste Z: {z_statistic:.4f}\")\n",
        "print(f\"  Valor-p: {p_value:.4f}\")\n",
        "print(f\"  Nível de significância (α): {alpha}\")\n",
        "\n",
        "# Conclusão\n",
        "print(\"\\nConclusão:\")\n",
        "if p_value < alpha:\n",
        "    print(f\"  Como o valor-p ({p_value:.4f}) é menor que α ({alpha}), rejeitamos a hipótese nula (H0).\")\n",
        "    print(f\"  Há evidência estatística para concluir que a nova técnica de ensino é melhor que a anterior, pois o tempo médio de aprendizado é significativamente menor que 25 horas.\")\n",
        "else:\n",
        "    print(f\"  Como o valor-p ({p_value:.4f}) é maior ou igual a α ({alpha}), não há evidência suficiente para rejeitar a hipótese nula (H0).\")\n",
        "    print(f\"  Não há evidência estatística para concluir que a nova técnica de ensino é melhor que a anterior.\")"
      ],
      "metadata": {
        "colab": {
          "base_uri": "https://localhost:8080/"
        },
        "id": "jijX6BEhw3Xx",
        "outputId": "aa903f01-b45e-4d57-c1b9-d62d94812bd3"
      },
      "execution_count": 5,
      "outputs": [
        {
          "output_type": "stream",
          "name": "stdout",
          "text": [
            "\n",
            "--- 5. Tempo de Aprendizado de Operários ---\n",
            "\n",
            "Detalhes do Teste:\n",
            "  Média populacional anterior (mu_0): 25 horas\n",
            "  Desvio padrão populacional (σ): 10.0 horas\n",
            "  Média amostral da nova técnica (x̄): 20.5 horas\n",
            "  Tamanho da amostra (n): 16\n",
            "  Estatística de teste Z: -1.8000\n",
            "  Valor-p: 0.0359\n",
            "  Nível de significância (α): 0.05\n",
            "\n",
            "Conclusão:\n",
            "  Como o valor-p (0.0359) é menor que α (0.05), rejeitamos a hipótese nula (H0).\n",
            "  Há evidência estatística para concluir que a nova técnica de ensino é melhor que a anterior, pois o tempo médio de aprendizado é significativamente menor que 25 horas.\n"
          ]
        }
      ]
    }
  ]
}